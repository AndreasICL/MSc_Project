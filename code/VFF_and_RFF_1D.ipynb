{
  "nbformat": 4,
  "nbformat_minor": 0,
  "metadata": {
    "colab": {
      "name": "VFF_and_RFF_1D.ipynb",
      "provenance": [],
      "toc_visible": true,
      "authorship_tag": "ABX9TyPKygyYoPYI+ICBa0cVpDGJ",
      "include_colab_link": true
    },
    "kernelspec": {
      "name": "python3",
      "display_name": "Python 3"
    }
  },
  "cells": [
    {
      "cell_type": "markdown",
      "metadata": {
        "id": "view-in-github",
        "colab_type": "text"
      },
      "source": [
        "<a href=\"https://colab.research.google.com/github/AndreasICL/MSc_Project/blob/master/code/VFF_and_RFF_1D.ipynb\" target=\"_parent\"><img src=\"https://colab.research.google.com/assets/colab-badge.svg\" alt=\"Open In Colab\"/></a>"
      ]
    },
    {
      "cell_type": "code",
      "metadata": {
        "id": "fW-B5syh75r4",
        "colab_type": "code",
        "colab": {}
      },
      "source": [
        "!pip install tensorflow==2.2.0 > /dev/null\n",
        "!pip install gpflow > /dev/null\n",
        "!pip install gast > /dev/null\n",
        "!pip install observations > /dev/null"
      ],
      "execution_count": 1,
      "outputs": []
    },
    {
      "cell_type": "code",
      "metadata": {
        "id": "u3cwbeHz8Exr",
        "colab_type": "code",
        "colab": {}
      },
      "source": [
        "from typing import Tuple, Optional\n",
        "import tempfile\n",
        "import pathlib\n",
        "\n",
        "import datetime\n",
        "import io\n",
        "import matplotlib.pyplot as plt\n",
        "\n",
        "import numpy as np\n",
        "import tensorflow as tf\n",
        "import gpflow\n",
        "\n",
        "import matplotlib.pyplot as plt\n",
        "\n",
        "from gpflow.config import default_float, default_jitter\n",
        "from gpflow.ci_utils import ci_niter\n",
        "from gpflow.utilities import to_default_float\n",
        "from gpflow.base import TensorLike\n",
        "from gpflow import covariances as cov\n",
        "from gpflow import kullback_leiblers as kl\n",
        "from gpflow.covariances import Kuu\n",
        "from gpflow.covariances import Kuf\n",
        "\n",
        "from __future__ import absolute_import\n",
        "from __future__ import division\n",
        "from __future__ import print_function\n",
        "\n",
        "import csv\n",
        "import numpy as np\n",
        "import os\n",
        "import sys\n",
        "from shutil import copyfile, rmtree\n",
        "import pickle \n",
        "\n",
        "import observations\n",
        "\n",
        "import warnings\n",
        "\n",
        "warnings.filterwarnings(\"ignore\")\n",
        "sys.path.insert(0,'./VFF/')\n",
        "\n",
        "import VFF_IV\n",
        "from RVFF_IV_1D import RVFF_1D"
      ],
      "execution_count": 2,
      "outputs": []
    },
    {
      "cell_type": "markdown",
      "metadata": {
        "id": "y5FxoiegAZe1",
        "colab_type": "text"
      },
      "source": [
        "Make `tensorboard` work inside notebook:"
      ]
    },
    {
      "cell_type": "code",
      "metadata": {
        "id": "YmCOr2hs8355",
        "colab_type": "code",
        "colab": {}
      },
      "source": [
        "output_logdir = \"/tmp/tensorboard\"\n",
        "\n",
        "!rm -rf \"{output_logdir}\"\n",
        "!mkdir \"{output_logdir}\"\n",
        "\n",
        "%load_ext tensorboard\n",
        "%matplotlib inline\n",
        "\n",
        "\n",
        "def enumerated_logdir(_logdir_id: int = [0]):\n",
        "    logdir = pathlib.Path(output_logdir, str(_logdir_id[0]))\n",
        "    _logdir_id[0] += 1\n",
        "    return str(logdir)"
      ],
      "execution_count": 3,
      "outputs": []
    },
    {
      "cell_type": "markdown",
      "metadata": {
        "id": "8A27JdlvAZfE",
        "colab_type": "text"
      },
      "source": [
        "Set up random seeds and default float for `gpflow` tensors:"
      ]
    },
    {
      "cell_type": "code",
      "metadata": {
        "id": "flnWsQF1_h3W",
        "colab_type": "code",
        "colab": {}
      },
      "source": [
        "gpflow.config.set_default_float(np.float64)\n",
        "np.random.seed(0)\n",
        "tf.random.set_seed(0)"
      ],
      "execution_count": 4,
      "outputs": []
    },
    {
      "cell_type": "markdown",
      "metadata": {
        "id": "eJsA3bUEAZfP",
        "colab_type": "text"
      },
      "source": [
        "## Loading the snelson dataset"
      ]
    },
    {
      "cell_type": "code",
      "metadata": {
        "id": "uZDkEmxQEqqN",
        "colab_type": "code",
        "colab": {}
      },
      "source": [
        "'''\n",
        "  This code was copied from https://github.com/edwardlib/observations/blob/master/observations/snelson1d.py\n",
        "  on 01/05/2020\n",
        "'''\n",
        "\n",
        "from observations.util import maybe_download_and_extract\n",
        "\n",
        "\n",
        "def snelson1d(path):\n",
        "  \"\"\"Load Edward Snelson's 1d regression data set [@snelson2006fitc].\n",
        "  It contains 200 examples of a few oscillations of an example function. It has\n",
        "  seen extensive use as a toy dataset for illustrating qualitative behaviour of\n",
        "  Gaussian process approximations.\n",
        "  Args:\n",
        "    path: str.\n",
        "      Path to directory which either stores file or otherwise file will be\n",
        "      downloaded and extracted there. Filenames are `snelson_train_*`.\n",
        "  Returns:\n",
        "    Tuple of two np.darray `inputs` and `outputs` with 200 rows and 1 column.\n",
        "  \"\"\"\n",
        "  path = os.path.expanduser(path)\n",
        "  inputs_path = os.path.join(path, 'snelson_train_inputs')\n",
        "  outputs_path = os.path.join(path, 'snelson_train_outputs')\n",
        "\n",
        "  # Contains all source as well. We just need the data.\n",
        "  url = 'http://www.gatsby.ucl.ac.uk/~snelson/SPGP_dist.zip'\n",
        "\n",
        "  if not (os.path.exists(inputs_path) and os.path.exists(outputs_path)):\n",
        "    maybe_download_and_extract(path, url)\n",
        "\n",
        "    # Copy the required data\n",
        "    copyfile(os.path.join(path, \"SPGP_dist\", \"train_inputs\"), inputs_path)\n",
        "    copyfile(os.path.join(path, \"SPGP_dist\", \"train_outputs\"), outputs_path)\n",
        "\n",
        "    # Clean up everything else\n",
        "    rmtree(os.path.join(path, \"SPGP_dist\"))\n",
        "    os.remove(os.path.join(path, \"SPGP_dist.zip\"))\n",
        "\n",
        "  X = np.loadtxt(os.path.join(inputs_path))[:, None]\n",
        "  Y = np.loadtxt(os.path.join(outputs_path))[:, None]\n",
        "\n",
        "  return X, Y"
      ],
      "execution_count": 5,
      "outputs": []
    },
    {
      "cell_type": "code",
      "metadata": {
        "id": "5cwgLNj8Hw2h",
        "colab_type": "code",
        "colab": {}
      },
      "source": [
        "X, Y = snelson1d(\".\")\n",
        "num_train_data = X.shape[0]"
      ],
      "execution_count": 6,
      "outputs": []
    },
    {
      "cell_type": "markdown",
      "metadata": {
        "id": "Zg8Cz-6OAZfb",
        "colab_type": "text"
      },
      "source": [
        "Working with TensorFlow Datasets is an efficient way to rapidly shuffle, iterate, and batch from data. For `prefetch` size we use `tf.data.experimental.AUTOTUNE` as recommended by TensorFlow [guidelines](https://www.tensorflow.org/guide/data_performance)."
      ]
    },
    {
      "cell_type": "code",
      "metadata": {
        "id": "DUfgEr7aAZfc",
        "colab_type": "code",
        "colab": {
          "base_uri": "https://localhost:8080/",
          "height": 69
        },
        "outputId": "d7af81c7-2af2-4cc6-d214-b52290113d6d"
      },
      "source": [
        "train_dataset = tf.data.Dataset.from_tensor_slices((X, Y))\n",
        "\n",
        "batch_size = 32\n",
        "num_features = 10\n",
        "prefetch_size = tf.data.experimental.AUTOTUNE\n",
        "shuffle_buffer_size = num_train_data // 2\n",
        "num_batches_per_epoch = num_train_data // batch_size\n",
        "\n",
        "original_train_dataset = train_dataset\n",
        "train_dataset = (\n",
        "    train_dataset.repeat()\n",
        "    .prefetch(prefetch_size)\n",
        "    .shuffle(buffer_size=shuffle_buffer_size)\n",
        "    .batch(batch_size)\n",
        ")\n",
        "\n",
        "print(f\"prefetch_size={prefetch_size}\")\n",
        "print(f\"shuffle_buffer_size={shuffle_buffer_size}\")\n",
        "print(f\"num_batches_per_epoch={num_batches_per_epoch}\")"
      ],
      "execution_count": 7,
      "outputs": [
        {
          "output_type": "stream",
          "text": [
            "prefetch_size=-1\n",
            "shuffle_buffer_size=100\n",
            "num_batches_per_epoch=6\n"
          ],
          "name": "stdout"
        }
      ]
    },
    {
      "cell_type": "code",
      "metadata": {
        "id": "Cw0x2y48cvDj",
        "colab_type": "code",
        "colab": {}
      },
      "source": [
        "from gpflow.conditionals import conditional\n",
        "\n",
        "def plot(Xtest, models):\n",
        "\n",
        "  for (mean, std, meanColour, stdColour) in models:\n",
        "    plt.plot(Xtest, mean, color=meanColour)\n",
        "\n",
        "    plt.plot(Xtest, mean + std, color=stdColour)\n",
        "    plt.plot(Xtest, mean - std, color=stdColour)\n",
        "    plt.fill_between(np.squeeze(Xtest), np.squeeze(mean + std), np.squeeze(mean - std), color=stdColour, alpha=0.2)\n",
        "  \n",
        "\n",
        "  plt.scatter(X, Y, s=15)\n",
        "\n",
        "  plt.show()\n",
        "\n"
      ],
      "execution_count": 8,
      "outputs": []
    },
    {
      "cell_type": "markdown",
      "metadata": {
        "id": "x39wkv8EU6CT",
        "colab_type": "text"
      },
      "source": [
        "#Model Definition:\n",
        "\n",
        "###We use exact inference first"
      ]
    },
    {
      "cell_type": "code",
      "metadata": {
        "id": "H_4SWCm5VV8H",
        "colab_type": "code",
        "colab": {
          "base_uri": "https://localhost:8080/",
          "height": 69
        },
        "outputId": "db62e752-7e73-4fa1-85a8-b266ce340950"
      },
      "source": [
        "\n",
        "kernel = gpflow.kernels.Matern12(variance=0.5, lengthscales=0.5)\n",
        "likelihood = gpflow.likelihoods.Gaussian()\n",
        "\n",
        "exactModel = gpflow.models.GPR( (X, Y), kernel )\n",
        "\n",
        "gpflow.utilities.set_trainable(kernel.lengthscales, True)\n",
        "gpflow.utilities.set_trainable(kernel.variance, True)\n",
        "\n",
        "optimizer = tf.optimizers.Adam(learning_rate=0.01)\n",
        "\n",
        "@tf.function\n",
        "def loss_closure():\n",
        "  return -exactModel.log_marginal_likelihood()\n",
        "\n",
        "optimizer = gpflow.optimizers.Scipy()\n",
        "result = optimizer.minimize(loss_closure, exactModel.trainable_variables, options=dict(maxiter=1000, disp=True))\n",
        "\n",
        "print(\"result:\")\n",
        "print(result.message)\n",
        "\n",
        "print(exactModel.log_marginal_likelihood())\n",
        "\n",
        "Xtest = np.arange(0.0, 6.0, 0.01).reshape(-1, 1)\n",
        "\n",
        "# for i in range(1000):\n",
        "#   if i % 200 == 0:\n",
        "#     print(i)\n",
        "#     print(\"kernel lengthscale: %2.2f\" % kernel.lengthscales.read_value())\n",
        "#     print(\"kernel variance: %2.2f\" % kernel.variance.read_value())\n",
        "#     print(\"Exact model log p(y): %2.2f\" % exactModel.log_marginal_likelihood() )\n",
        "#     print(\"=\" * 70)\n",
        "\n",
        "#   optimizer.minimize( loss=loss_closure, var_list=exactModel.trainable_variables )\n",
        "\n",
        "# print(\"Exact model log p(y): %2.2f\" % exactModel.log_marginal_likelihood() )"
      ],
      "execution_count": 9,
      "outputs": [
        {
          "output_type": "stream",
          "text": [
            "result:\n",
            "b'CONVERGENCE: REL_REDUCTION_OF_F_<=_FACTR*EPSMCH'\n",
            "tf.Tensor(-68.30588480647597, shape=(), dtype=float64)\n"
          ],
          "name": "stdout"
        }
      ]
    },
    {
      "cell_type": "markdown",
      "metadata": {
        "id": "JurwmO73VKF5",
        "colab_type": "text"
      },
      "source": [
        "###We now use approximate inference with Random Variational Fourier Features"
      ]
    },
    {
      "cell_type": "code",
      "metadata": {
        "id": "J1ekb08iAZfo",
        "colab_type": "code",
        "colab": {
          "base_uri": "https://localhost:8080/",
          "height": 1000
        },
        "outputId": "fcbdde1c-73db-4e2c-cc10-a827ab9bf19a"
      },
      "source": [
        "from scipy.optimize import fmin_l_bfgs_b\n",
        "from tensorflow_probability import optimizer\n",
        "from tensorflow_probability import math\n",
        "import copy\n",
        "\n",
        "tf.config.experimental_run_functions_eagerly(True)\n",
        "\n",
        "M = 100\n",
        "inducing_variable = RVFF_1D( a=0, b=6, M=M )\n",
        "\n",
        "kernel2 = gpflow.kernels.Matern12(variance=1.0, lengthscales=0.7)\n",
        "\n",
        "model = gpflow.models.SGPR(\n",
        "    (X, Y), kernel=kernel2, inducing_variable=inducing_variable\n",
        ")\n",
        "\n",
        "# optimizer = tf.optimizers.Adam(learning_rate=0.01)\n",
        "\n",
        "gpflow.set_trainable(kernel2.variance, True)\n",
        "gpflow.set_trainable(kernel2.lengthscales, True)\n",
        "gpflow.set_trainable(model.likelihood, True)\n",
        "gpflow.set_trainable(model.inducing_variable.a, False)\n",
        "gpflow.set_trainable(model.inducing_variable.b, False)\n",
        "gpflow.set_trainable(model.inducing_variable.phis, True)\n",
        "gpflow.set_trainable(model.inducing_variable.omegas, True)\n",
        "\n",
        "@tf.function\n",
        "def loss_closure():\n",
        "  return -model.elbo()\n",
        "\n",
        "def callback(step, variables, values):\n",
        "  if (step % 20 == 0):\n",
        "    print(model.elbo())\n",
        "    # print(model.inducing_variable.omegas)\n",
        "\n",
        "def callback(values):\n",
        "  print(model.elbo())\n",
        "  print(model.inducing_variable.omegas.numpy())\n",
        "\n",
        "def assignParams(model, params):\n",
        "  index = 0\n",
        "  for var in model.trainable_variables:\n",
        "    \n",
        "    if var.numpy().shape == ():\n",
        "      param = params[index]\n",
        "      index += 1\n",
        "    else:\n",
        "      param = params[index:index + len(var.numpy())]\n",
        "      index += len(var.numpy())\n",
        "    \n",
        "    var.assign(param)\n",
        "\n",
        "# def evaluateELBO(params):\n",
        "#   newModel = copy.deepcopy(model)\n",
        "#   assignParams(newModel, params)\n",
        "#   with tf.GradientTape() as tape:\n",
        "#     tape.watch(newModel.trainable_variables)\n",
        "#     loss = newModel.elbo()\n",
        "#   return loss\n",
        "\n",
        "@tf.function\n",
        "def loss(parameters):\n",
        "  \n",
        "  assignParams(model, parameters)\n",
        "\n",
        "  with tf.GradientTape() as tape:\n",
        "    tape.watch(model.trainable_variables)\n",
        "    loss = -model.elbo()\n",
        "  grad2 = tape.gradient(loss, model.trainable_variables)\n",
        "  \n",
        "  # print(model.inducing_variable.omegas.numpy())\n",
        "  # print(grad2[0])\n",
        "\n",
        "  return loss, np.array(flattenParams(grad2), dtype=default_float())\n",
        "\n",
        "# def grad_function(variables):\n",
        "#   variables = tf.constant(variables)\n",
        "#   with tf.GradientTape(watch_accessed_variables=False) as tape:\n",
        "#     tape.watch(variables)\n",
        "#     loss_ = loss(variables)\n",
        "#   # vars = model.trainable_variables\n",
        "#   grads = tape.gradient(loss_, variables)\n",
        "\n",
        "#   print(\"grads:\")\n",
        "#   print(grads)  \n",
        "\n",
        "#   return loss_, grads\n",
        "\n",
        "def flattenParams(params):\n",
        "  params = list(params)\n",
        "  for i, _ in enumerate(params):\n",
        "    params[i] = np.array(params[i].numpy(), dtype=default_float()).reshape(-1)\n",
        "  \n",
        "  result = np.concatenate(params)\n",
        "  \n",
        "  return tf.constant(result)\n",
        "\n",
        "# print(model.elbo())\n",
        "mean, std = model.predict_f(Xtest, False, False)\n",
        "std = tf.sqrt(std)\n",
        "plot(Xtest, [(mean, std, 'r', 'c')])\n",
        "print(model.elbo())\n",
        "\n",
        "# optimizer = gpflow.optimizers.Scipy()\n",
        "# result = optimizer.minimize(loss_closure, model.trainable_variables, method='L-BFGS-B', step_callback=callback, options=dict(maxiter=1000, disp=True), maxls=20)\n",
        "# result = optimizer.lbfgs_minimize(value_and_gradients_function=loss, tolerance=1e-5, initial_position=flattenParams(model.trainable_variables), max_iterations=100)\n",
        "x, f, d = fmin_l_bfgs_b(func=loss, x0=flattenParams(model.trainable_variables), callback=callback, maxiter=200, disp=1, maxls=20)\n",
        "\n",
        "print(\"result:\")\n",
        "# print(result.converged)\n",
        "print(d['grad'])\n",
        "\n",
        "# assignParams(model, result.position)\n",
        "print(model.elbo())\n",
        "# print(model.inducing_variable.omegas)\n",
        "\n",
        "# print(model.elbo())\n",
        "# minimize(loss, model.trainable_variables, tol=1e-3, method=\"BFGS\", options={'maxiter':1000, 'disp':True} )\n",
        "# print(model.elbo())\n",
        "\n",
        "# prevElbo = 1000\n",
        "\n",
        "# for i in range(10000):\n",
        "#   if i % 200 == 0:\n",
        "#     elbo = model.elbo()    \n",
        "#     print(\"Iteration: %2d\" % i)\n",
        "#     print(\"kernel lengthscale: %2.2f\" % kernel2.lengthscales.read_value())\n",
        "#     print(\"kernel variance: %2.2f\" % kernel2.variance.read_value())\n",
        "#     print(\"ELBO: %2.2f\" % elbo )\n",
        "#     print(\"=\" * 70)\n",
        "\n",
        "    # if tf.abs(prevElbo - elbo) < 1e-2:\n",
        "    #   break\n",
        "\n",
        "    # prevElbo = elbo\n",
        "\n",
        "  # optimizer.minimize( closure=loss_closure, tol=1e-2, variables=model.trainable_variables, method='BFGS', options=dict( disp=True ) )\n",
        "  # optimizer.minimize( loss=loss_closure, var_list=model.trainable_variables )\n",
        "\n",
        "\n",
        "mean, std = model.predict_f(Xtest, False, False)\n",
        "std = tf.sqrt(std)\n",
        "plot(Xtest, [(mean, std, 'r', 'c')])\n",
        "\n",
        "print( \"Variational Model ELBO is %3.2f\" % model.elbo() )"
      ],
      "execution_count": 10,
      "outputs": [
        {
          "output_type": "display_data",
          "data": {
            "image/png": "[encoded data removed]",
            "text/plain": [
              "<Figure size 432x288 with 1 Axes>"
            ]
          },
          "metadata": {
            "tags": [],
            "needs_background": "light"
          }
        },
        {
          "output_type": "stream",
          "text": [
            "tf.Tensor(-231.891322765684, shape=(), dtype=float64)\n",
            "result:\n",
            "[ 1.60424459e+05  3.66651663e+00 -4.78970493e+04 -1.24445897e+01\n",
            "  4.99647569e+01 -1.40946303e+07  2.33141260e+04 -2.01639808e+07\n",
            "  2.74872969e+03 -1.09627996e+01 -6.50436541e+02  9.96195562e+02\n",
            "  3.11800166e+07  3.76446434e+03 -1.39167067e+01 -2.56797771e+01\n",
            " -1.57503154e+03 -1.84082852e+06  1.82736355e+03  1.88441334e+07\n",
            "  1.03750311e+06  1.39928056e-01 -1.39665703e+01  2.70941175e+06\n",
            "  2.66815114e+04  1.92109204e+06 -2.61672613e+03 -1.36928002e+04\n",
            " -2.80895871e+06  2.01665429e+03 -7.26889552e+06  1.72911527e+04\n",
            "  2.49109329e+01  8.01971826e+03  3.07563095e+07 -3.24404459e+06\n",
            "  1.56681177e+07 -1.12223977e+08  1.12352770e+08  3.42799438e+05\n",
            " -1.69927966e+03 -2.31987658e+01  2.56131783e+04  1.33160583e+03\n",
            "  4.10560623e+03  7.65184963e+07  3.58856422e+00  2.75612954e-01\n",
            " -1.14769835e+05 -7.08360159e-02 -1.20917823e+01 -8.22921557e+02\n",
            "  2.93490204e+01 -7.68000429e+07  1.44656685e+01 -9.78885601e+02\n",
            " -4.09193830e+03 -2.18139449e+06  2.15513545e+02 -1.83174430e+01\n",
            " -3.03583687e+07 -2.96554559e+03 -7.17631662e+05  9.09664295e+02\n",
            " -1.01557078e-01  1.48696030e+01  8.21752111e+01  2.73364298e+01\n",
            "  2.20410818e+08 -5.67102471e+01  1.45212363e+01  6.07457211e+00\n",
            "  6.53701920e+02  2.52696010e+03  4.31709130e-01 -2.14716907e+03\n",
            "  1.73365044e-01  4.14856420e+02 -9.52012601e+07 -3.35002862e+00\n",
            "  1.28639708e+01 -6.09768583e+05 -7.76053795e+06 -1.09315102e+02\n",
            " -3.18313437e+02  8.26239004e+07  4.11518647e+01  3.04215793e+06\n",
            " -2.21763894e+08 -1.23863286e+02  5.20128190e+02 -1.68950809e+02\n",
            "  5.24987768e+01 -6.32247274e+01 -4.76406297e+04 -2.10846166e-01\n",
            " -1.01510881e+03 -7.86813664e+01 -2.46092630e+00 -4.09476475e+05\n",
            " -1.73869318e+00 -2.48429297e+00  4.42052383e-02 -1.50218854e+00\n",
            " -3.38347501e-01  2.86253169e-02  1.87611323e-02  1.61249571e-01\n",
            " -8.62148258e-01 -1.25922864e+00  3.17834218e+01  3.03858934e-01\n",
            "  5.84110022e-02 -7.97542403e+00 -3.26788232e-01  8.10445705e-01\n",
            "  2.07312302e-02  1.05354524e-01  5.64052755e-02  1.38847061e+00\n",
            "  2.59656762e-02 -4.23495201e-03 -7.24432121e-02 -4.57228654e+00\n",
            " -9.85473281e+00 -1.11812838e+00  8.95966419e-01 -3.17165074e+01\n",
            "  3.52509870e+00  3.45630015e+01 -2.34794654e-02  2.42216269e-01\n",
            "  2.26583129e+01  2.05477308e+00  4.96991575e-02 -2.85649663e-02\n",
            " -7.22645447e-02 -1.86850345e+00  2.76468486e+00 -7.01964643e+00\n",
            "  7.92230886e+00  2.74429407e+00 -8.27577367e-02 -6.67998059e+00\n",
            " -3.81293967e+00 -1.69930369e-01  4.75519197e+00  1.56798152e-03\n",
            " -3.27798503e-01 -8.73785878e-01 -9.67710050e+00  8.23334993e-02\n",
            "  5.53691726e-01 -1.08037233e+00 -1.02386095e+01  2.88262637e-01\n",
            "  3.87261302e+00  9.61445356e-02  1.25980926e+01 -1.76925798e+01\n",
            " -4.89784330e-02 -3.22003907e+01  4.69638463e-02  9.37528307e-02\n",
            "  8.38070945e-01  2.76227578e-01  7.45880522e-01 -4.30034329e+00\n",
            " -2.14987159e-01 -3.15599287e+00  4.64464980e-01  2.21732225e+00\n",
            " -5.18994824e+01 -6.52018138e-01 -1.07937066e-01  1.26100290e-01\n",
            "  3.85908418e-01  9.60056087e+00  3.21502209e-01 -7.32064791e-01\n",
            "  4.34855990e-01  2.43512542e-01 -7.41856769e-02  3.83664565e+00\n",
            " -1.75804428e+01  1.98231596e+00 -2.17528598e+00  3.22799999e-02\n",
            "  2.55670190e-01  6.76005716e+00 -2.59662120e-01  4.72078144e+01\n",
            "  9.49384703e+00  6.91398699e+00 -3.47184649e-02  1.07094478e+00\n",
            " -3.05693922e-01  3.48744238e+00 -1.36665404e+00  3.55871718e+00\n",
            " -8.78130146e+00  1.20942684e+01  4.15398987e+01]\n",
            "tf.Tensor(-231.891322765684, shape=(), dtype=float64)\n"
          ],
          "name": "stdout"
        },
        {
          "output_type": "display_data",
          "data": {
            "image/png": "[encoded data removed]",
            "text/plain": [
              "<Figure size 432x288 with 1 Axes>"
            ]
          },
          "metadata": {
            "tags": [],
            "needs_background": "light"
          }
        },
        {
          "output_type": "stream",
          "text": [
            "Variational Model ELBO is -231.89\n"
          ],
          "name": "stdout"
        }
      ]
    },
    {
      "cell_type": "code",
      "metadata": {
        "id": "bGNoVizs0lLs",
        "colab_type": "code",
        "colab": {}
      },
      "source": [
        "with open('./model', 'wb') as fp:\n",
        "    # pickle.dump(model.trainable_parameters, fp)\n",
        "    pickle.dump(inducing_variable.omegas, fp)\n",
        "    pickle.dump(inducing_variable.phis, fp)\n",
        "    pickle.dump(model.likelihood.variance, fp)"
      ],
      "execution_count": 11,
      "outputs": []
    },
    {
      "cell_type": "code",
      "metadata": {
        "id": "FCnyqPZRB0md",
        "colab_type": "code",
        "colab": {
          "base_uri": "https://localhost:8080/",
          "height": 301
        },
        "outputId": "8d4e134e-1c7e-4dce-cebc-fc1fb56f47f5"
      },
      "source": [
        "mean, std = model.predict_f(Xtest, False, False)\n",
        "std = tf.sqrt(std)\n",
        "plot(Xtest, [(mean, std, 'r', 'c')])\n",
        "\n",
        "print(\"ELBO of SGPR model is %4.2f\" % model.elbo().numpy())\n",
        "print(\"log( p( Y | θ ) ) of exact GP is %4.2f\" % exactModel.log_marginal_likelihood().numpy())"
      ],
      "execution_count": 12,
      "outputs": [
        {
          "output_type": "display_data",
          "data": {
            "image/png": "[encoded data removed]",
            "text/plain": [
              "<Figure size 432x288 with 1 Axes>"
            ]
          },
          "metadata": {
            "tags": [],
            "needs_background": "light"
          }
        },
        {
          "output_type": "stream",
          "text": [
            "ELBO of SGPR model is -231.89\n",
            "log( p( Y | θ ) ) of exact GP is -68.31\n"
          ],
          "name": "stdout"
        }
      ]
    },
    {
      "cell_type": "code",
      "metadata": {
        "id": "pmNm3Mr1Eofb",
        "colab_type": "code",
        "colab": {
          "base_uri": "https://localhost:8080/",
          "height": 702
        },
        "outputId": "65453727-0492-41d0-e93e-167b19420618"
      },
      "source": [
        "def testFeatureequivalence(tol):\n",
        "  VFFlength = 3\n",
        "  RVFFlength = 2 * VFFlength - 1\n",
        "\n",
        "  VFFinducingVar = VFF_IV.FourierFeatures1D(0, 6, VFFlength)\n",
        "  VFFmodel = gpflow.models.SGPR((X, Y), kernel2, VFFinducingVar)\n",
        "\n",
        "  RVFFinducingVar = RVFF_1D(0, 6, RVFFlength)\n",
        "\n",
        "  RVFFfrequencies = tf.concat( ( VFFinducingVar.omegas, tf.reshape( tf.gather( VFFinducingVar.omegas, tf.where( VFFinducingVar.omegas != 0.0 ) ), [-1] ) ), axis=0 )\n",
        "  RVFFphases = tf.concat( ( np.pi / ( 2 * VFFinducingVar.omegas[1:VFFlength] ), tf.zeros(RVFFlength - VFFlength, dtype=default_float()) ), axis=0 )\n",
        "  RVFFphases = tf.concat( ( tf.constant([ np.pi / 2 ], dtype=default_float()), RVFFphases ), axis=0 )\n",
        "\n",
        "  RVFFinducingVar.omegas.assign( RVFFfrequencies )\n",
        "  RVFFinducingVar.phis.assign( RVFFphases )\n",
        "\n",
        "  RVFFmodel = gpflow.models.SGPR((X, Y), kernel2, RVFFinducingVar)\n",
        "\n",
        "  RVFFKuu = Kuu(RVFFinducingVar, kernel2)\n",
        "  VFFKuu = Kuu(VFFinducingVar, kernel2)\n",
        "\n",
        "  print(RVFFKuu)\n",
        "  print(VFFKuu)\n",
        "\n",
        "  meanVFF, covVFF = VFFmodel.predict_f(Xtest, True, False)\n",
        "  meanRVFF, covRVFF = RVFFmodel.predict_f(Xtest, True, False)\n",
        "\n",
        "  plot(Xtest, [(meanVFF, tf.transpose(tf.linalg.diag_part(covVFF)), 'r', 'c'), (meanRVFF, tf.transpose(tf.linalg.diag_part(covRVFF)), 'b', 'g')])\n",
        "  print(\"If you can only see one mean function and one error bar, VFF and RVFF perfectly coincide.\")\n",
        "\n",
        "  print(\"RVFF model ELBO is %2.2f\" % RVFFmodel.elbo())\n",
        "  print(\"VFF model ELBO is %2.2f\" % VFFmodel.elbo())\n",
        "\n",
        "  return tf.math.reduce_sum(tf.math.abs(covRVFF-covVFF)) < tol and tf.math.reduce_sum(tf.math.abs(meanRVFF-meanVFF)) < tol\n",
        "\n",
        "print(testFeatureequivalence(1e-1))"
      ],
      "execution_count": 13,
      "outputs": [
        {
          "output_type": "stream",
          "text": [
            "WARNING:tensorflow:From /usr/local/lib/python3.6/dist-packages/tensorflow/python/ops/linalg/linear_operator_low_rank_update.py:227: LinearOperator.graph_parents (from tensorflow.python.ops.linalg.linear_operator) is deprecated and will be removed in a future version.\n",
            "Instructions for updating:\n",
            "Do not call `graph_parents`.\n",
            "tf.Tensor(\n",
            "[[ 6.42857143e-01  1.00000000e+00  1.00000000e+00  0.00000000e+00\n",
            "   0.00000000e+00]\n",
            " [ 1.00000000e+00  4.29431099e+00  1.00000000e+00 -3.63555522e-16\n",
            "   1.77288739e-16]\n",
            " [ 1.00000000e+00  1.00000000e+00  7.74867253e+00  2.55004351e-16\n",
            "  -2.76125459e-16]\n",
            " [ 0.00000000e+00 -3.63555522e-16  2.55004351e-16  3.29431099e+00\n",
            "  -1.94289029e-16]\n",
            " [ 0.00000000e+00  1.77288739e-16 -2.76125459e-16 -1.94289029e-16\n",
            "   6.74867253e+00]], shape=(5, 5), dtype=float64)\n",
            "tf.Tensor(\n",
            "[[5.28571429 1.         1.         0.         0.        ]\n",
            " [1.         4.29431099 1.         0.         0.        ]\n",
            " [1.         1.         7.74867253 0.         0.        ]\n",
            " [0.         0.         0.         3.29431099 0.        ]\n",
            " [0.         0.         0.         0.         6.74867253]], shape=(5, 5), dtype=float64)\n"
          ],
          "name": "stdout"
        },
        {
          "output_type": "display_data",
          "data": {
            "image/png": "[encoded data removed]",
            "text/plain": [
              "<Figure size 432x288 with 1 Axes>"
            ]
          },
          "metadata": {
            "tags": [],
            "needs_background": "light"
          }
        },
        {
          "output_type": "stream",
          "text": [
            "If you can only see one mean function and one error bar, VFF and RVFF perfectly coincide.\n",
            "RVFF model ELBO is 36.65\n",
            "VFF model ELBO is -257.88\n",
            "tf.Tensor(False, shape=(), dtype=bool)\n"
          ],
          "name": "stdout"
        }
      ]
    },
    {
      "cell_type": "markdown",
      "metadata": {
        "id": "oM9RJ52KutSu",
        "colab_type": "text"
      },
      "source": [
        "# Feature comparison with Variational Fourier Features"
      ]
    },
    {
      "cell_type": "code",
      "metadata": {
        "id": "opaxDTiBu5Tr",
        "colab_type": "code",
        "colab": {
          "base_uri": "https://localhost:8080/",
          "height": 486
        },
        "outputId": "8083662e-0ffd-4673-c18c-984da1ab4f88"
      },
      "source": [
        "def getNextVFFmodel(VFFmodel, numAddedFrequencies):\n",
        "  VFFlength = len(VFFmodel.inducing_variable.omegas) + numAddedFrequencies\n",
        "\n",
        "  kernel3 = gpflow.kernels.Matern12(variance=1.0, lengthscales=0.7)\n",
        "\n",
        "  VFFinducingVar = VFF_IV.FourierFeatures1D(0,6, VFFlength)\n",
        "  newVFFmodel = gpflow.models.SGPR((X, Y), kernel3, VFFinducingVar)\n",
        "  # newVFFmodel.likelihood = VFFmodel.likelihood\n",
        "\n",
        "  return newVFFmodel\n",
        "\n",
        "def getNextRVFFmodel(RVFFmodel, numAddedFrequencies):\n",
        "  prevLength = len(RVFFmodel.inducing_variable)\n",
        "  RVFFlength = prevLength + numAddedFrequencies\n",
        "\n",
        "  RVFFinducingVar = RVFF_1D(a=0, b=6, M=RVFFlength)\n",
        "\n",
        "  highestOmega = tf.math.reduce_max(RVFFmodel.inducing_variable.omegas.read_value()).numpy()\n",
        "  newOmegas = tf.concat( [ RVFFmodel.inducing_variable.omegas.read_value(), np.random.uniform(0.5 * prevLength, 0.5 * RVFFlength, numAddedFrequencies) ], axis=0 )\n",
        "  newPhis = tf.concat( [ RVFFmodel.inducing_variable.phis.read_value(), np.random.uniform(0, 2 * np.pi, numAddedFrequencies) ], axis=0 )\n",
        "\n",
        "  RVFFinducingVar.omegas.assign( newOmegas )\n",
        "  RVFFinducingVar.phis.assign( newPhis )\n",
        "\n",
        "  newRVFFmodel = gpflow.models.SGPR((X, Y), RVFFmodel.kernel, RVFFinducingVar)\n",
        "  newRVFFmodel.likelihood = RVFFmodel.likelihood\n",
        "\n",
        "  gpflow.set_trainable(newRVFFmodel.inducing_variable.a, False)\n",
        "  gpflow.set_trainable(newRVFFmodel.inducing_variable.b, False)\n",
        "  gpflow.set_trainable(newRVFFmodel.inducing_variable.phis, False)\n",
        "  gpflow.set_trainable(newRVFFmodel.inducing_variable.omegas, False)\n",
        "  gpflow.set_trainable(newRVFFmodel.likelihood, True)\n",
        "\n",
        "  RVFFmodel.inducing_variable = RVFFinducingVar\n",
        "\n",
        "  return newRVFFmodel\n",
        "\n",
        "def getModels(numBasisFunctions):\n",
        "\n",
        "  if numBasisFunctions % 2 != 1:\n",
        "    return\n",
        "\n",
        "  kernel1 = gpflow.kernels.Matern12(variance=1.0, lengthscales=0.7)\n",
        "  kernel3 = gpflow.kernels.Matern12(variance=1.0, lengthscales=0.7)\n",
        "\n",
        "  # ==============================================================\n",
        "  # VFF model setup:\n",
        "  VFFlength = int(( numBasisFunctions + 1 ) / 2)\n",
        "  VFFinducingVar = VFF_IV.FourierFeatures1D(0, 6, VFFlength)\n",
        "  VFFmodel = gpflow.models.SGPR((X, Y), kernel1, VFFinducingVar)\n",
        "  # ==============================================================\n",
        "\n",
        "  # ==============================================================\n",
        "  # RVFF model, with randomly initialised frequencies:\n",
        "  RVFFlength = numBasisFunctions #2 * VFFlength - 1\n",
        "  inducing_variable = RVFF_1D( a=0, b=6, M=RVFFlength )\n",
        "\n",
        "  RVFFmodel = gpflow.models.SGPR( (X, Y), kernel=kernel3, inducing_variable=inducing_variable )\n",
        "  # ==============================================================\n",
        "\n",
        "  # ==============================================================\n",
        "  # Trainable parameters setup:\n",
        "  gpflow.set_trainable(kernel1, True)\n",
        "  gpflow.set_trainable(kernel3, True)\n",
        "\n",
        "  gpflow.set_trainable(VFFmodel.inducing_variable.a, False)\n",
        "  gpflow.set_trainable(VFFmodel.inducing_variable.b, False)\n",
        "  gpflow.set_trainable(VFFmodel.likelihood, True)\n",
        "\n",
        "  gpflow.set_trainable(RVFFmodel.inducing_variable.a, False)\n",
        "  gpflow.set_trainable(RVFFmodel.inducing_variable.b, False)\n",
        "  gpflow.set_trainable(RVFFmodel.inducing_variable.phis, False)\n",
        "  gpflow.set_trainable(RVFFmodel.inducing_variable.omegas, False)\n",
        "  gpflow.set_trainable(RVFFmodel.likelihood, True)\n",
        "\n",
        "  # ==============================================================\n",
        "\n",
        "  return VFFmodel, RVFFmodel\n",
        "\n",
        "# ==============================================================\n",
        "# Loss function:\n",
        "@tf.function\n",
        "def loss(model):\n",
        "  def loss_closure():\n",
        "    return -model.elbo()\n",
        "  return loss_closure\n",
        "# ==============================================================\n",
        "\n",
        "def initializeVariables(vars):\n",
        "  for var in vars:\n",
        "    var.assign( tf.random.normal( shape=var.numpy().shape, mean=var, dtype=default_float() ) )\n",
        "\n",
        "  return vars\n",
        "\n",
        "# optimizer = tf.optimizers.Adam(learning_rate=0.001)\n",
        "optimizer = gpflow.optimizers.Scipy()\n",
        "\n",
        "def train(model, maxIterPerModel, ELBOtolerance):\n",
        "\n",
        "  print(\"\\n===================================================================\")\n",
        "  print(\"====================== TRAINING NEW MODEL =========================\")\n",
        "  print(\"===================================================================\\n\")\n",
        "\n",
        "  result = optimizer.minimize(loss(model), initializeVariables(model.trainable_variables), step_callback=callback, options=dict(maxiter=1000, disp=True))\n",
        "\n",
        "  print(\"result:\")\n",
        "  print(result.message)\n",
        "\n",
        "  print(model.elbo())\n",
        "\n",
        "\n",
        "#   prevElbo = model.elbo() + 2 * ELBOtolerance\n",
        "\n",
        "#   for i in range(maxIterPerModel):\n",
        "#     if i % 100 == 0:\n",
        "#       elbo = model.elbo()\n",
        "#       print(\"Iteration %2d\" % i)\n",
        "#       print(\"Kernel lengthscale: %2.2f\" % model.kernel.lengthscales.read_value() )\n",
        "#       print(\"Kernel variance: %2.2f\" % model.kernel.variance.read_value() )\n",
        "#       print(\"Model likelihood variance: %2.2f\" % model.likelihood.variance.read_value() )\n",
        "#       print(\"Model ELBO: %2.2f\" % elbo )\n",
        "\n",
        "#       # mean, std = model.predict_f(Xtest, False, False)\n",
        "#       # std = tf.sqrt(std)\n",
        "#       # plot(Xtest, [(mean, std, 'r', 'c')])\n",
        "\n",
        "#       if tf.abs( prevElbo - elbo ) < ELBOtolerance:\n",
        "#         break\n",
        "\n",
        "#       prevElbo = elbo\n",
        "\n",
        "#     optimizer.minimize( loss=loss(model), var_list=model.trainable_variables )\n",
        "\n",
        "#   print(\"Final ELBO is %2.2f\" % model.elbo().numpy())\n",
        "\n",
        "  return model.elbo().numpy()\n",
        "\n",
        "def transposeListOfLists(l):\n",
        "  l = np.array(l)\n",
        "  l = l.T\n",
        "  return l.tolist()\n",
        "\n",
        "numAddedFeatures = 1\n",
        "\n",
        "numOfBasis = list(np.arange(21, 150, numAddedFeatures))\n",
        "models = list(getModels(21))\n",
        "\n",
        "elbos = list()\n",
        "# unoptimisedRVFFelbos = list()\n",
        "\n",
        "prevELBOS = [ -1000, -1000 ]\n",
        "\n",
        "for length in numOfBasis:\n",
        "  # unoptimisedRVFFelbos.append(models[1].elbo().numpy())\n",
        "  currentELBOS = []\n",
        "  print(\"Current number of basis functions: %3d\" % length)\n",
        "  for i, model in enumerate(models):\n",
        "    newELBO = train(model, 10000, 10e-2)\n",
        "    \n",
        "    while newELBO < prevELBOS[i]:\n",
        "      newELBO = train(model, 10000, 10e-2)\n",
        "    \n",
        "    currentELBOS.append( newELBO )\n",
        "  prevELBOS = list(currentELBOS)\n",
        "  elbos.append(currentELBOS)\n",
        "  models[0] = getNextVFFmodel(models[0], numAddedFeatures)\n",
        "  models[1] = getNextRVFFmodel(models[1], numAddedFeatures)\n",
        "\n",
        "elbos = transposeListOfLists(elbos)\n",
        "\n",
        "VFFelbos = elbos[0]\n",
        "RVFFelbos = elbos[1]\n",
        "\n",
        "plt.plot(numOfBasis, VFFelbos)\n",
        "plt.plot(numOfBasis, RVFFelbos)\n",
        "# plt.plot(numOfBasis, unoptimisedRVFFelbos)\n",
        "\n",
        "plt.show()"
      ],
      "execution_count": 14,
      "outputs": [
        {
          "output_type": "stream",
          "text": [
            "Current number of basis functions:  21\n",
            "\n",
            "===================================================================\n",
            "====================== TRAINING NEW MODEL =========================\n",
            "===================================================================\n",
            "\n"
          ],
          "name": "stdout"
        },
        {
          "output_type": "error",
          "ename": "TypeError",
          "evalue": "ignored",
          "traceback": [
            "\u001b[0;31m---------------------------------------------------------------------------\u001b[0m",
            "\u001b[0;31mTypeError\u001b[0m                                 Traceback (most recent call last)",
            "\u001b[0;32m<ipython-input-14-baa07cd9ad05>\u001b[0m in \u001b[0;36m<module>\u001b[0;34m()\u001b[0m\n\u001b[1;32m    156\u001b[0m   \u001b[0mprint\u001b[0m\u001b[0;34m(\u001b[0m\u001b[0;34m\"Current number of basis functions: %3d\"\u001b[0m \u001b[0;34m%\u001b[0m \u001b[0mlength\u001b[0m\u001b[0;34m)\u001b[0m\u001b[0;34m\u001b[0m\u001b[0;34m\u001b[0m\u001b[0m\n\u001b[1;32m    157\u001b[0m   \u001b[0;32mfor\u001b[0m \u001b[0mi\u001b[0m\u001b[0;34m,\u001b[0m \u001b[0mmodel\u001b[0m \u001b[0;32min\u001b[0m \u001b[0menumerate\u001b[0m\u001b[0;34m(\u001b[0m\u001b[0mmodels\u001b[0m\u001b[0;34m)\u001b[0m\u001b[0;34m:\u001b[0m\u001b[0;34m\u001b[0m\u001b[0;34m\u001b[0m\u001b[0m\n\u001b[0;32m--> 158\u001b[0;31m     \u001b[0mnewELBO\u001b[0m \u001b[0;34m=\u001b[0m \u001b[0mtrain\u001b[0m\u001b[0;34m(\u001b[0m\u001b[0mmodel\u001b[0m\u001b[0;34m,\u001b[0m \u001b[0;36m10000\u001b[0m\u001b[0;34m,\u001b[0m \u001b[0;36m10e-2\u001b[0m\u001b[0;34m)\u001b[0m\u001b[0;34m\u001b[0m\u001b[0;34m\u001b[0m\u001b[0m\n\u001b[0m\u001b[1;32m    159\u001b[0m \u001b[0;34m\u001b[0m\u001b[0m\n\u001b[1;32m    160\u001b[0m     \u001b[0;32mwhile\u001b[0m \u001b[0mnewELBO\u001b[0m \u001b[0;34m<\u001b[0m \u001b[0mprevELBOS\u001b[0m\u001b[0;34m[\u001b[0m\u001b[0mi\u001b[0m\u001b[0;34m]\u001b[0m\u001b[0;34m:\u001b[0m\u001b[0;34m\u001b[0m\u001b[0;34m\u001b[0m\u001b[0m\n",
            "\u001b[0;32m<ipython-input-14-baa07cd9ad05>\u001b[0m in \u001b[0;36mtrain\u001b[0;34m(model, maxIterPerModel, ELBOtolerance)\u001b[0m\n\u001b[1;32m    102\u001b[0m   \u001b[0mprint\u001b[0m\u001b[0;34m(\u001b[0m\u001b[0;34m\"===================================================================\\n\"\u001b[0m\u001b[0;34m)\u001b[0m\u001b[0;34m\u001b[0m\u001b[0;34m\u001b[0m\u001b[0m\n\u001b[1;32m    103\u001b[0m \u001b[0;34m\u001b[0m\u001b[0m\n\u001b[0;32m--> 104\u001b[0;31m   \u001b[0mresult\u001b[0m \u001b[0;34m=\u001b[0m \u001b[0moptimizer\u001b[0m\u001b[0;34m.\u001b[0m\u001b[0mminimize\u001b[0m\u001b[0;34m(\u001b[0m\u001b[0mloss\u001b[0m\u001b[0;34m(\u001b[0m\u001b[0mmodel\u001b[0m\u001b[0;34m)\u001b[0m\u001b[0;34m,\u001b[0m \u001b[0minitializeVariables\u001b[0m\u001b[0;34m(\u001b[0m\u001b[0mmodel\u001b[0m\u001b[0;34m.\u001b[0m\u001b[0mtrainable_variables\u001b[0m\u001b[0;34m)\u001b[0m\u001b[0;34m,\u001b[0m \u001b[0mstep_callback\u001b[0m\u001b[0;34m=\u001b[0m\u001b[0mcallback\u001b[0m\u001b[0;34m,\u001b[0m \u001b[0moptions\u001b[0m\u001b[0;34m=\u001b[0m\u001b[0mdict\u001b[0m\u001b[0;34m(\u001b[0m\u001b[0mmaxiter\u001b[0m\u001b[0;34m=\u001b[0m\u001b[0;36m1000\u001b[0m\u001b[0;34m,\u001b[0m \u001b[0mdisp\u001b[0m\u001b[0;34m=\u001b[0m\u001b[0;32mTrue\u001b[0m\u001b[0;34m)\u001b[0m\u001b[0;34m)\u001b[0m\u001b[0;34m\u001b[0m\u001b[0;34m\u001b[0m\u001b[0m\n\u001b[0m\u001b[1;32m    105\u001b[0m \u001b[0;34m\u001b[0m\u001b[0m\n\u001b[1;32m    106\u001b[0m   \u001b[0mprint\u001b[0m\u001b[0;34m(\u001b[0m\u001b[0;34m\"result:\"\u001b[0m\u001b[0;34m)\u001b[0m\u001b[0;34m\u001b[0m\u001b[0;34m\u001b[0m\u001b[0m\n",
            "\u001b[0;32m/usr/local/lib/python3.6/dist-packages/gpflow/optimizers/scipy.py\u001b[0m in \u001b[0;36mminimize\u001b[0;34m(self, closure, variables, method, step_callback, compile, **scipy_kwargs)\u001b[0m\n\u001b[1;32m     73\u001b[0m \u001b[0;34m\u001b[0m\u001b[0m\n\u001b[1;32m     74\u001b[0m         return scipy.optimize.minimize(\n\u001b[0;32m---> 75\u001b[0;31m             \u001b[0mfunc\u001b[0m\u001b[0;34m,\u001b[0m \u001b[0minitial_params\u001b[0m\u001b[0;34m,\u001b[0m \u001b[0mjac\u001b[0m\u001b[0;34m=\u001b[0m\u001b[0;32mTrue\u001b[0m\u001b[0;34m,\u001b[0m \u001b[0mmethod\u001b[0m\u001b[0;34m=\u001b[0m\u001b[0mmethod\u001b[0m\u001b[0;34m,\u001b[0m \u001b[0;34m**\u001b[0m\u001b[0mscipy_kwargs\u001b[0m\u001b[0;34m\u001b[0m\u001b[0;34m\u001b[0m\u001b[0m\n\u001b[0m\u001b[1;32m     76\u001b[0m         )\n\u001b[1;32m     77\u001b[0m \u001b[0;34m\u001b[0m\u001b[0m\n",
            "\u001b[0;32m/usr/local/lib/python3.6/dist-packages/scipy/optimize/_minimize.py\u001b[0m in \u001b[0;36mminimize\u001b[0;34m(fun, x0, args, method, jac, hess, hessp, bounds, constraints, tol, callback, options)\u001b[0m\n\u001b[1;32m    608\u001b[0m     \u001b[0;32melif\u001b[0m \u001b[0mmeth\u001b[0m \u001b[0;34m==\u001b[0m \u001b[0;34m'l-bfgs-b'\u001b[0m\u001b[0;34m:\u001b[0m\u001b[0;34m\u001b[0m\u001b[0;34m\u001b[0m\u001b[0m\n\u001b[1;32m    609\u001b[0m         return _minimize_lbfgsb(fun, x0, args, jac, bounds,\n\u001b[0;32m--> 610\u001b[0;31m                                 callback=callback, **options)\n\u001b[0m\u001b[1;32m    611\u001b[0m     \u001b[0;32melif\u001b[0m \u001b[0mmeth\u001b[0m \u001b[0;34m==\u001b[0m \u001b[0;34m'tnc'\u001b[0m\u001b[0;34m:\u001b[0m\u001b[0;34m\u001b[0m\u001b[0;34m\u001b[0m\u001b[0m\n\u001b[1;32m    612\u001b[0m         return _minimize_tnc(fun, x0, args, jac, bounds, callback=callback,\n",
            "\u001b[0;32m/usr/local/lib/python3.6/dist-packages/scipy/optimize/lbfgsb.py\u001b[0m in \u001b[0;36m_minimize_lbfgsb\u001b[0;34m(fun, x0, args, jac, bounds, disp, maxcor, ftol, gtol, eps, maxfun, maxiter, iprint, callback, maxls, **unknown_options)\u001b[0m\n\u001b[1;32m    348\u001b[0m             \u001b[0mn_iterations\u001b[0m \u001b[0;34m+=\u001b[0m \u001b[0;36m1\u001b[0m\u001b[0;34m\u001b[0m\u001b[0;34m\u001b[0m\u001b[0m\n\u001b[1;32m    349\u001b[0m             \u001b[0;32mif\u001b[0m \u001b[0mcallback\u001b[0m \u001b[0;32mis\u001b[0m \u001b[0;32mnot\u001b[0m \u001b[0;32mNone\u001b[0m\u001b[0;34m:\u001b[0m\u001b[0;34m\u001b[0m\u001b[0;34m\u001b[0m\u001b[0m\n\u001b[0;32m--> 350\u001b[0;31m                 \u001b[0mcallback\u001b[0m\u001b[0;34m(\u001b[0m\u001b[0mnp\u001b[0m\u001b[0;34m.\u001b[0m\u001b[0mcopy\u001b[0m\u001b[0;34m(\u001b[0m\u001b[0mx\u001b[0m\u001b[0;34m)\u001b[0m\u001b[0;34m)\u001b[0m\u001b[0;34m\u001b[0m\u001b[0;34m\u001b[0m\u001b[0m\n\u001b[0m\u001b[1;32m    351\u001b[0m \u001b[0;34m\u001b[0m\u001b[0m\n\u001b[1;32m    352\u001b[0m             \u001b[0;32mif\u001b[0m \u001b[0mn_iterations\u001b[0m \u001b[0;34m>=\u001b[0m \u001b[0mmaxiter\u001b[0m\u001b[0;34m:\u001b[0m\u001b[0;34m\u001b[0m\u001b[0;34m\u001b[0m\u001b[0m\n",
            "\u001b[0;32m/usr/local/lib/python3.6/dist-packages/gpflow/optimizers/scipy.py\u001b[0m in \u001b[0;36m_callback\u001b[0;34m(x)\u001b[0m\n\u001b[1;32m    109\u001b[0m             \u001b[0;32mnonlocal\u001b[0m \u001b[0mstep\u001b[0m\u001b[0;34m\u001b[0m\u001b[0;34m\u001b[0m\u001b[0m\n\u001b[1;32m    110\u001b[0m             \u001b[0mvalues\u001b[0m \u001b[0;34m=\u001b[0m \u001b[0mcls\u001b[0m\u001b[0;34m.\u001b[0m\u001b[0munpack_tensors\u001b[0m\u001b[0;34m(\u001b[0m\u001b[0mvariables\u001b[0m\u001b[0;34m,\u001b[0m \u001b[0mx\u001b[0m\u001b[0;34m)\u001b[0m\u001b[0;34m\u001b[0m\u001b[0;34m\u001b[0m\u001b[0m\n\u001b[0;32m--> 111\u001b[0;31m             \u001b[0mstep_callback\u001b[0m\u001b[0;34m(\u001b[0m\u001b[0mstep\u001b[0m\u001b[0;34m,\u001b[0m \u001b[0mvariables\u001b[0m\u001b[0;34m,\u001b[0m \u001b[0mvalues\u001b[0m\u001b[0;34m)\u001b[0m\u001b[0;34m\u001b[0m\u001b[0;34m\u001b[0m\u001b[0m\n\u001b[0m\u001b[1;32m    112\u001b[0m             \u001b[0mstep\u001b[0m \u001b[0;34m+=\u001b[0m \u001b[0;36m1\u001b[0m\u001b[0;34m\u001b[0m\u001b[0;34m\u001b[0m\u001b[0m\n\u001b[1;32m    113\u001b[0m \u001b[0;34m\u001b[0m\u001b[0m\n",
            "\u001b[0;31mTypeError\u001b[0m: callback() takes 1 positional argument but 3 were given"
          ]
        }
      ]
    },
    {
      "cell_type": "code",
      "metadata": {
        "id": "93mNFsbjndtc",
        "colab_type": "code",
        "colab": {}
      },
      "source": [
        "start = 0\n",
        "\n",
        "plt.plot(numOfBasis[start:], VFFelbos[start:])\n",
        "plt.plot(numOfBasis[start:], RVFFelbos[start:])\n",
        "# plt.plot(numOfBasis[start:], unoptimisedRVFFelbos[start:])\n",
        "plt.legend([\"VFF\", \"RVFF\"])\n",
        "plt.show()"
      ],
      "execution_count": null,
      "outputs": []
    }
  ]
}