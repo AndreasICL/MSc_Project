{
  "nbformat": 4,
  "nbformat_minor": 0,
  "metadata": {
    "colab": {
      "name": "VFF_and_RFF_1D.ipynb",
      "provenance": [],
      "toc_visible": true,
      "authorship_tag": "ABX9TyO8kfTYeOLwkNcbuDBZsvZD",
      "include_colab_link": true
    },
    "kernelspec": {
      "name": "python3",
      "display_name": "Python 3"
    }
  },
  "cells": [
    {
      "cell_type": "markdown",
      "metadata": {
        "id": "view-in-github",
        "colab_type": "text"
      },
      "source": [
        "<a href=\"https://colab.research.google.com/github/AndreasICL/MSc_Project/blob/master/code/VFF_and_RFF_1D.ipynb\" target=\"_parent\"><img src=\"https://colab.research.google.com/assets/colab-badge.svg\" alt=\"Open In Colab\"/></a>"
      ]
    },
    {
      "cell_type": "code",
      "metadata": {
        "id": "fW-B5syh75r4",
        "colab_type": "code",
        "colab": {}
      },
      "source": [
        "!pip install tensorflow==2.2.0 > /dev/null\n",
        "!pip install gpflow > /dev/null\n",
        "!pip install gast > /dev/null\n",
        "!pip install observations > /dev/null"
      ],
      "execution_count": 1,
      "outputs": []
    },
    {
      "cell_type": "code",
      "metadata": {
        "id": "u3cwbeHz8Exr",
        "colab_type": "code",
        "colab": {}
      },
      "source": [
        "from typing import Tuple, Optional\n",
        "import tempfile\n",
        "import pathlib\n",
        "\n",
        "import datetime\n",
        "import io\n",
        "import matplotlib.pyplot as plt\n",
        "\n",
        "import numpy as np\n",
        "import tensorflow as tf\n",
        "import gpflow\n",
        "\n",
        "import matplotlib.pyplot as plt\n",
        "\n",
        "from gpflow.config import default_float, default_jitter\n",
        "from gpflow.ci_utils import ci_niter\n",
        "from gpflow.utilities import to_default_float\n",
        "from gpflow.base import TensorLike\n",
        "from gpflow import covariances as cov\n",
        "from gpflow import kullback_leiblers as kl\n",
        "from gpflow.covariances import Kuu\n",
        "from gpflow.covariances import Kuf\n",
        "\n",
        "from __future__ import absolute_import\n",
        "from __future__ import division\n",
        "from __future__ import print_function\n",
        "\n",
        "import csv\n",
        "import numpy as np\n",
        "import os\n",
        "import sys\n",
        "from shutil import copyfile, rmtree\n",
        "import pickle \n",
        "\n",
        "import observations\n",
        "\n",
        "import warnings\n",
        "\n",
        "warnings.filterwarnings(\"ignore\")\n",
        "sys.path.insert(0,'./VFF/')\n",
        "\n",
        "import VFF_IV\n",
        "from RVFF_IV_1D import RVFF_1D"
      ],
      "execution_count": 2,
      "outputs": []
    },
    {
      "cell_type": "markdown",
      "metadata": {
        "id": "y5FxoiegAZe1",
        "colab_type": "text"
      },
      "source": [
        "Make `tensorboard` work inside notebook:"
      ]
    },
    {
      "cell_type": "code",
      "metadata": {
        "id": "YmCOr2hs8355",
        "colab_type": "code",
        "colab": {}
      },
      "source": [
        "output_logdir = \"/tmp/tensorboard\"\n",
        "\n",
        "!rm -rf \"{output_logdir}\"\n",
        "!mkdir \"{output_logdir}\"\n",
        "\n",
        "%load_ext tensorboard\n",
        "%matplotlib inline\n",
        "\n",
        "\n",
        "def enumerated_logdir(_logdir_id: int = [0]):\n",
        "    logdir = pathlib.Path(output_logdir, str(_logdir_id[0]))\n",
        "    _logdir_id[0] += 1\n",
        "    return str(logdir)"
      ],
      "execution_count": 3,
      "outputs": []
    },
    {
      "cell_type": "markdown",
      "metadata": {
        "id": "8A27JdlvAZfE",
        "colab_type": "text"
      },
      "source": [
        "Set up random seeds and default float for `gpflow` tensors:"
      ]
    },
    {
      "cell_type": "code",
      "metadata": {
        "id": "flnWsQF1_h3W",
        "colab_type": "code",
        "colab": {}
      },
      "source": [
        "gpflow.config.set_default_float(np.float64)\n",
        "np.random.seed(0)\n",
        "tf.random.set_seed(0)"
      ],
      "execution_count": 4,
      "outputs": []
    },
    {
      "cell_type": "markdown",
      "metadata": {
        "id": "eJsA3bUEAZfP",
        "colab_type": "text"
      },
      "source": [
        "## Loading the snelson dataset"
      ]
    },
    {
      "cell_type": "code",
      "metadata": {
        "id": "uZDkEmxQEqqN",
        "colab_type": "code",
        "colab": {}
      },
      "source": [
        "'''\n",
        "  This code was copied from https://github.com/edwardlib/observations/blob/master/observations/snelson1d.py\n",
        "  on 01/05/2020\n",
        "'''\n",
        "\n",
        "from observations.util import maybe_download_and_extract\n",
        "\n",
        "\n",
        "def snelson1d(path):\n",
        "  \"\"\"Load Edward Snelson's 1d regression data set [@snelson2006fitc].\n",
        "  It contains 200 examples of a few oscillations of an example function. It has\n",
        "  seen extensive use as a toy dataset for illustrating qualitative behaviour of\n",
        "  Gaussian process approximations.\n",
        "  Args:\n",
        "    path: str.\n",
        "      Path to directory which either stores file or otherwise file will be\n",
        "      downloaded and extracted there. Filenames are `snelson_train_*`.\n",
        "  Returns:\n",
        "    Tuple of two np.darray `inputs` and `outputs` with 200 rows and 1 column.\n",
        "  \"\"\"\n",
        "  path = os.path.expanduser(path)\n",
        "  inputs_path = os.path.join(path, 'snelson_train_inputs')\n",
        "  outputs_path = os.path.join(path, 'snelson_train_outputs')\n",
        "\n",
        "  # Contains all source as well. We just need the data.\n",
        "  url = 'http://www.gatsby.ucl.ac.uk/~snelson/SPGP_dist.zip'\n",
        "\n",
        "  if not (os.path.exists(inputs_path) and os.path.exists(outputs_path)):\n",
        "    maybe_download_and_extract(path, url)\n",
        "\n",
        "    # Copy the required data\n",
        "    copyfile(os.path.join(path, \"SPGP_dist\", \"train_inputs\"), inputs_path)\n",
        "    copyfile(os.path.join(path, \"SPGP_dist\", \"train_outputs\"), outputs_path)\n",
        "\n",
        "    # Clean up everything else\n",
        "    rmtree(os.path.join(path, \"SPGP_dist\"))\n",
        "    os.remove(os.path.join(path, \"SPGP_dist.zip\"))\n",
        "\n",
        "  X = np.loadtxt(os.path.join(inputs_path))[:, None]\n",
        "  Y = np.loadtxt(os.path.join(outputs_path))[:, None]\n",
        "\n",
        "  return X, Y"
      ],
      "execution_count": 5,
      "outputs": []
    },
    {
      "cell_type": "code",
      "metadata": {
        "id": "5cwgLNj8Hw2h",
        "colab_type": "code",
        "colab": {}
      },
      "source": [
        "X, Y = snelson1d(\".\")\n",
        "num_train_data = X.shape[0]"
      ],
      "execution_count": 6,
      "outputs": []
    },
    {
      "cell_type": "markdown",
      "metadata": {
        "id": "Zg8Cz-6OAZfb",
        "colab_type": "text"
      },
      "source": [
        "Working with TensorFlow Datasets is an efficient way to rapidly shuffle, iterate, and batch from data. For `prefetch` size we use `tf.data.experimental.AUTOTUNE` as recommended by TensorFlow [guidelines](https://www.tensorflow.org/guide/data_performance)."
      ]
    },
    {
      "cell_type": "code",
      "metadata": {
        "id": "DUfgEr7aAZfc",
        "colab_type": "code",
        "colab": {
          "base_uri": "https://localhost:8080/",
          "height": 69
        },
        "outputId": "dc23059b-6f5d-458e-eca6-a1e86b52018e"
      },
      "source": [
        "train_dataset = tf.data.Dataset.from_tensor_slices((X, Y))\n",
        "\n",
        "batch_size = 32\n",
        "num_features = 10\n",
        "prefetch_size = tf.data.experimental.AUTOTUNE\n",
        "shuffle_buffer_size = num_train_data // 2\n",
        "num_batches_per_epoch = num_train_data // batch_size\n",
        "\n",
        "original_train_dataset = train_dataset\n",
        "train_dataset = (\n",
        "    train_dataset.repeat()\n",
        "    .prefetch(prefetch_size)\n",
        "    .shuffle(buffer_size=shuffle_buffer_size)\n",
        "    .batch(batch_size)\n",
        ")\n",
        "\n",
        "print(f\"prefetch_size={prefetch_size}\")\n",
        "print(f\"shuffle_buffer_size={shuffle_buffer_size}\")\n",
        "print(f\"num_batches_per_epoch={num_batches_per_epoch}\")"
      ],
      "execution_count": 7,
      "outputs": [
        {
          "output_type": "stream",
          "text": [
            "prefetch_size=-1\n",
            "shuffle_buffer_size=100\n",
            "num_batches_per_epoch=6\n"
          ],
          "name": "stdout"
        }
      ]
    },
    {
      "cell_type": "code",
      "metadata": {
        "id": "Cw0x2y48cvDj",
        "colab_type": "code",
        "colab": {}
      },
      "source": [
        "from gpflow.conditionals import conditional\n",
        "\n",
        "def plot(Xtest, models):\n",
        "\n",
        "  for (mean, std, meanColour, stdColour) in models:\n",
        "    plt.plot(Xtest, mean, color=meanColour)\n",
        "\n",
        "    plt.plot(Xtest, mean + std, color=stdColour)\n",
        "    plt.plot(Xtest, mean - std, color=stdColour)\n",
        "    plt.fill_between(np.squeeze(Xtest), np.squeeze(mean + std), np.squeeze(mean - std), color=stdColour, alpha=0.2)\n",
        "  \n",
        "\n",
        "  plt.scatter(X, Y, s=15)\n",
        "\n",
        "  plt.show()\n",
        "\n"
      ],
      "execution_count": 8,
      "outputs": []
    },
    {
      "cell_type": "markdown",
      "metadata": {
        "id": "x39wkv8EU6CT",
        "colab_type": "text"
      },
      "source": [
        "#Model Definition:\n",
        "\n",
        "###We use exact inference first"
      ]
    },
    {
      "cell_type": "code",
      "metadata": {
        "id": "H_4SWCm5VV8H",
        "colab_type": "code",
        "colab": {
          "base_uri": "https://localhost:8080/",
          "height": 69
        },
        "outputId": "b607f0b5-7531-4626-a002-94eaa8d76515"
      },
      "source": [
        "\n",
        "kernel = gpflow.kernels.Matern12(variance=0.5, lengthscales=0.5)\n",
        "likelihood = gpflow.likelihoods.Gaussian()\n",
        "\n",
        "exactModel = gpflow.models.GPR( (X, Y), kernel )\n",
        "\n",
        "gpflow.utilities.set_trainable(kernel.lengthscales, True)\n",
        "gpflow.utilities.set_trainable(kernel.variance, True)\n",
        "\n",
        "optimizer = tf.optimizers.Adam(learning_rate=0.01)\n",
        "\n",
        "@tf.function\n",
        "def loss_closure():\n",
        "  return -exactModel.log_marginal_likelihood()\n",
        "\n",
        "optimizer = gpflow.optimizers.Scipy()\n",
        "result = optimizer.minimize(loss_closure, exactModel.trainable_variables, options=dict(maxiter=1000, disp=True))\n",
        "\n",
        "print(\"result:\")\n",
        "print(result.message)\n",
        "\n",
        "print(exactModel.log_marginal_likelihood())\n",
        "\n",
        "Xtest = np.arange(0.0, 6.0, 0.01).reshape(-1, 1)\n",
        "\n",
        "# for i in range(1000):\n",
        "#   if i % 200 == 0:\n",
        "#     print(i)\n",
        "#     print(\"kernel lengthscale: %2.2f\" % kernel.lengthscales.read_value())\n",
        "#     print(\"kernel variance: %2.2f\" % kernel.variance.read_value())\n",
        "#     print(\"Exact model log p(y): %2.2f\" % exactModel.log_marginal_likelihood() )\n",
        "#     print(\"=\" * 70)\n",
        "\n",
        "#   optimizer.minimize( loss=loss_closure, var_list=exactModel.trainable_variables )\n",
        "\n",
        "# print(\"Exact model log p(y): %2.2f\" % exactModel.log_marginal_likelihood() )"
      ],
      "execution_count": 9,
      "outputs": [
        {
          "output_type": "stream",
          "text": [
            "result:\n",
            "b'CONVERGENCE: REL_REDUCTION_OF_F_<=_FACTR*EPSMCH'\n",
            "tf.Tensor(-68.30588480647597, shape=(), dtype=float64)\n"
          ],
          "name": "stdout"
        }
      ]
    },
    {
      "cell_type": "markdown",
      "metadata": {
        "id": "JurwmO73VKF5",
        "colab_type": "text"
      },
      "source": [
        "###We now use approximate inference with Random Variational Fourier Features"
      ]
    },
    {
      "cell_type": "code",
      "metadata": {
        "id": "J1ekb08iAZfo",
        "colab_type": "code",
        "colab": {
          "base_uri": "https://localhost:8080/",
          "height": 1000
        },
        "outputId": "ca588fbb-7211-44df-e48f-ea3aead05dc5"
      },
      "source": [
        "from scipy.optimize import fmin_l_bfgs_b\n",
        "from tensorflow_probability import optimizer\n",
        "from tensorflow_probability import math\n",
        "import copy\n",
        "\n",
        "tf.config.experimental_run_functions_eagerly(True)\n",
        "\n",
        "M = 100\n",
        "inducing_variable = RVFF_1D( a=0, b=6, M=M )\n",
        "\n",
        "kernel2 = gpflow.kernels.Matern12(variance=1.0, lengthscales=0.7)\n",
        "\n",
        "model = gpflow.models.SGPR(\n",
        "    (X, Y), kernel=kernel2, inducing_variable=inducing_variable\n",
        ")\n",
        "\n",
        "# optimizer = tf.optimizers.Adam(learning_rate=0.01)\n",
        "\n",
        "gpflow.set_trainable(kernel2.variance, True)\n",
        "gpflow.set_trainable(kernel2.lengthscales, True)\n",
        "gpflow.set_trainable(model.likelihood, True)\n",
        "gpflow.set_trainable(model.inducing_variable.a, False)\n",
        "gpflow.set_trainable(model.inducing_variable.b, False)\n",
        "gpflow.set_trainable(model.inducing_variable.phis, True)\n",
        "gpflow.set_trainable(model.inducing_variable.omegas, True)\n",
        "\n",
        "@tf.function\n",
        "def loss_closure():\n",
        "  return -model.elbo()\n",
        "\n",
        "def callback(step, variables, values):\n",
        "  if (step % 20 == 0):\n",
        "    print(model.elbo())\n",
        "    # print(model.inducing_variable.omegas)\n",
        "\n",
        "def callback(values):\n",
        "  print(model.elbo())\n",
        "  print(model.inducing_variable.omegas.numpy())\n",
        "\n",
        "def assignParams(model, params):\n",
        "  index = 0\n",
        "  for var in model.trainable_variables:\n",
        "    \n",
        "    if var.numpy().shape == ():\n",
        "      param = params[index]\n",
        "      index += 1\n",
        "    else:\n",
        "      param = params[index:index + len(var.numpy())]\n",
        "      index += len(var.numpy())\n",
        "    \n",
        "    var.assign(param)\n",
        "\n",
        "# def evaluateELBO(params):\n",
        "#   newModel = copy.deepcopy(model)\n",
        "#   assignParams(newModel, params)\n",
        "#   with tf.GradientTape() as tape:\n",
        "#     tape.watch(newModel.trainable_variables)\n",
        "#     loss = newModel.elbo()\n",
        "#   return loss\n",
        "\n",
        "@tf.function\n",
        "def loss(parameters):\n",
        "  \n",
        "  assignParams(model, parameters)\n",
        "\n",
        "  with tf.GradientTape() as tape:\n",
        "    tape.watch(model.trainable_variables)\n",
        "    loss = -model.elbo()\n",
        "  grad2 = tape.gradient(loss, model.trainable_variables)\n",
        "  \n",
        "  # print(model.inducing_variable.omegas.numpy())\n",
        "  # print(grad2[0])\n",
        "\n",
        "  return loss, np.array(flattenParams(grad2), dtype=default_float())\n",
        "\n",
        "# def grad_function(variables):\n",
        "#   variables = tf.constant(variables)\n",
        "#   with tf.GradientTape(watch_accessed_variables=False) as tape:\n",
        "#     tape.watch(variables)\n",
        "#     loss_ = loss(variables)\n",
        "#   # vars = model.trainable_variables\n",
        "#   grads = tape.gradient(loss_, variables)\n",
        "\n",
        "#   print(\"grads:\")\n",
        "#   print(grads)  \n",
        "\n",
        "#   return loss_, grads\n",
        "\n",
        "def flattenParams(params):\n",
        "  params = list(params)\n",
        "  for i, _ in enumerate(params):\n",
        "    params[i] = np.array(params[i].numpy(), dtype=default_float()).reshape(-1)\n",
        "  \n",
        "  result = np.concatenate(params)\n",
        "  \n",
        "  return tf.constant(result)\n",
        "\n",
        "# print(model.elbo())\n",
        "mean, std = model.predict_f(Xtest, False, False)\n",
        "std = tf.sqrt(std)\n",
        "plot(Xtest, [(mean, std, 'r', 'c')])\n",
        "print(model.elbo())\n",
        "\n",
        "# optimizer = gpflow.optimizers.Scipy()\n",
        "# result = optimizer.minimize(loss_closure, model.trainable_variables, method='L-BFGS-B', step_callback=callback, options=dict(maxiter=1000, disp=True), maxls=20)\n",
        "# result = optimizer.lbfgs_minimize(value_and_gradients_function=loss, tolerance=1e-5, initial_position=flattenParams(model.trainable_variables), max_iterations=100)\n",
        "x, f, d = fmin_l_bfgs_b(func=loss, x0=flattenParams(model.trainable_variables), callback=callback, maxiter=200, disp=1, maxls=20)\n",
        "\n",
        "print(\"result:\")\n",
        "# print(result.converged)\n",
        "print(d['grad'])\n",
        "\n",
        "# assignParams(model, result.position)\n",
        "print(model.elbo())\n",
        "# print(model.inducing_variable.omegas)\n",
        "\n",
        "# print(model.elbo())\n",
        "# minimize(loss, model.trainable_variables, tol=1e-3, method=\"BFGS\", options={'maxiter':1000, 'disp':True} )\n",
        "# print(model.elbo())\n",
        "\n",
        "# prevElbo = 1000\n",
        "\n",
        "# for i in range(10000):\n",
        "#   if i % 200 == 0:\n",
        "#     elbo = model.elbo()    \n",
        "#     print(\"Iteration: %2d\" % i)\n",
        "#     print(\"kernel lengthscale: %2.2f\" % kernel2.lengthscales.read_value())\n",
        "#     print(\"kernel variance: %2.2f\" % kernel2.variance.read_value())\n",
        "#     print(\"ELBO: %2.2f\" % elbo )\n",
        "#     print(\"=\" * 70)\n",
        "\n",
        "    # if tf.abs(prevElbo - elbo) < 1e-2:\n",
        "    #   break\n",
        "\n",
        "    # prevElbo = elbo\n",
        "\n",
        "  # optimizer.minimize( closure=loss_closure, tol=1e-2, variables=model.trainable_variables, method='BFGS', options=dict( disp=True ) )\n",
        "  # optimizer.minimize( loss=loss_closure, var_list=model.trainable_variables )\n",
        "\n",
        "\n",
        "mean, std = model.predict_f(Xtest, False, False)\n",
        "std = tf.sqrt(std)\n",
        "plot(Xtest, [(mean, std, 'r', 'c')])\n",
        "\n",
        "print( \"Variational Model ELBO is %3.2f\" % model.elbo() )"
      ],
      "execution_count": 15,
      "outputs": [
        {
          "output_type": "display_data",
          "data": {
            "image/png": "[encoded data removed]",
            "text/plain": [
              "<Figure size 432x288 with 1 Axes>"
            ]
          },
          "metadata": {
            "tags": [],
            "needs_background": "light"
          }
        },
        {
          "output_type": "stream",
          "text": [
            "tf.Tensor(-366.33471786736163, shape=(), dtype=float64)\n",
            "tf.Tensor(-366.3347159118964, shape=(), dtype=float64)\n",
            "[115.00980593 114.71849025 124.069258   100.42179183 117.41206077\n",
            " 120.34196624 112.74517992 108.34912174 119.77100408 102.43107314\n",
            " 111.05089094 112.99880936 117.34891027 102.2721433  105.69398754\n",
            " 110.25753907 115.58236683 122.17401953 115.47065421 103.33653677\n",
            " 124.51450332 121.79464337 112.56801903 123.05869954 113.53451984\n",
            " 123.0826517  120.74743422 124.20716026 122.99457027 100.90084544\n",
            " 104.3693001  109.72836693 123.80356743 107.50072299 104.0116911\n",
            " 122.15761665 111.15986039 122.69688986 104.00576166 116.52793779\n",
            " 111.00659382 101.91216923 117.41157862 106.18496889 100.99038806\n",
            " 101.49860746 101.52696343 122.69332394 118.49709795 122.45155893\n",
            " 116.81455778 113.22349823 107.61115911 124.94905628 109.05472647\n",
            " 111.76622373 109.45612937 124.48817323 104.36645963 108.19970002\n",
            " 117.00871665 101.58019046 115.18123435 111.94116257 107.09999942\n",
            " 105.96033202 112.86281858 109.19818951 111.41299728 108.43693454\n",
            " 124.26234234 103.33598579 102.42009883 108.58479322 114.77567252\n",
            " 116.4794118  109.93141868 124.98194985 108.7973249  118.0351667\n",
            " 115.93956736 120.32634658 124.40564159 122.24484141 119.11404936\n",
            " 117.45621195 108.38745424 103.69213946 101.56590008 106.04754261\n",
            " 110.80703703 113.04990684 119.32708885 123.96852308 102.93301201\n",
            " 102.6751035  114.74236808 118.63495185 121.20375951 123.39580201]\n",
            "tf.Tensor(-366.3347159118964, shape=(), dtype=float64)\n",
            "[115.00980593 114.71849025 124.069258   100.42179183 117.41206077\n",
            " 120.34196624 112.74517992 108.34912174 119.77100408 102.43107314\n",
            " 111.05089094 112.99880936 117.34891027 102.2721433  105.69398754\n",
            " 110.25753907 115.58236683 122.17401953 115.47065421 103.33653677\n",
            " 124.51450332 121.79464337 112.56801903 123.05869954 113.53451984\n",
            " 123.0826517  120.74743422 124.20716026 122.99457027 100.90084544\n",
            " 104.3693001  109.72836693 123.80356743 107.50072299 104.0116911\n",
            " 122.15761665 111.15986039 122.69688986 104.00576166 116.52793779\n",
            " 111.00659382 101.91216923 117.41157862 106.18496889 100.99038806\n",
            " 101.49860746 101.52696343 122.69332394 118.49709795 122.45155893\n",
            " 116.81455778 113.22349823 107.61115911 124.94905628 109.05472647\n",
            " 111.76622373 109.45612937 124.48817323 104.36645963 108.19970002\n",
            " 117.00871665 101.58019046 115.18123435 111.94116257 107.09999942\n",
            " 105.96033202 112.86281858 109.19818951 111.41299728 108.43693454\n",
            " 124.26234234 103.33598579 102.42009883 108.58479322 114.77567252\n",
            " 116.4794118  109.93141868 124.98194985 108.7973249  118.0351667\n",
            " 115.93956736 120.32634658 124.40564159 122.24484141 119.11404936\n",
            " 117.45621195 108.38745424 103.69213946 101.56590008 106.04754261\n",
            " 110.80703703 113.04990684 119.32708885 123.96852308 102.93301201\n",
            " 102.6751035  114.74236808 118.63495185 121.20375951 123.39580201]\n",
            "result:\n",
            "[ 4.23485197e+05 -6.01128050e+05 -5.06069083e+06  1.09689979e+03\n",
            "  8.09380473e+06 -3.05388406e+07  4.30082853e+05  1.36695388e+05\n",
            "  5.84742896e+05  5.93752971e+05 -6.60881961e+05 -5.92962183e+05\n",
            "  4.09484311e+05  2.24332294e+06  1.51816472e+06  5.00888739e+03\n",
            " -6.81193593e+05  1.49588405e+07  9.64111280e+05  2.47134776e+08\n",
            "  3.98327364e+05  4.05017970e+05 -3.09182672e+05  2.00600291e+07\n",
            " -2.11346924e+04 -1.46617484e+07 -2.26781081e+05  1.08118689e+07\n",
            " -1.17698351e+07  4.97088056e+04 -1.53226818e+06 -1.28069135e+05\n",
            " -8.97527426e+05 -2.93522240e+05  1.11497907e+07 -1.71734294e+07\n",
            " -1.20226773e+04  1.69412060e+08 -1.02420892e+07 -4.18073255e+06\n",
            "  6.83858171e+05 -1.13645698e+06 -1.05857639e+07 -5.66974514e+06\n",
            "  5.35179945e+04  9.87970034e+07 -2.08290177e+07 -1.61750661e+08\n",
            " -5.24416390e+05 -5.22055971e+06 -9.40600263e+05  8.76777988e+04\n",
            "  3.36455429e+03  2.91067030e+05  2.45286493e+05  6.19010682e+04\n",
            "  3.58451341e+04 -1.30413821e+07  7.53195068e+05 -6.18517452e+05\n",
            "  2.01779775e+05 -1.17951639e+06 -8.09623567e+05 -3.49412692e+05\n",
            "  5.60064302e+05 -3.09622037e+05  4.12583665e+05 -8.51764491e+04\n",
            "  2.46819128e+05  2.04999498e+06 -8.76930124e+06 -2.46573685e+08\n",
            " -2.78126373e+06 -1.30699410e+06  1.62332347e+05  5.09930954e+06\n",
            "  2.90279703e+04 -2.93955923e+05 -2.51394912e+05  2.47735728e+04\n",
            " -1.11329036e+05  3.02582476e+07  1.02710343e+07  6.90889552e+06\n",
            "  1.64951337e+06  2.18623285e+06 -3.45242444e+05 -1.21705787e+06\n",
            " -7.57872921e+07  4.46233148e+06  9.79625225e+04 -1.17939694e+05\n",
            " -1.47521670e+06  5.91902431e+06  5.28399228e+05 -9.33747304e+03\n",
            "  8.05683419e+05 -6.85040110e+03  1.41928449e+05 -1.13145486e+06\n",
            "  1.24758808e-03  1.26613304e-05  7.95661658e-03 -1.90110017e-01\n",
            " -2.73972750e-04 -1.64346695e-02  1.20747834e-04  2.79510394e-04\n",
            "  1.16528999e-02 -1.27152540e-04  3.54763120e-04  2.60360539e-05\n",
            " -3.99569981e-05  1.49834231e-02 -4.09663580e-02 -8.73475146e-05\n",
            "  2.88835727e-04  2.07412243e-03  1.70618296e-06 -2.11000443e-04\n",
            "  6.93781301e-04 -1.01850973e-03  3.45101114e-04 -7.72491097e-03\n",
            " -8.74017132e-06  1.79596841e-02  2.44814716e-03 -3.25100124e-02\n",
            " -6.35248423e-03  1.96806575e-02  5.98059967e-04  9.44323605e-04\n",
            " -1.24446861e-02  5.73329395e-03 -8.37594271e-05  2.15631723e-03\n",
            "  6.37532503e-06 -1.51872635e-03 -4.11868095e-05  5.51076233e-03\n",
            " -5.33057377e-04  4.97444924e-02  2.46465206e-04  3.65571007e-02\n",
            " -8.41347136e-02 -3.55657339e-02  2.12126970e-03  6.82568550e-03\n",
            "  4.03279439e-04 -3.41899693e-03  1.30240247e-03  3.57000739e-04\n",
            " -4.43529821e-04  6.27910709e-02  1.00143487e-03  5.74860093e-03\n",
            " -4.76361020e-05  2.57042646e-02 -1.21684745e-04  1.48982462e-03\n",
            " -8.98620114e-04 -3.45946122e-02 -4.88814712e-03 -2.64825206e-03\n",
            " -2.18363767e-02  6.25900459e-03 -4.12943773e-05 -1.97414099e-03\n",
            " -3.08176642e-03 -7.22415745e-04  5.11465222e-02  1.58905983e-03\n",
            " -4.50003147e-03  1.34979561e-03 -7.38305971e-06 -5.37438691e-03\n",
            " -7.12259498e-04 -8.16715676e-02  2.93646520e-03  1.41710243e-02\n",
            " -9.32592782e-03  9.89055634e-03 -6.63455725e-02  1.08669698e-03\n",
            "  3.99241596e-03 -7.44357705e-04 -5.26204705e-04  3.20340507e-03\n",
            "  1.68424845e-02 -6.28202409e-03 -1.99945190e-03  1.05130253e-04\n",
            " -3.86714004e-03 -1.20891854e-02 -5.16008120e-03  2.18490667e-03\n",
            " -1.64329074e-04  2.35393898e-03  1.41555092e-02 -1.60217453e-02\n",
            "  1.44232562e-01  6.30852359e+01 -5.20527454e+01]\n",
            "tf.Tensor(-366.3347159118964, shape=(), dtype=float64)\n"
          ],
          "name": "stdout"
        },
        {
          "output_type": "display_data",
          "data": {
            "image/png": "[encoded data removed]",
            "text/plain": [
              "<Figure size 432x288 with 1 Axes>"
            ]
          },
          "metadata": {
            "tags": [],
            "needs_background": "light"
          }
        },
        {
          "output_type": "stream",
          "text": [
            "Variational Model ELBO is -366.33\n"
          ],
          "name": "stdout"
        }
      ]
    },
    {
      "cell_type": "code",
      "metadata": {
        "id": "bGNoVizs0lLs",
        "colab_type": "code",
        "colab": {}
      },
      "source": [
        "with open('./model', 'wb') as fp:\n",
        "    pickle.dump(model.trainable_parameters, fp)\n",
        "    pickle.dump(inducing_variable.omegas, fp)\n",
        "    pickle.dump(inducing_variable.phis, fp)\n",
        "    pickle.dump(model.likelihood.variance, fp)"
      ],
      "execution_count": 11,
      "outputs": []
    },
    {
      "cell_type": "code",
      "metadata": {
        "id": "FCnyqPZRB0md",
        "colab_type": "code",
        "colab": {
          "base_uri": "https://localhost:8080/",
          "height": 300
        },
        "outputId": "a1c2aa86-a56b-44e2-e7eb-a723373e6e71"
      },
      "source": [
        "mean, std = model.predict_f(Xtest, False, False)\n",
        "std = tf.sqrt(std)\n",
        "plot(Xtest, [(mean, std, 'r', 'c')])\n",
        "\n",
        "print(\"ELBO of SGPR model is %4.2f\" % model.elbo().numpy())\n",
        "print(\"log( p( Y | θ ) ) of exact GP is %4.2f\" % exactModel.log_marginal_likelihood().numpy())"
      ],
      "execution_count": 12,
      "outputs": [
        {
          "output_type": "display_data",
          "data": {
            "image/png": "[encoded data removed]",
            "text/plain": [
              "<Figure size 432x288 with 1 Axes>"
            ]
          },
          "metadata": {
            "tags": [],
            "needs_background": "light"
          }
        },
        {
          "output_type": "stream",
          "text": [
            "ELBO of SGPR model is -366.34\n",
            "log( p( Y | θ ) ) of exact GP is -68.31\n"
          ],
          "name": "stdout"
        }
      ]
    },
    {
      "cell_type": "markdown",
      "metadata": {
        "id": "oM9RJ52KutSu",
        "colab_type": "text"
      },
      "source": [
        "# Feature comparison with Variational Fourier Features"
      ]
    },
    {
      "cell_type": "code",
      "metadata": {
        "id": "opaxDTiBu5Tr",
        "colab_type": "code",
        "colab": {
          "base_uri": "https://localhost:8080/",
          "height": 559
        },
        "outputId": "c4bd9b01-2bdd-47b1-8186-73e267885d32"
      },
      "source": [
        "def getNextVFFmodel(VFFmodel, numAddedFrequencies):\n",
        "  VFFlength = len(VFFmodel.inducing_variable.omegas) + numAddedFrequencies\n",
        "\n",
        "  kernel3 = gpflow.kernels.Matern12(variance=1.0, lengthscales=0.7)\n",
        "\n",
        "  VFFinducingVar = VFF_IV.FourierFeatures1D(0,6, VFFlength)\n",
        "  newVFFmodel = gpflow.models.SGPR((X, Y), kernel3, VFFinducingVar)\n",
        "  # newVFFmodel.likelihood = VFFmodel.likelihood\n",
        "\n",
        "  return newVFFmodel\n",
        "\n",
        "def getNextRVFFmodel(RVFFmodel, numAddedFrequencies):\n",
        "  prevLength = len(RVFFmodel.inducing_variable)\n",
        "  RVFFlength = prevLength + numAddedFrequencies\n",
        "\n",
        "  RVFFinducingVar = RVFF_1D(a=0, b=6, M=RVFFlength)\n",
        "\n",
        "  highestOmega = tf.math.reduce_max(RVFFmodel.inducing_variable.omegas.read_value()).numpy()\n",
        "  newOmegas = tf.concat( [ RVFFmodel.inducing_variable.omegas.read_value(), np.random.uniform(0.5 * prevLength, 0.5 * RVFFlength, numAddedFrequencies) ], axis=0 )\n",
        "  newPhis = tf.concat( [ RVFFmodel.inducing_variable.phis.read_value(), np.random.uniform(0, 2 * np.pi, numAddedFrequencies) ], axis=0 )\n",
        "\n",
        "  RVFFinducingVar.omegas.assign( newOmegas )\n",
        "  RVFFinducingVar.phis.assign( newPhis )\n",
        "\n",
        "  newRVFFmodel = gpflow.models.SGPR((X, Y), RVFFmodel.kernel, RVFFinducingVar)\n",
        "  newRVFFmodel.likelihood = RVFFmodel.likelihood\n",
        "\n",
        "  gpflow.set_trainable(newRVFFmodel.inducing_variable.a, False)\n",
        "  gpflow.set_trainable(newRVFFmodel.inducing_variable.b, False)\n",
        "  gpflow.set_trainable(newRVFFmodel.inducing_variable.phis, False)\n",
        "  gpflow.set_trainable(newRVFFmodel.inducing_variable.omegas, False)\n",
        "  gpflow.set_trainable(newRVFFmodel.likelihood, True)\n",
        "\n",
        "  RVFFmodel.inducing_variable = RVFFinducingVar\n",
        "\n",
        "  return newRVFFmodel\n",
        "\n",
        "def getModels(numBasisFunctions):\n",
        "\n",
        "  if numBasisFunctions % 2 != 1:\n",
        "    return\n",
        "\n",
        "  kernel1 = gpflow.kernels.Matern12(variance=1.0, lengthscales=0.7)\n",
        "  kernel3 = gpflow.kernels.Matern12(variance=1.0, lengthscales=0.7)\n",
        "\n",
        "  # ==============================================================\n",
        "  # VFF model setup:\n",
        "  VFFlength = int(( numBasisFunctions + 1 ) / 2)\n",
        "  VFFinducingVar = VFF_IV.FourierFeatures1D(0, 6, VFFlength)\n",
        "  VFFmodel = gpflow.models.SGPR((X, Y), kernel1, VFFinducingVar)\n",
        "  # ==============================================================\n",
        "\n",
        "  # ==============================================================\n",
        "  # RVFF model, with randomly initialised frequencies:\n",
        "  RVFFlength = numBasisFunctions #2 * VFFlength - 1\n",
        "  inducing_variable = RVFF_1D( a=0, b=6, M=RVFFlength )\n",
        "\n",
        "  RVFFmodel = gpflow.models.SGPR( (X, Y), kernel=kernel3, inducing_variable=inducing_variable )\n",
        "  # ==============================================================\n",
        "\n",
        "  # ==============================================================\n",
        "  # Trainable parameters setup:\n",
        "  gpflow.set_trainable(kernel1, True)\n",
        "  gpflow.set_trainable(kernel3, True)\n",
        "\n",
        "  gpflow.set_trainable(VFFmodel.inducing_variable.a, False)\n",
        "  gpflow.set_trainable(VFFmodel.inducing_variable.b, False)\n",
        "  gpflow.set_trainable(VFFmodel.likelihood, True)\n",
        "\n",
        "  gpflow.set_trainable(RVFFmodel.inducing_variable.a, False)\n",
        "  gpflow.set_trainable(RVFFmodel.inducing_variable.b, False)\n",
        "  gpflow.set_trainable(RVFFmodel.inducing_variable.phis, False)\n",
        "  gpflow.set_trainable(RVFFmodel.inducing_variable.omegas, False)\n",
        "  gpflow.set_trainable(RVFFmodel.likelihood, True)\n",
        "\n",
        "  # ==============================================================\n",
        "\n",
        "  return VFFmodel, RVFFmodel\n",
        "\n",
        "# ==============================================================\n",
        "# Loss function:\n",
        "@tf.function\n",
        "def loss(model):\n",
        "  def loss_closure():\n",
        "    return -model.elbo()\n",
        "  return loss_closure\n",
        "# ==============================================================\n",
        "\n",
        "def initializeVariables(vars):\n",
        "  for var in vars:\n",
        "    var.assign( tf.random.normal( shape=var.numpy().shape, mean=var, dtype=default_float() ) )\n",
        "\n",
        "  return vars\n",
        "\n",
        "# optimizer = tf.optimizers.Adam(learning_rate=0.001)\n",
        "optimizer = gpflow.optimizers.Scipy()\n",
        "\n",
        "def train(model, maxIterPerModel, ELBOtolerance):\n",
        "\n",
        "  print(\"\\n===================================================================\")\n",
        "  print(\"====================== TRAINING NEW MODEL =========================\")\n",
        "  print(\"===================================================================\\n\")\n",
        "\n",
        "  result = optimizer.minimize(loss(model), initializeVariables(model.trainable_variables), step_callback=callback, options=dict(maxiter=1000, disp=True))\n",
        "\n",
        "  print(\"result:\")\n",
        "  print(result.message)\n",
        "\n",
        "  print(model.elbo())\n",
        "\n",
        "\n",
        "#   prevElbo = model.elbo() + 2 * ELBOtolerance\n",
        "\n",
        "#   for i in range(maxIterPerModel):\n",
        "#     if i % 100 == 0:\n",
        "#       elbo = model.elbo()\n",
        "#       print(\"Iteration %2d\" % i)\n",
        "#       print(\"Kernel lengthscale: %2.2f\" % model.kernel.lengthscales.read_value() )\n",
        "#       print(\"Kernel variance: %2.2f\" % model.kernel.variance.read_value() )\n",
        "#       print(\"Model likelihood variance: %2.2f\" % model.likelihood.variance.read_value() )\n",
        "#       print(\"Model ELBO: %2.2f\" % elbo )\n",
        "\n",
        "#       # mean, std = model.predict_f(Xtest, False, False)\n",
        "#       # std = tf.sqrt(std)\n",
        "#       # plot(Xtest, [(mean, std, 'r', 'c')])\n",
        "\n",
        "#       if tf.abs( prevElbo - elbo ) < ELBOtolerance:\n",
        "#         break\n",
        "\n",
        "#       prevElbo = elbo\n",
        "\n",
        "#     optimizer.minimize( loss=loss(model), var_list=model.trainable_variables )\n",
        "\n",
        "#   print(\"Final ELBO is %2.2f\" % model.elbo().numpy())\n",
        "\n",
        "  return model.elbo().numpy()\n",
        "\n",
        "def transposeListOfLists(l):\n",
        "  l = np.array(l)\n",
        "  l = l.T\n",
        "  return l.tolist()\n",
        "\n",
        "numAddedFeatures = 1\n",
        "\n",
        "numOfBasis = list(np.arange(21, 150, numAddedFeatures))\n",
        "models = list(getModels(21))\n",
        "\n",
        "elbos = list()\n",
        "# unoptimisedRVFFelbos = list()\n",
        "\n",
        "prevELBOS = [ -1000, -1000 ]\n",
        "\n",
        "for length in numOfBasis:\n",
        "  # unoptimisedRVFFelbos.append(models[1].elbo().numpy())\n",
        "  currentELBOS = []\n",
        "  print(\"Current number of basis functions: %3d\" % length)\n",
        "  for i, model in enumerate(models):\n",
        "    newELBO = train(model, 10000, 10e-2)\n",
        "    \n",
        "    while newELBO < prevELBOS[i]:\n",
        "      newELBO = train(model, 10000, 10e-2)\n",
        "    \n",
        "    currentELBOS.append( newELBO )\n",
        "  prevELBOS = list(currentELBOS)\n",
        "  elbos.append(currentELBOS)\n",
        "  models[0] = getNextVFFmodel(models[0], numAddedFeatures)\n",
        "  models[1] = getNextRVFFmodel(models[1], numAddedFeatures)\n",
        "\n",
        "elbos = transposeListOfLists(elbos)\n",
        "\n",
        "VFFelbos = elbos[0]\n",
        "RVFFelbos = elbos[1]\n",
        "\n",
        "plt.plot(numOfBasis, VFFelbos)\n",
        "plt.plot(numOfBasis, RVFFelbos)\n",
        "# plt.plot(numOfBasis, unoptimisedRVFFelbos)\n",
        "\n",
        "plt.show()"
      ],
      "execution_count": 13,
      "outputs": [
        {
          "output_type": "stream",
          "text": [
            "Current number of basis functions:  21\n",
            "\n",
            "===================================================================\n",
            "====================== TRAINING NEW MODEL =========================\n",
            "===================================================================\n",
            "\n",
            "WARNING:tensorflow:From /usr/local/lib/python3.6/dist-packages/tensorflow/python/ops/linalg/linear_operator_low_rank_update.py:227: LinearOperator.graph_parents (from tensorflow.python.ops.linalg.linear_operator) is deprecated and will be removed in a future version.\n",
            "Instructions for updating:\n",
            "Do not call `graph_parents`.\n"
          ],
          "name": "stdout"
        },
        {
          "output_type": "error",
          "ename": "TypeError",
          "evalue": "ignored",
          "traceback": [
            "\u001b[0;31m---------------------------------------------------------------------------\u001b[0m",
            "\u001b[0;31mTypeError\u001b[0m                                 Traceback (most recent call last)",
            "\u001b[0;32m<ipython-input-13-baa07cd9ad05>\u001b[0m in \u001b[0;36m<module>\u001b[0;34m()\u001b[0m\n\u001b[1;32m    156\u001b[0m   \u001b[0mprint\u001b[0m\u001b[0;34m(\u001b[0m\u001b[0;34m\"Current number of basis functions: %3d\"\u001b[0m \u001b[0;34m%\u001b[0m \u001b[0mlength\u001b[0m\u001b[0;34m)\u001b[0m\u001b[0;34m\u001b[0m\u001b[0;34m\u001b[0m\u001b[0m\n\u001b[1;32m    157\u001b[0m   \u001b[0;32mfor\u001b[0m \u001b[0mi\u001b[0m\u001b[0;34m,\u001b[0m \u001b[0mmodel\u001b[0m \u001b[0;32min\u001b[0m \u001b[0menumerate\u001b[0m\u001b[0;34m(\u001b[0m\u001b[0mmodels\u001b[0m\u001b[0;34m)\u001b[0m\u001b[0;34m:\u001b[0m\u001b[0;34m\u001b[0m\u001b[0;34m\u001b[0m\u001b[0m\n\u001b[0;32m--> 158\u001b[0;31m     \u001b[0mnewELBO\u001b[0m \u001b[0;34m=\u001b[0m \u001b[0mtrain\u001b[0m\u001b[0;34m(\u001b[0m\u001b[0mmodel\u001b[0m\u001b[0;34m,\u001b[0m \u001b[0;36m10000\u001b[0m\u001b[0;34m,\u001b[0m \u001b[0;36m10e-2\u001b[0m\u001b[0;34m)\u001b[0m\u001b[0;34m\u001b[0m\u001b[0;34m\u001b[0m\u001b[0m\n\u001b[0m\u001b[1;32m    159\u001b[0m \u001b[0;34m\u001b[0m\u001b[0m\n\u001b[1;32m    160\u001b[0m     \u001b[0;32mwhile\u001b[0m \u001b[0mnewELBO\u001b[0m \u001b[0;34m<\u001b[0m \u001b[0mprevELBOS\u001b[0m\u001b[0;34m[\u001b[0m\u001b[0mi\u001b[0m\u001b[0;34m]\u001b[0m\u001b[0;34m:\u001b[0m\u001b[0;34m\u001b[0m\u001b[0;34m\u001b[0m\u001b[0m\n",
            "\u001b[0;32m<ipython-input-13-baa07cd9ad05>\u001b[0m in \u001b[0;36mtrain\u001b[0;34m(model, maxIterPerModel, ELBOtolerance)\u001b[0m\n\u001b[1;32m    102\u001b[0m   \u001b[0mprint\u001b[0m\u001b[0;34m(\u001b[0m\u001b[0;34m\"===================================================================\\n\"\u001b[0m\u001b[0;34m)\u001b[0m\u001b[0;34m\u001b[0m\u001b[0;34m\u001b[0m\u001b[0m\n\u001b[1;32m    103\u001b[0m \u001b[0;34m\u001b[0m\u001b[0m\n\u001b[0;32m--> 104\u001b[0;31m   \u001b[0mresult\u001b[0m \u001b[0;34m=\u001b[0m \u001b[0moptimizer\u001b[0m\u001b[0;34m.\u001b[0m\u001b[0mminimize\u001b[0m\u001b[0;34m(\u001b[0m\u001b[0mloss\u001b[0m\u001b[0;34m(\u001b[0m\u001b[0mmodel\u001b[0m\u001b[0;34m)\u001b[0m\u001b[0;34m,\u001b[0m \u001b[0minitializeVariables\u001b[0m\u001b[0;34m(\u001b[0m\u001b[0mmodel\u001b[0m\u001b[0;34m.\u001b[0m\u001b[0mtrainable_variables\u001b[0m\u001b[0;34m)\u001b[0m\u001b[0;34m,\u001b[0m \u001b[0mstep_callback\u001b[0m\u001b[0;34m=\u001b[0m\u001b[0mcallback\u001b[0m\u001b[0;34m,\u001b[0m \u001b[0moptions\u001b[0m\u001b[0;34m=\u001b[0m\u001b[0mdict\u001b[0m\u001b[0;34m(\u001b[0m\u001b[0mmaxiter\u001b[0m\u001b[0;34m=\u001b[0m\u001b[0;36m1000\u001b[0m\u001b[0;34m,\u001b[0m \u001b[0mdisp\u001b[0m\u001b[0;34m=\u001b[0m\u001b[0;32mTrue\u001b[0m\u001b[0;34m)\u001b[0m\u001b[0;34m)\u001b[0m\u001b[0;34m\u001b[0m\u001b[0;34m\u001b[0m\u001b[0m\n\u001b[0m\u001b[1;32m    105\u001b[0m \u001b[0;34m\u001b[0m\u001b[0m\n\u001b[1;32m    106\u001b[0m   \u001b[0mprint\u001b[0m\u001b[0;34m(\u001b[0m\u001b[0;34m\"result:\"\u001b[0m\u001b[0;34m)\u001b[0m\u001b[0;34m\u001b[0m\u001b[0;34m\u001b[0m\u001b[0m\n",
            "\u001b[0;32m/usr/local/lib/python3.6/dist-packages/gpflow/optimizers/scipy.py\u001b[0m in \u001b[0;36mminimize\u001b[0;34m(self, closure, variables, method, step_callback, compile, **scipy_kwargs)\u001b[0m\n\u001b[1;32m     73\u001b[0m \u001b[0;34m\u001b[0m\u001b[0m\n\u001b[1;32m     74\u001b[0m         return scipy.optimize.minimize(\n\u001b[0;32m---> 75\u001b[0;31m             \u001b[0mfunc\u001b[0m\u001b[0;34m,\u001b[0m \u001b[0minitial_params\u001b[0m\u001b[0;34m,\u001b[0m \u001b[0mjac\u001b[0m\u001b[0;34m=\u001b[0m\u001b[0;32mTrue\u001b[0m\u001b[0;34m,\u001b[0m \u001b[0mmethod\u001b[0m\u001b[0;34m=\u001b[0m\u001b[0mmethod\u001b[0m\u001b[0;34m,\u001b[0m \u001b[0;34m**\u001b[0m\u001b[0mscipy_kwargs\u001b[0m\u001b[0;34m\u001b[0m\u001b[0;34m\u001b[0m\u001b[0m\n\u001b[0m\u001b[1;32m     76\u001b[0m         )\n\u001b[1;32m     77\u001b[0m \u001b[0;34m\u001b[0m\u001b[0m\n",
            "\u001b[0;32m/usr/local/lib/python3.6/dist-packages/scipy/optimize/_minimize.py\u001b[0m in \u001b[0;36mminimize\u001b[0;34m(fun, x0, args, method, jac, hess, hessp, bounds, constraints, tol, callback, options)\u001b[0m\n\u001b[1;32m    608\u001b[0m     \u001b[0;32melif\u001b[0m \u001b[0mmeth\u001b[0m \u001b[0;34m==\u001b[0m \u001b[0;34m'l-bfgs-b'\u001b[0m\u001b[0;34m:\u001b[0m\u001b[0;34m\u001b[0m\u001b[0;34m\u001b[0m\u001b[0m\n\u001b[1;32m    609\u001b[0m         return _minimize_lbfgsb(fun, x0, args, jac, bounds,\n\u001b[0;32m--> 610\u001b[0;31m                                 callback=callback, **options)\n\u001b[0m\u001b[1;32m    611\u001b[0m     \u001b[0;32melif\u001b[0m \u001b[0mmeth\u001b[0m \u001b[0;34m==\u001b[0m \u001b[0;34m'tnc'\u001b[0m\u001b[0;34m:\u001b[0m\u001b[0;34m\u001b[0m\u001b[0;34m\u001b[0m\u001b[0m\n\u001b[1;32m    612\u001b[0m         return _minimize_tnc(fun, x0, args, jac, bounds, callback=callback,\n",
            "\u001b[0;32m/usr/local/lib/python3.6/dist-packages/scipy/optimize/lbfgsb.py\u001b[0m in \u001b[0;36m_minimize_lbfgsb\u001b[0;34m(fun, x0, args, jac, bounds, disp, maxcor, ftol, gtol, eps, maxfun, maxiter, iprint, callback, maxls, **unknown_options)\u001b[0m\n\u001b[1;32m    348\u001b[0m             \u001b[0mn_iterations\u001b[0m \u001b[0;34m+=\u001b[0m \u001b[0;36m1\u001b[0m\u001b[0;34m\u001b[0m\u001b[0;34m\u001b[0m\u001b[0m\n\u001b[1;32m    349\u001b[0m             \u001b[0;32mif\u001b[0m \u001b[0mcallback\u001b[0m \u001b[0;32mis\u001b[0m \u001b[0;32mnot\u001b[0m \u001b[0;32mNone\u001b[0m\u001b[0;34m:\u001b[0m\u001b[0;34m\u001b[0m\u001b[0;34m\u001b[0m\u001b[0m\n\u001b[0;32m--> 350\u001b[0;31m                 \u001b[0mcallback\u001b[0m\u001b[0;34m(\u001b[0m\u001b[0mnp\u001b[0m\u001b[0;34m.\u001b[0m\u001b[0mcopy\u001b[0m\u001b[0;34m(\u001b[0m\u001b[0mx\u001b[0m\u001b[0;34m)\u001b[0m\u001b[0;34m)\u001b[0m\u001b[0;34m\u001b[0m\u001b[0;34m\u001b[0m\u001b[0m\n\u001b[0m\u001b[1;32m    351\u001b[0m \u001b[0;34m\u001b[0m\u001b[0m\n\u001b[1;32m    352\u001b[0m             \u001b[0;32mif\u001b[0m \u001b[0mn_iterations\u001b[0m \u001b[0;34m>=\u001b[0m \u001b[0mmaxiter\u001b[0m\u001b[0;34m:\u001b[0m\u001b[0;34m\u001b[0m\u001b[0;34m\u001b[0m\u001b[0m\n",
            "\u001b[0;32m/usr/local/lib/python3.6/dist-packages/gpflow/optimizers/scipy.py\u001b[0m in \u001b[0;36m_callback\u001b[0;34m(x)\u001b[0m\n\u001b[1;32m    109\u001b[0m             \u001b[0;32mnonlocal\u001b[0m \u001b[0mstep\u001b[0m\u001b[0;34m\u001b[0m\u001b[0;34m\u001b[0m\u001b[0m\n\u001b[1;32m    110\u001b[0m             \u001b[0mvalues\u001b[0m \u001b[0;34m=\u001b[0m \u001b[0mcls\u001b[0m\u001b[0;34m.\u001b[0m\u001b[0munpack_tensors\u001b[0m\u001b[0;34m(\u001b[0m\u001b[0mvariables\u001b[0m\u001b[0;34m,\u001b[0m \u001b[0mx\u001b[0m\u001b[0;34m)\u001b[0m\u001b[0;34m\u001b[0m\u001b[0;34m\u001b[0m\u001b[0m\n\u001b[0;32m--> 111\u001b[0;31m             \u001b[0mstep_callback\u001b[0m\u001b[0;34m(\u001b[0m\u001b[0mstep\u001b[0m\u001b[0;34m,\u001b[0m \u001b[0mvariables\u001b[0m\u001b[0;34m,\u001b[0m \u001b[0mvalues\u001b[0m\u001b[0;34m)\u001b[0m\u001b[0;34m\u001b[0m\u001b[0;34m\u001b[0m\u001b[0m\n\u001b[0m\u001b[1;32m    112\u001b[0m             \u001b[0mstep\u001b[0m \u001b[0;34m+=\u001b[0m \u001b[0;36m1\u001b[0m\u001b[0;34m\u001b[0m\u001b[0;34m\u001b[0m\u001b[0m\n\u001b[1;32m    113\u001b[0m \u001b[0;34m\u001b[0m\u001b[0m\n",
            "\u001b[0;31mTypeError\u001b[0m: callback() takes 1 positional argument but 3 were given"
          ]
        }
      ]
    },
    {
      "cell_type": "code",
      "metadata": {
        "id": "93mNFsbjndtc",
        "colab_type": "code",
        "colab": {}
      },
      "source": [
        "start = 0\n",
        "\n",
        "plt.plot(numOfBasis[start:], VFFelbos[start:])\n",
        "plt.plot(numOfBasis[start:], RVFFelbos[start:])\n",
        "# plt.plot(numOfBasis[start:], unoptimisedRVFFelbos[start:])\n",
        "plt.legend([\"VFF\", \"RVFF\"])\n",
        "plt.show()"
      ],
      "execution_count": null,
      "outputs": []
    }
  ]
}