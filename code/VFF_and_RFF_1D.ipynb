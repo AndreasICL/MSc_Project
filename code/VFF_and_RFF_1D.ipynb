{
  "nbformat": 4,
  "nbformat_minor": 0,
  "metadata": {
    "colab": {
      "name": "VFF_and_RFF_1D.ipynb",
      "provenance": [],
      "toc_visible": true,
      "authorship_tag": "ABX9TyMpO1ZOFehufdZcSqcr88Rt",
      "include_colab_link": true
    },
    "kernelspec": {
      "name": "python3",
      "display_name": "Python 3"
    }
  },
  "cells": [
    {
      "cell_type": "markdown",
      "metadata": {
        "id": "view-in-github",
        "colab_type": "text"
      },
      "source": [
        "<a href=\"https://colab.research.google.com/github/AndreasICL/MSc_Project/blob/master/code/VFF_and_RFF_1D.ipynb\" target=\"_parent\"><img src=\"https://colab.research.google.com/assets/colab-badge.svg\" alt=\"Open In Colab\"/></a>"
      ]
    },
    {
      "cell_type": "code",
      "metadata": {
        "id": "fW-B5syh75r4",
        "colab_type": "code",
        "outputId": "98e0fc56-2e60-475b-d55c-b097957477f2",
        "colab": {
          "base_uri": "https://localhost:8080/",
          "height": 1000
        }
      },
      "source": [
        "!pip install tensorflow==2.2.0\n",
        "!pip install gpflow\n",
        "!pip install gast\n",
        "!pip install observations\n",
        "# !git clone https://github.com/markvdw/gpflow-monitor.git\n",
        "# !cp -r gpflow-monitor/gpflow_monitor .\n",
        "# !python gpflow-monitor/setup.py develop"
      ],
      "execution_count": 2,
      "outputs": [
        {
          "output_type": "stream",
          "text": [
            "Requirement already satisfied: tensorflow==2.2.0 in /usr/local/lib/python3.6/dist-packages (2.2.0)\n",
            "Requirement already satisfied: opt-einsum>=2.3.2 in /usr/local/lib/python3.6/dist-packages (from tensorflow==2.2.0) (3.2.1)\n",
            "Requirement already satisfied: astunparse==1.6.3 in /usr/local/lib/python3.6/dist-packages (from tensorflow==2.2.0) (1.6.3)\n",
            "Requirement already satisfied: gast==0.3.3 in /usr/local/lib/python3.6/dist-packages (from tensorflow==2.2.0) (0.3.3)\n",
            "Requirement already satisfied: tensorflow-estimator<2.3.0,>=2.2.0 in /usr/local/lib/python3.6/dist-packages (from tensorflow==2.2.0) (2.2.0)\n",
            "Requirement already satisfied: google-pasta>=0.1.8 in /usr/local/lib/python3.6/dist-packages (from tensorflow==2.2.0) (0.2.0)\n",
            "Requirement already satisfied: protobuf>=3.8.0 in /usr/local/lib/python3.6/dist-packages (from tensorflow==2.2.0) (3.10.0)\n",
            "Requirement already satisfied: six>=1.12.0 in /usr/local/lib/python3.6/dist-packages (from tensorflow==2.2.0) (1.12.0)\n",
            "Requirement already satisfied: grpcio>=1.8.6 in /usr/local/lib/python3.6/dist-packages (from tensorflow==2.2.0) (1.29.0)\n",
            "Requirement already satisfied: scipy==1.4.1; python_version >= \"3\" in /usr/local/lib/python3.6/dist-packages (from tensorflow==2.2.0) (1.4.1)\n",
            "Requirement already satisfied: wrapt>=1.11.1 in /usr/local/lib/python3.6/dist-packages (from tensorflow==2.2.0) (1.12.1)\n",
            "Requirement already satisfied: wheel>=0.26; python_version >= \"3\" in /usr/local/lib/python3.6/dist-packages (from tensorflow==2.2.0) (0.34.2)\n",
            "Requirement already satisfied: numpy<2.0,>=1.16.0 in /usr/local/lib/python3.6/dist-packages (from tensorflow==2.2.0) (1.18.4)\n",
            "Requirement already satisfied: termcolor>=1.1.0 in /usr/local/lib/python3.6/dist-packages (from tensorflow==2.2.0) (1.1.0)\n",
            "Requirement already satisfied: tensorboard<2.3.0,>=2.2.0 in /usr/local/lib/python3.6/dist-packages (from tensorflow==2.2.0) (2.2.1)\n",
            "Requirement already satisfied: h5py<2.11.0,>=2.10.0 in /usr/local/lib/python3.6/dist-packages (from tensorflow==2.2.0) (2.10.0)\n",
            "Requirement already satisfied: absl-py>=0.7.0 in /usr/local/lib/python3.6/dist-packages (from tensorflow==2.2.0) (0.9.0)\n",
            "Requirement already satisfied: keras-preprocessing>=1.1.0 in /usr/local/lib/python3.6/dist-packages (from tensorflow==2.2.0) (1.1.2)\n",
            "Requirement already satisfied: setuptools in /usr/local/lib/python3.6/dist-packages (from protobuf>=3.8.0->tensorflow==2.2.0) (46.3.0)\n",
            "Requirement already satisfied: tensorboard-plugin-wit>=1.6.0 in /usr/local/lib/python3.6/dist-packages (from tensorboard<2.3.0,>=2.2.0->tensorflow==2.2.0) (1.6.0.post3)\n",
            "Requirement already satisfied: markdown>=2.6.8 in /usr/local/lib/python3.6/dist-packages (from tensorboard<2.3.0,>=2.2.0->tensorflow==2.2.0) (3.2.2)\n",
            "Requirement already satisfied: google-auth<2,>=1.6.3 in /usr/local/lib/python3.6/dist-packages (from tensorboard<2.3.0,>=2.2.0->tensorflow==2.2.0) (1.7.2)\n",
            "Requirement already satisfied: requests<3,>=2.21.0 in /usr/local/lib/python3.6/dist-packages (from tensorboard<2.3.0,>=2.2.0->tensorflow==2.2.0) (2.23.0)\n",
            "Requirement already satisfied: google-auth-oauthlib<0.5,>=0.4.1 in /usr/local/lib/python3.6/dist-packages (from tensorboard<2.3.0,>=2.2.0->tensorflow==2.2.0) (0.4.1)\n",
            "Requirement already satisfied: werkzeug>=0.11.15 in /usr/local/lib/python3.6/dist-packages (from tensorboard<2.3.0,>=2.2.0->tensorflow==2.2.0) (1.0.1)\n",
            "Requirement already satisfied: importlib-metadata; python_version < \"3.8\" in /usr/local/lib/python3.6/dist-packages (from markdown>=2.6.8->tensorboard<2.3.0,>=2.2.0->tensorflow==2.2.0) (1.6.0)\n",
            "Requirement already satisfied: cachetools<3.2,>=2.0.0 in /usr/local/lib/python3.6/dist-packages (from google-auth<2,>=1.6.3->tensorboard<2.3.0,>=2.2.0->tensorflow==2.2.0) (3.1.1)\n",
            "Requirement already satisfied: pyasn1-modules>=0.2.1 in /usr/local/lib/python3.6/dist-packages (from google-auth<2,>=1.6.3->tensorboard<2.3.0,>=2.2.0->tensorflow==2.2.0) (0.2.8)\n",
            "Requirement already satisfied: rsa<4.1,>=3.1.4 in /usr/local/lib/python3.6/dist-packages (from google-auth<2,>=1.6.3->tensorboard<2.3.0,>=2.2.0->tensorflow==2.2.0) (4.0)\n",
            "Requirement already satisfied: chardet<4,>=3.0.2 in /usr/local/lib/python3.6/dist-packages (from requests<3,>=2.21.0->tensorboard<2.3.0,>=2.2.0->tensorflow==2.2.0) (3.0.4)\n",
            "Requirement already satisfied: urllib3!=1.25.0,!=1.25.1,<1.26,>=1.21.1 in /usr/local/lib/python3.6/dist-packages (from requests<3,>=2.21.0->tensorboard<2.3.0,>=2.2.0->tensorflow==2.2.0) (1.24.3)\n",
            "Requirement already satisfied: idna<3,>=2.5 in /usr/local/lib/python3.6/dist-packages (from requests<3,>=2.21.0->tensorboard<2.3.0,>=2.2.0->tensorflow==2.2.0) (2.9)\n",
            "Requirement already satisfied: certifi>=2017.4.17 in /usr/local/lib/python3.6/dist-packages (from requests<3,>=2.21.0->tensorboard<2.3.0,>=2.2.0->tensorflow==2.2.0) (2020.4.5.1)\n",
            "Requirement already satisfied: requests-oauthlib>=0.7.0 in /usr/local/lib/python3.6/dist-packages (from google-auth-oauthlib<0.5,>=0.4.1->tensorboard<2.3.0,>=2.2.0->tensorflow==2.2.0) (1.3.0)\n",
            "Requirement already satisfied: zipp>=0.5 in /usr/local/lib/python3.6/dist-packages (from importlib-metadata; python_version < \"3.8\"->markdown>=2.6.8->tensorboard<2.3.0,>=2.2.0->tensorflow==2.2.0) (3.1.0)\n",
            "Requirement already satisfied: pyasn1<0.5.0,>=0.4.6 in /usr/local/lib/python3.6/dist-packages (from pyasn1-modules>=0.2.1->google-auth<2,>=1.6.3->tensorboard<2.3.0,>=2.2.0->tensorflow==2.2.0) (0.4.8)\n",
            "Requirement already satisfied: oauthlib>=3.0.0 in /usr/local/lib/python3.6/dist-packages (from requests-oauthlib>=0.7.0->google-auth-oauthlib<0.5,>=0.4.1->tensorboard<2.3.0,>=2.2.0->tensorflow==2.2.0) (3.1.0)\n",
            "Requirement already satisfied: gpflow in /usr/local/lib/python3.6/dist-packages (2.0.3)\n",
            "Requirement already satisfied: dataclasses in /usr/local/lib/python3.6/dist-packages (from gpflow) (0.7)\n",
            "Requirement already satisfied: multipledispatch>=0.6 in /usr/local/lib/python3.6/dist-packages (from gpflow) (0.6.0)\n",
            "Requirement already satisfied: tabulate in /usr/local/lib/python3.6/dist-packages (from gpflow) (0.8.7)\n",
            "Requirement already satisfied: typing-extensions in /usr/local/lib/python3.6/dist-packages (from gpflow) (3.6.6)\n",
            "Requirement already satisfied: tensorflow>=2.1.0 in /usr/local/lib/python3.6/dist-packages (from gpflow) (2.2.0)\n",
            "Requirement already satisfied: tensorflow-probability>=0.9 in /usr/local/lib/python3.6/dist-packages (from gpflow) (0.10.0)\n",
            "Requirement already satisfied: scipy>=0.18.0 in /usr/local/lib/python3.6/dist-packages (from gpflow) (1.4.1)\n",
            "Requirement already satisfied: numpy>=1.10.0 in /usr/local/lib/python3.6/dist-packages (from gpflow) (1.18.4)\n",
            "Requirement already satisfied: six in /usr/local/lib/python3.6/dist-packages (from multipledispatch>=0.6->gpflow) (1.12.0)\n",
            "Requirement already satisfied: h5py<2.11.0,>=2.10.0 in /usr/local/lib/python3.6/dist-packages (from tensorflow>=2.1.0->gpflow) (2.10.0)\n",
            "Requirement already satisfied: keras-preprocessing>=1.1.0 in /usr/local/lib/python3.6/dist-packages (from tensorflow>=2.1.0->gpflow) (1.1.2)\n",
            "Requirement already satisfied: astunparse==1.6.3 in /usr/local/lib/python3.6/dist-packages (from tensorflow>=2.1.0->gpflow) (1.6.3)\n",
            "Requirement already satisfied: absl-py>=0.7.0 in /usr/local/lib/python3.6/dist-packages (from tensorflow>=2.1.0->gpflow) (0.9.0)\n",
            "Requirement already satisfied: opt-einsum>=2.3.2 in /usr/local/lib/python3.6/dist-packages (from tensorflow>=2.1.0->gpflow) (3.2.1)\n",
            "Requirement already satisfied: protobuf>=3.8.0 in /usr/local/lib/python3.6/dist-packages (from tensorflow>=2.1.0->gpflow) (3.10.0)\n",
            "Requirement already satisfied: tensorboard<2.3.0,>=2.2.0 in /usr/local/lib/python3.6/dist-packages (from tensorflow>=2.1.0->gpflow) (2.2.1)\n",
            "Requirement already satisfied: wrapt>=1.11.1 in /usr/local/lib/python3.6/dist-packages (from tensorflow>=2.1.0->gpflow) (1.12.1)\n",
            "Requirement already satisfied: tensorflow-estimator<2.3.0,>=2.2.0 in /usr/local/lib/python3.6/dist-packages (from tensorflow>=2.1.0->gpflow) (2.2.0)\n",
            "Requirement already satisfied: wheel>=0.26; python_version >= \"3\" in /usr/local/lib/python3.6/dist-packages (from tensorflow>=2.1.0->gpflow) (0.34.2)\n",
            "Requirement already satisfied: gast==0.3.3 in /usr/local/lib/python3.6/dist-packages (from tensorflow>=2.1.0->gpflow) (0.3.3)\n",
            "Requirement already satisfied: termcolor>=1.1.0 in /usr/local/lib/python3.6/dist-packages (from tensorflow>=2.1.0->gpflow) (1.1.0)\n",
            "Requirement already satisfied: google-pasta>=0.1.8 in /usr/local/lib/python3.6/dist-packages (from tensorflow>=2.1.0->gpflow) (0.2.0)\n",
            "Requirement already satisfied: grpcio>=1.8.6 in /usr/local/lib/python3.6/dist-packages (from tensorflow>=2.1.0->gpflow) (1.29.0)\n",
            "Requirement already satisfied: cloudpickle>=1.2.2 in /usr/local/lib/python3.6/dist-packages (from tensorflow-probability>=0.9->gpflow) (1.3.0)\n",
            "Requirement already satisfied: decorator in /usr/local/lib/python3.6/dist-packages (from tensorflow-probability>=0.9->gpflow) (4.4.2)\n",
            "Requirement already satisfied: setuptools in /usr/local/lib/python3.6/dist-packages (from protobuf>=3.8.0->tensorflow>=2.1.0->gpflow) (46.3.0)\n",
            "Requirement already satisfied: markdown>=2.6.8 in /usr/local/lib/python3.6/dist-packages (from tensorboard<2.3.0,>=2.2.0->tensorflow>=2.1.0->gpflow) (3.2.2)\n",
            "Requirement already satisfied: werkzeug>=0.11.15 in /usr/local/lib/python3.6/dist-packages (from tensorboard<2.3.0,>=2.2.0->tensorflow>=2.1.0->gpflow) (1.0.1)\n",
            "Requirement already satisfied: tensorboard-plugin-wit>=1.6.0 in /usr/local/lib/python3.6/dist-packages (from tensorboard<2.3.0,>=2.2.0->tensorflow>=2.1.0->gpflow) (1.6.0.post3)\n",
            "Requirement already satisfied: google-auth<2,>=1.6.3 in /usr/local/lib/python3.6/dist-packages (from tensorboard<2.3.0,>=2.2.0->tensorflow>=2.1.0->gpflow) (1.7.2)\n",
            "Requirement already satisfied: requests<3,>=2.21.0 in /usr/local/lib/python3.6/dist-packages (from tensorboard<2.3.0,>=2.2.0->tensorflow>=2.1.0->gpflow) (2.23.0)\n",
            "Requirement already satisfied: google-auth-oauthlib<0.5,>=0.4.1 in /usr/local/lib/python3.6/dist-packages (from tensorboard<2.3.0,>=2.2.0->tensorflow>=2.1.0->gpflow) (0.4.1)\n",
            "Requirement already satisfied: importlib-metadata; python_version < \"3.8\" in /usr/local/lib/python3.6/dist-packages (from markdown>=2.6.8->tensorboard<2.3.0,>=2.2.0->tensorflow>=2.1.0->gpflow) (1.6.0)\n",
            "Requirement already satisfied: cachetools<3.2,>=2.0.0 in /usr/local/lib/python3.6/dist-packages (from google-auth<2,>=1.6.3->tensorboard<2.3.0,>=2.2.0->tensorflow>=2.1.0->gpflow) (3.1.1)\n",
            "Requirement already satisfied: rsa<4.1,>=3.1.4 in /usr/local/lib/python3.6/dist-packages (from google-auth<2,>=1.6.3->tensorboard<2.3.0,>=2.2.0->tensorflow>=2.1.0->gpflow) (4.0)\n",
            "Requirement already satisfied: pyasn1-modules>=0.2.1 in /usr/local/lib/python3.6/dist-packages (from google-auth<2,>=1.6.3->tensorboard<2.3.0,>=2.2.0->tensorflow>=2.1.0->gpflow) (0.2.8)\n",
            "Requirement already satisfied: urllib3!=1.25.0,!=1.25.1,<1.26,>=1.21.1 in /usr/local/lib/python3.6/dist-packages (from requests<3,>=2.21.0->tensorboard<2.3.0,>=2.2.0->tensorflow>=2.1.0->gpflow) (1.24.3)\n",
            "Requirement already satisfied: certifi>=2017.4.17 in /usr/local/lib/python3.6/dist-packages (from requests<3,>=2.21.0->tensorboard<2.3.0,>=2.2.0->tensorflow>=2.1.0->gpflow) (2020.4.5.1)\n",
            "Requirement already satisfied: idna<3,>=2.5 in /usr/local/lib/python3.6/dist-packages (from requests<3,>=2.21.0->tensorboard<2.3.0,>=2.2.0->tensorflow>=2.1.0->gpflow) (2.9)\n",
            "Requirement already satisfied: chardet<4,>=3.0.2 in /usr/local/lib/python3.6/dist-packages (from requests<3,>=2.21.0->tensorboard<2.3.0,>=2.2.0->tensorflow>=2.1.0->gpflow) (3.0.4)\n",
            "Requirement already satisfied: requests-oauthlib>=0.7.0 in /usr/local/lib/python3.6/dist-packages (from google-auth-oauthlib<0.5,>=0.4.1->tensorboard<2.3.0,>=2.2.0->tensorflow>=2.1.0->gpflow) (1.3.0)\n",
            "Requirement already satisfied: zipp>=0.5 in /usr/local/lib/python3.6/dist-packages (from importlib-metadata; python_version < \"3.8\"->markdown>=2.6.8->tensorboard<2.3.0,>=2.2.0->tensorflow>=2.1.0->gpflow) (3.1.0)\n",
            "Requirement already satisfied: pyasn1>=0.1.3 in /usr/local/lib/python3.6/dist-packages (from rsa<4.1,>=3.1.4->google-auth<2,>=1.6.3->tensorboard<2.3.0,>=2.2.0->tensorflow>=2.1.0->gpflow) (0.4.8)\n",
            "Requirement already satisfied: oauthlib>=3.0.0 in /usr/local/lib/python3.6/dist-packages (from requests-oauthlib>=0.7.0->google-auth-oauthlib<0.5,>=0.4.1->tensorboard<2.3.0,>=2.2.0->tensorflow>=2.1.0->gpflow) (3.1.0)\n",
            "Requirement already satisfied: gast in /usr/local/lib/python3.6/dist-packages (0.3.3)\n",
            "Requirement already satisfied: observations in /usr/local/lib/python3.6/dist-packages (0.1.4)\n",
            "Requirement already satisfied: numpy>=1.7 in /usr/local/lib/python3.6/dist-packages (from observations) (1.18.4)\n",
            "Requirement already satisfied: six>=1.10.0 in /usr/local/lib/python3.6/dist-packages (from observations) (1.12.0)\n"
          ],
          "name": "stdout"
        }
      ]
    },
    {
      "cell_type": "code",
      "metadata": {
        "id": "u3cwbeHz8Exr",
        "colab_type": "code",
        "colab": {}
      },
      "source": [
        "from typing import Tuple, Optional\n",
        "import tempfile\n",
        "import pathlib\n",
        "\n",
        "import datetime\n",
        "import io\n",
        "import matplotlib.pyplot as plt\n",
        "\n",
        "import numpy as np\n",
        "import tensorflow as tf\n",
        "import gpflow\n",
        "\n",
        "import matplotlib.pyplot as plt\n",
        "\n",
        "from gpflow.config import default_float\n",
        "from gpflow.ci_utils import ci_niter\n",
        "from gpflow.utilities import to_default_float\n",
        "from gpflow.base import TensorLike\n",
        "from gpflow import covariances as cov\n",
        "from gpflow import kullback_leiblers as kl\n",
        "\n",
        "\n",
        "from __future__ import absolute_import\n",
        "from __future__ import division\n",
        "from __future__ import print_function\n",
        "\n",
        "import csv\n",
        "import numpy as np\n",
        "import os\n",
        "from shutil import copyfile, rmtree\n",
        "import pickle\n",
        "\n",
        "import observations\n",
        "\n",
        "import warnings\n",
        "\n",
        "warnings.filterwarnings(\"ignore\")"
      ],
      "execution_count": 0,
      "outputs": []
    },
    {
      "cell_type": "markdown",
      "metadata": {
        "id": "y5FxoiegAZe1",
        "colab_type": "text"
      },
      "source": [
        "Make `tensorboard` work inside notebook:"
      ]
    },
    {
      "cell_type": "code",
      "metadata": {
        "id": "YmCOr2hs8355",
        "colab_type": "code",
        "colab": {}
      },
      "source": [
        "output_logdir = \"/tmp/tensorboard\"\n",
        "\n",
        "!rm -rf \"{output_logdir}\"\n",
        "!mkdir \"{output_logdir}\"\n",
        "\n",
        "%load_ext tensorboard\n",
        "%matplotlib inline\n",
        "\n",
        "\n",
        "def enumerated_logdir(_logdir_id: int = [0]):\n",
        "    logdir = pathlib.Path(output_logdir, str(_logdir_id[0]))\n",
        "    _logdir_id[0] += 1\n",
        "    return str(logdir)"
      ],
      "execution_count": 0,
      "outputs": []
    },
    {
      "cell_type": "markdown",
      "metadata": {
        "id": "8A27JdlvAZfE",
        "colab_type": "text"
      },
      "source": [
        "Set up random seeds and default float for `gpflow` tensors:"
      ]
    },
    {
      "cell_type": "code",
      "metadata": {
        "id": "flnWsQF1_h3W",
        "colab_type": "code",
        "colab": {}
      },
      "source": [
        "gpflow.config.set_default_float(np.float64)\n",
        "np.random.seed(0)\n",
        "tf.random.set_seed(0)"
      ],
      "execution_count": 0,
      "outputs": []
    },
    {
      "cell_type": "markdown",
      "metadata": {
        "id": "eJsA3bUEAZfP",
        "colab_type": "text"
      },
      "source": [
        "## Loading the snelson dataset"
      ]
    },
    {
      "cell_type": "code",
      "metadata": {
        "id": "uZDkEmxQEqqN",
        "colab_type": "code",
        "colab": {}
      },
      "source": [
        "'''\n",
        "  This code was copied from https://github.com/edwardlib/observations/blob/master/observations/snelson1d.py\n",
        "  on 01/05/2020\n",
        "'''\n",
        "\n",
        "from observations.util import maybe_download_and_extract\n",
        "\n",
        "\n",
        "def snelson1d(path):\n",
        "  \"\"\"Load Edward Snelson's 1d regression data set [@snelson2006fitc].\n",
        "  It contains 200 examples of a few oscillations of an example function. It has\n",
        "  seen extensive use as a toy dataset for illustrating qualitative behaviour of\n",
        "  Gaussian process approximations.\n",
        "  Args:\n",
        "    path: str.\n",
        "      Path to directory which either stores file or otherwise file will be\n",
        "      downloaded and extracted there. Filenames are `snelson_train_*`.\n",
        "  Returns:\n",
        "    Tuple of two np.darray `inputs` and `outputs` with 200 rows and 1 column.\n",
        "  \"\"\"\n",
        "  path = os.path.expanduser(path)\n",
        "  inputs_path = os.path.join(path, 'snelson_train_inputs')\n",
        "  outputs_path = os.path.join(path, 'snelson_train_outputs')\n",
        "\n",
        "  # Contains all source as well. We just need the data.\n",
        "  url = 'http://www.gatsby.ucl.ac.uk/~snelson/SPGP_dist.zip'\n",
        "\n",
        "  if not (os.path.exists(inputs_path) and os.path.exists(outputs_path)):\n",
        "    maybe_download_and_extract(path, url)\n",
        "\n",
        "    # Copy the required data\n",
        "    copyfile(os.path.join(path, \"SPGP_dist\", \"train_inputs\"), inputs_path)\n",
        "    copyfile(os.path.join(path, \"SPGP_dist\", \"train_outputs\"), outputs_path)\n",
        "\n",
        "    # Clean up everything else\n",
        "    rmtree(os.path.join(path, \"SPGP_dist\"))\n",
        "    os.remove(os.path.join(path, \"SPGP_dist.zip\"))\n",
        "\n",
        "  X = np.loadtxt(os.path.join(inputs_path))[:, None]\n",
        "  Y = np.loadtxt(os.path.join(outputs_path))[:, None]\n",
        "\n",
        "  return X, Y"
      ],
      "execution_count": 0,
      "outputs": []
    },
    {
      "cell_type": "code",
      "metadata": {
        "id": "5cwgLNj8Hw2h",
        "colab_type": "code",
        "colab": {}
      },
      "source": [
        "X, Y = snelson1d(\".\")\n",
        "num_train_data = X.shape[0]"
      ],
      "execution_count": 0,
      "outputs": []
    },
    {
      "cell_type": "markdown",
      "metadata": {
        "id": "Zg8Cz-6OAZfb",
        "colab_type": "text"
      },
      "source": [
        "Working with TensorFlow Datasets is an efficient way to rapidly shuffle, iterate, and batch from data. For `prefetch` size we use `tf.data.experimental.AUTOTUNE` as recommended by TensorFlow [guidelines](https://www.tensorflow.org/guide/data_performance)."
      ]
    },
    {
      "cell_type": "code",
      "metadata": {
        "id": "DUfgEr7aAZfc",
        "colab_type": "code",
        "outputId": "e20bbee5-18b4-40cc-88db-576651f5cafa",
        "colab": {
          "base_uri": "https://localhost:8080/",
          "height": 69
        }
      },
      "source": [
        "train_dataset = tf.data.Dataset.from_tensor_slices((X, Y))\n",
        "\n",
        "batch_size = 32\n",
        "num_features = 10\n",
        "prefetch_size = tf.data.experimental.AUTOTUNE\n",
        "shuffle_buffer_size = num_train_data // 2\n",
        "num_batches_per_epoch = num_train_data // batch_size\n",
        "\n",
        "original_train_dataset = train_dataset\n",
        "train_dataset = (\n",
        "    train_dataset.repeat()\n",
        "    .prefetch(prefetch_size)\n",
        "    .shuffle(buffer_size=shuffle_buffer_size)\n",
        "    .batch(batch_size)\n",
        ")\n",
        "\n",
        "print(f\"prefetch_size={prefetch_size}\")\n",
        "print(f\"shuffle_buffer_size={shuffle_buffer_size}\")\n",
        "print(f\"num_batches_per_epoch={num_batches_per_epoch}\")"
      ],
      "execution_count": 8,
      "outputs": [
        {
          "output_type": "stream",
          "text": [
            "prefetch_size=-1\n",
            "shuffle_buffer_size=100\n",
            "num_batches_per_epoch=6\n"
          ],
          "name": "stdout"
        }
      ]
    },
    {
      "cell_type": "markdown",
      "metadata": {
        "id": "jJdIiObeAZfm",
        "colab_type": "text"
      },
      "source": [
        "## Define a GP model\n",
        "\n",
        "In GPflow 2.0, we use `tf.Module` (or the very thin `gpflow.base.Module` wrapper) to build all our models, as well as their components (kernels, likelihoods, parameters, and so on)."
      ]
    },
    {
      "cell_type": "markdown",
      "metadata": {
        "id": "SCqAtzWBUhax",
        "colab_type": "text"
      },
      "source": [
        "### 1D Random Variational Fourier Feature Class"
      ]
    },
    {
      "cell_type": "code",
      "metadata": {
        "id": "lqaFm4vuUgwL",
        "colab_type": "code",
        "colab": {}
      },
      "source": [
        "class RVFF_1D(gpflow.inducing_variables.InducingVariables):\n",
        "    def __init__(self, a, b, M):\n",
        "        # [a, b] defining the interval of the Fourier representation:\n",
        "        self.a = gpflow.Parameter(a, dtype=gpflow.default_float())\n",
        "        self.b = gpflow.Parameter(b, dtype=gpflow.default_float())\n",
        "\n",
        "        self.phis = np.random.uniform(0, 2 * np.pi, size=M)\n",
        "        var = 200\n",
        "        mean = 30\n",
        "        self.omegas = np.random.uniform(0, 150, size=M)# np.random.multivariate_normal(mean=mean * np.ones(M), cov = var * np.identity(M)) #np.arange(1, 201, 1, dtype=default_float())  # \n",
        "\n",
        "    def __len__(self):\n",
        "        \"\"\" number of inducing variables (defines dimensionality of q(u)) \"\"\" \n",
        "        return len(self.omegas)  # M sine components"
      ],
      "execution_count": 0,
      "outputs": []
    },
    {
      "cell_type": "code",
      "metadata": {
        "id": "mi5s0D0rlFoT",
        "colab_type": "code",
        "colab": {}
      },
      "source": [
        "@cov.Kuu.register(RVFF_1D, gpflow.kernels.Matern12)\n",
        "def Kuu_matern12_RVFF_1D(inducing_variable, kernel, jitter=None):\n",
        "    a, b, omegas, phis = (lambda u: (u.a, u.b, u.omegas, u.phis))(inducing_variable)\n",
        "    \n",
        "    lambda_ = 1.0 / kernel.lengthscales\n",
        "\n",
        "    def innerProduct( intervalLen, omegas, phis, kernelVar, lambda_):\n",
        "      angle1 = intervalLen * ( omegas[:, None] - omegas[None, :] ) + omegas[:, None] * phis[:, None] - omegas[None, :] * phis[None, :]\n",
        "      angle2 = intervalLen * ( omegas[:, None] + omegas[None, :] ) + omegas[:, None] * phis[:, None] + omegas[None, :] * phis[None, :]\n",
        "      angle3 = omegas[:, None] * phis[:, None] - omegas[None, :] * phis[None, :]\n",
        "      angle4 = omegas[:, None] * phis[:, None] + omegas[None, :] * phis[None, :]\n",
        "      angle5 = 2 * omegas * ( intervalLen + phis )\n",
        "      angle6 = 2 * omegas * phis\n",
        "\n",
        "      coeff1 = ( omegas[:, None] * omegas[None, :] + lambda_ * lambda_ ) / ( omegas[:, None] - omegas[None, :] )\n",
        "      coeff2 = ( omegas[:, None] * omegas[None, :] - lambda_ * lambda_ ) / ( omegas[:, None] + omegas[None, :] )\n",
        "      coeff3 = ( omegas * omegas - lambda_ * lambda_ ) / ( 2 * omegas )\n",
        "\n",
        "      denom = 4 * kernelVar * kernelVar * lambda_\n",
        "\n",
        "      firstTerm = ( coeff1 * tf.sin( angle1 ) +\n",
        "                    coeff2 * tf.sin( angle2 ) -\n",
        "                    lambda_ * tf.cos( angle2 ) +\n",
        "                    lambda_ * tf.cos( angle1 ) -\n",
        "                    coeff1 * tf.sin( angle3 ) -\n",
        "                    coeff2 * tf.sin( angle4 ) +\n",
        "                    lambda_ * tf.cos( angle4 ) -\n",
        "                    lambda_ * tf.cos( angle3 ) ) / denom\n",
        "\n",
        "      mainDiag = ( ( omegas * omegas + lambda_ * lambda_ ) * intervalLen + \n",
        "                   coeff3 * tf.sin( angle5 ) -\n",
        "                   ( lambda_ * tf.cos( angle5 ) ) - \n",
        "                   ( coeff3 * tf.sin( angle6 ) ) +\n",
        "                   lambda_ * tf.cos( angle6 ) ) / denom\n",
        "\n",
        "      firstTerm = tf.linalg.set_diag( firstTerm, mainDiag )\n",
        "      secondTerm = tf.sin( omegas[:, None] * phis[:, None] ) * tf.sin( omegas[None, :] * phis[None, :] ) / ( kernelVar * kernelVar )\n",
        "      \n",
        "      res = firstTerm + secondTerm\n",
        "      res = 0.5 * (res + tf.transpose(res))\n",
        "\n",
        "      if jitter != None:\n",
        "        res = res + tf.cast(tf.linalg.diag( jitter * tf.ones( res.shape[0] ) ), default_float())\n",
        "\n",
        "      return res\n",
        "\n",
        "    return innerProduct( b - a, omegas, phis, kernel.variance, lambda_ )\n",
        "\n",
        "@cov.Kuf.register(RVFF_1D, gpflow.kernels.Matern12, TensorLike)\n",
        "def Kuf_matern12_RVFF_1D(inducing_variable, kernel, X):\n",
        "    X = tf.squeeze(X, axis=1)\n",
        "    a, omegas, phis = (lambda u: (u.a, u.omegas, u.phis))(inducing_variable)       \n",
        "    return tf.sin( omegas[:, None] * ( X[None, :] - a + phis[:, None]) )"
      ],
      "execution_count": 0,
      "outputs": []
    },
    {
      "cell_type": "markdown",
      "metadata": {
        "id": "x39wkv8EU6CT",
        "colab_type": "text"
      },
      "source": [
        "#Model Definition:\n",
        "\n",
        "###We use exact inference first"
      ]
    },
    {
      "cell_type": "code",
      "metadata": {
        "id": "H_4SWCm5VV8H",
        "colab_type": "code",
        "colab": {}
      },
      "source": [
        "tf.config.experimental_run_functions_eagerly(True)\n",
        "\n",
        "kernel = gpflow.kernels.Matern12(variance=0.5, lengthscales=0.5)\n",
        "likelihood = gpflow.likelihoods.Gaussian()\n",
        "\n",
        "exactModel = gpflow.models.GPR( (X, Y), kernel )\n",
        "\n",
        "gpflow.utilities.set_trainable(kernel.lengthscales, False)\n",
        "gpflow.utilities.set_trainable(kernel.variance, False)"
      ],
      "execution_count": 0,
      "outputs": []
    },
    {
      "cell_type": "markdown",
      "metadata": {
        "id": "JurwmO73VKF5",
        "colab_type": "text"
      },
      "source": [
        "###We now use approximate inference with Random Variational Fourier Features"
      ]
    },
    {
      "cell_type": "code",
      "metadata": {
        "id": "J1ekb08iAZfo",
        "colab_type": "code",
        "outputId": "d209c4b4-79ef-40a1-8f47-a28e601ee762",
        "colab": {
          "base_uri": "https://localhost:8080/",
          "height": 282
        }
      },
      "source": [
        "# while True:\n",
        "  # print(\"====================================\")\n",
        "  # print(\"======= TRAINING A NEW MODEL =======\")\n",
        "  # print(\"====================================\")\n",
        "kernel = gpflow.kernels.Matern12(variance=0.5, lengthscales=0.5)\n",
        "likelihood = gpflow.likelihoods.Gaussian()\n",
        "\n",
        "M = 300\n",
        "#optimise exact gp wrt hyperparameters\n",
        "# use sgpr instead (Done)\n",
        "#use monte carlo estimate for Kuu ( Done )\n",
        "#make omegas and phis variational parameters\n",
        "inducing_variable = RVFF_1D( a=0, b=6, M=M )\n",
        "\n",
        "optimizer = tf.optimizers.SGD(learning_rate=0.0001)\n",
        "\n",
        "model = gpflow.models.SGPR(\n",
        "    (X, Y), kernel=kernel, inducing_variable=inducing_variable \n",
        ")\n",
        "\n",
        "plot(model)\n",
        "\n",
        "# @tf.function\n",
        "# def loss_closure():\n",
        "#   return -model.elbo()\n",
        "\n",
        "# gpflow.utilities.set_trainable(kernel.lengthscales, False)\n",
        "# gpflow.utilities.set_trainable(kernel.variance, False)\n",
        "# gpflow.utilities.set_trainable(inducing_variable.a, False)\n",
        "# gpflow.utilities.set_trainable(inducing_variable.b, False)\n",
        "\n",
        "# for i in range(2000):\n",
        "#   if i % 100 == 0:\n",
        "#     print(i)\n",
        "#     print(model.elbo() )\n",
        "#     plot(model)\n",
        "#   optimizer.minimize( loss=loss_closure, var_list=model.trainable_variables )\n",
        "\n",
        "# if model.elbo( ) > -380:\n",
        "#   break\n",
        "\n",
        "print( model.elbo() )"
      ],
      "execution_count": 65,
      "outputs": [
        {
          "output_type": "display_data",
          "data": {
            "image/png": "[encoded data removed]",
            "text/plain": [
              "<Figure size 432x288 with 1 Axes>"
            ]
          },
          "metadata": {
            "tags": [],
            "needs_background": "light"
          }
        },
        {
          "output_type": "stream",
          "text": [
            "tf.Tensor(-241.30526894612962, shape=(), dtype=float64)\n"
          ],
          "name": "stdout"
        }
      ]
    },
    {
      "cell_type": "markdown",
      "metadata": {
        "id": "_pmf58c1Bmr8",
        "colab_type": "text"
      },
      "source": [
        "#Testing\n",
        "\n",
        "###Plotting a posterior sample on top of the scatter plot of the data:"
      ]
    },
    {
      "cell_type": "code",
      "metadata": {
        "id": "bGNoVizs0lLs",
        "colab_type": "code",
        "colab": {}
      },
      "source": [
        "with open('./model', 'wb') as fp:\n",
        "    pickle.dump(model.trainable_parameters, fp)\n",
        "    pickle.dump(inducing_variable.omegas, fp)\n",
        "    pickle.dump(inducing_variable.phis, fp)"
      ],
      "execution_count": 0,
      "outputs": []
    },
    {
      "cell_type": "code",
      "metadata": {
        "id": "b9IkuFnAF5IV",
        "colab_type": "code",
        "colab": {}
      },
      "source": [
        "with open('./model', 'rb') as fp:\n",
        "    param_dict = pickle.load(fp)\n",
        "    omegas = pickle.load(fp)\n",
        "    phis = pickle.load(fp)\n",
        "\n",
        "M = 250\n",
        "\n",
        "inducing_variable = RVFF_1D( a=0, b=6, M=M )\n",
        "inducing_variable.omegas = omegas\n",
        "inducing_variable.phis = phis\n",
        "\n",
        "model = gpflow.models.SGPR((X, Y), kernel=kernel, inducing_variable=inducing_variable)\n",
        "\n",
        "gpflow.utilities.set_trainable(kernel.lengthscales, False)\n",
        "gpflow.utilities.set_trainable(kernel.variance, False)\n",
        "gpflow.utilities.set_trainable(inducing_variable.a, False)\n",
        "gpflow.utilities.set_trainable(inducing_variable.b, False)\n",
        "\n",
        "if len(model.trainable_parameters) == len(param_dict):\n",
        "  for i in range(len(model.trainable_parameters)):\n",
        "    model.trainable_parameters[i].assign(param_dict[i])"
      ],
      "execution_count": 0,
      "outputs": []
    },
    {
      "cell_type": "code",
      "metadata": {
        "id": "FCnyqPZRB0md",
        "colab_type": "code",
        "outputId": "5d71eb84-a2f4-4402-91e0-4debd2bf9d62",
        "colab": {
          "base_uri": "https://localhost:8080/",
          "height": 300
        }
      },
      "source": [
        "from gpflow.conditionals import conditional\n",
        "\n",
        "def plot(model):\n",
        "  Xtest = np.arange(0.0, 6.0, 0.01).reshape(-1, 1)\n",
        "  wideXtest = np.arange(-15.0, 15.0, 0.01).reshape(-1, 1)\n",
        "\n",
        "  modelMean, modelVar = model.predict_f( Xtest, full_cov=False, full_output_cov=False )\n",
        "  \n",
        "  q_mu, q_sqrt = model.compute_qu()\n",
        "  \n",
        "  exactPosteriorMean = exactModel.predict_f( Xtest )[0]\n",
        "\n",
        "  plt.plot(Xtest, modelMean + tf.sqrt(modelVar), color='c')\n",
        "  plt.plot(Xtest, modelMean - tf.sqrt(modelVar), color='c')\n",
        "\n",
        "  plt.fill_between(np.squeeze(Xtest), np.squeeze(modelMean + tf.sqrt(modelVar)), np.squeeze(modelMean - tf.sqrt(modelVar)), color='c', alpha=0.2)\n",
        "\n",
        "  plt.scatter(X, Y, s=15)\n",
        "  \n",
        "  plt.plot(Xtest, modelMean, color='r')\n",
        "  plt.plot(Xtest, exactPosteriorMean, color='m')\n",
        "  plt.show()\n",
        "\n",
        "plot(model)\n",
        "print(\"ELBO of SGPR model is %4.2f\" % model.elbo().numpy())\n",
        "print(\"log( p( Y | θ ) ) of exact GP is %4.2f\" % exactModel.log_marginal_likelihood().numpy())"
      ],
      "execution_count": 42,
      "outputs": [
        {
          "output_type": "display_data",
          "data": {
            "image/png": "[encoded data removed]",
            "text/plain": [
              "<Figure size 432x288 with 1 Axes>"
            ]
          },
          "metadata": {
            "tags": [],
            "needs_background": "light"
          }
        },
        {
          "output_type": "stream",
          "text": [
            "ELBO of SGPR model is 1769.34\n",
            "log( p( Y | θ ) ) of exact GP is -215.34\n"
          ],
          "name": "stdout"
        }
      ]
    },
    {
      "cell_type": "markdown",
      "metadata": {
        "id": "nUMvPD9gLdu4",
        "colab_type": "text"
      },
      "source": [
        "#Testing whether $q(u) = p(u)$ when we fix q_sqrt = cholesky($K_{uu}$)"
      ]
    },
    {
      "cell_type": "code",
      "metadata": {
        "id": "Se5vp063L3PS",
        "colab_type": "code",
        "outputId": "9a1ff49a-3e6b-45be-fdf7-ec1860b9c644",
        "colab": {
          "base_uri": "https://localhost:8080/",
          "height": 324
        }
      },
      "source": [
        "kernel = gpflow.kernels.Matern12(variance=5, lengthscales=10.0)\n",
        "likelihood = gpflow.likelihoods.Gaussian()\n",
        "\n",
        "M = 200\n",
        "\n",
        "inducing_variable = RVFF_1D( a=0, b=6, M=M )\n",
        "\n",
        "def testPriorEqualsPosterior():\n",
        "  M = 200\n",
        "  model = gpflow.models.SGPR(\n",
        "      (X, Y), kernel=kernel, inducing_variable=inducing_variable\n",
        "  )\n",
        "  # model.com = tf.reshape( tf.linalg.cholesky( Kuu_matern12_RVFF_1D(model.inducing_variable, model.kernel) ), (-1, M, M) )\n",
        "  \n",
        "  return model.prior_kl()\n",
        "\n",
        "print( \"KL[ q(u) | p(u) ] = %2.3f\" % testPriorEqualsPosterior() )"
      ],
      "execution_count": 41,
      "outputs": [
        {
          "output_type": "error",
          "ename": "AttributeError",
          "evalue": "ignored",
          "traceback": [
            "\u001b[0;31m---------------------------------------------------------------------------\u001b[0m",
            "\u001b[0;31mAttributeError\u001b[0m                            Traceback (most recent call last)",
            "\u001b[0;32m<ipython-input-41-793c7068f466>\u001b[0m in \u001b[0;36m<module>\u001b[0;34m()\u001b[0m\n\u001b[1;32m     15\u001b[0m   \u001b[0;32mreturn\u001b[0m \u001b[0mmodel\u001b[0m\u001b[0;34m.\u001b[0m\u001b[0mprior_kl\u001b[0m\u001b[0;34m(\u001b[0m\u001b[0;34m)\u001b[0m\u001b[0;34m\u001b[0m\u001b[0;34m\u001b[0m\u001b[0m\n\u001b[1;32m     16\u001b[0m \u001b[0;34m\u001b[0m\u001b[0m\n\u001b[0;32m---> 17\u001b[0;31m \u001b[0mprint\u001b[0m\u001b[0;34m(\u001b[0m \u001b[0;34m\"KL[ q(u) | p(u) ] = %2.3f\"\u001b[0m \u001b[0;34m%\u001b[0m \u001b[0mtestPriorEqualsPosterior\u001b[0m\u001b[0;34m(\u001b[0m\u001b[0;34m)\u001b[0m \u001b[0;34m)\u001b[0m\u001b[0;34m\u001b[0m\u001b[0;34m\u001b[0m\u001b[0m\n\u001b[0m",
            "\u001b[0;32m<ipython-input-41-793c7068f466>\u001b[0m in \u001b[0;36mtestPriorEqualsPosterior\u001b[0;34m()\u001b[0m\n\u001b[1;32m     13\u001b[0m   \u001b[0;31m# model.com = tf.reshape( tf.linalg.cholesky( Kuu_matern12_RVFF_1D(model.inducing_variable, model.kernel) ), (-1, M, M) )\u001b[0m\u001b[0;34m\u001b[0m\u001b[0;34m\u001b[0m\u001b[0;34m\u001b[0m\u001b[0m\n\u001b[1;32m     14\u001b[0m \u001b[0;34m\u001b[0m\u001b[0m\n\u001b[0;32m---> 15\u001b[0;31m   \u001b[0;32mreturn\u001b[0m \u001b[0mmodel\u001b[0m\u001b[0;34m.\u001b[0m\u001b[0mprior_kl\u001b[0m\u001b[0;34m(\u001b[0m\u001b[0;34m)\u001b[0m\u001b[0;34m\u001b[0m\u001b[0;34m\u001b[0m\u001b[0m\n\u001b[0m\u001b[1;32m     16\u001b[0m \u001b[0;34m\u001b[0m\u001b[0m\n\u001b[1;32m     17\u001b[0m \u001b[0mprint\u001b[0m\u001b[0;34m(\u001b[0m \u001b[0;34m\"KL[ q(u) | p(u) ] = %2.3f\"\u001b[0m \u001b[0;34m%\u001b[0m \u001b[0mtestPriorEqualsPosterior\u001b[0m\u001b[0;34m(\u001b[0m\u001b[0;34m)\u001b[0m \u001b[0;34m)\u001b[0m\u001b[0;34m\u001b[0m\u001b[0;34m\u001b[0m\u001b[0m\n",
            "\u001b[0;31mAttributeError\u001b[0m: 'SGPR' object has no attribute 'prior_kl'"
          ]
        }
      ]
    },
    {
      "cell_type": "markdown",
      "metadata": {
        "id": "qArAU1teqmwa",
        "colab_type": "text"
      },
      "source": [
        "Testing whether $K_{uu}$ is computed correctly with Monte-Carlo integration:"
      ]
    },
    {
      "cell_type": "code",
      "metadata": {
        "id": "t6csrckPqmF6",
        "colab_type": "code",
        "outputId": "21513b43-0325-4be9-ea21-54a71d0d7145",
        "colab": {
          "base_uri": "https://localhost:8080/",
          "height": 34
        }
      },
      "source": [
        "def grid_search_integrate(f, bound1, bound2, numOfSamples):\n",
        "  samples = tf.range(bound1, bound2, ( bound2 - bound1 ) / float(numOfSamples))\n",
        "  V = tf.math.reduce_prod( bound2 - bound1 )\n",
        "\n",
        "  return V * tf.math.reduce_sum( f( samples ) ) / numOfSamples\n",
        "\n",
        "def mattern_half_inner_product_integrand(f, g, df, dg, lambda_):\n",
        "  def evaluate_on(x):\n",
        "    return ( lambda_ * f(x) + df(x) ) * ( lambda_ * g(x) + dg(x) )\n",
        "  return evaluate_on\n",
        "\n",
        "def grid_search_mattern_half_inner_prod( sigma, lambda_, a, b, omega1, phi1, omega2, phi2 ):\n",
        "  f = sin(omega1, a, phi1)\n",
        "  g = sin(omega2, a, phi2)\n",
        "  \n",
        "  df = dsin(omega1, a, phi1)\n",
        "  dg = dsin(omega2, a, phi2)\n",
        "\n",
        "  integral = grid_search_integrate(\n",
        "      mattern_half_inner_product_integrand(f, g, df, dg, lambda_),\n",
        "      a,\n",
        "      b,\n",
        "      10e7\n",
        "  )\n",
        "\n",
        "  term1 = integral / ( 2 * lambda_ * sigma * sigma )\n",
        "  term2 = f(a) * g(a) / (sigma * sigma)\n",
        "\n",
        "  return term1 + term2\n",
        "\n",
        "def sin( omega, a, phi ):\n",
        "  def compute_sin(x):\n",
        "    return tf.sin( omega * ( x - a + phi ) )\n",
        "  return compute_sin\n",
        "\n",
        "def dsin( omega, a, phi ):\n",
        "  def compute_dsin(x):\n",
        "    return omega * tf.cos( omega * ( x - a + phi ) )\n",
        "  return compute_dsin\n",
        "\n",
        "def test_Kuu_evaluation(inducing_variable, kernel, tol):\n",
        "  analyticKuu = gpflow.covariances.Kuu(inducing_variable, kernel)\n",
        "  numericalKuu = np.empty((len(inducing_variable), len(inducing_variable)))\n",
        "\n",
        "  a, b, omegas, phis = (lambda u: (u.a, u.b, u.omegas, u.phis)) (inducing_variable)  \n",
        "  lambda_, sigma = (lambda k: (1/k.lengthscales, k.variance))(kernel)\n",
        "\n",
        "  for i in range(len(inducing_variable)):\n",
        "    for j in range(len(inducing_variable)):\n",
        "      numericalKuu[i, j] = grid_search_mattern_half_inner_prod(sigma, lambda_, a, b, omegas[i], phis[i], omegas[j], phis[j])\n",
        "\n",
        "  return True if tf.reduce_all( abs(analyticKuu - numericalKuu) < tol ) else False\n",
        "\n",
        "str = \"Test passed!\" if test_Kuu_evaluation(RVFF_1D(0, 6, 2), gpflow.kernels.Matern12(), 10e-4) else \"Test failed.\"\n",
        "print(str)"
      ],
      "execution_count": 32,
      "outputs": [
        {
          "output_type": "stream",
          "text": [
            "Test passed!\n"
          ],
          "name": "stdout"
        }
      ]
    },
    {
      "cell_type": "markdown",
      "metadata": {
        "id": "vaHh1W7icTv1",
        "colab_type": "text"
      },
      "source": [
        "Testing whether the predictive covariance $K_{ff}$ is positive semidefinite."
      ]
    },
    {
      "cell_type": "code",
      "metadata": {
        "id": "JwUmrDmlcARS",
        "colab_type": "code",
        "outputId": "b277bfd7-2e22-4f95-c6ef-27bb33c1a610",
        "colab": {
          "base_uri": "https://localhost:8080/",
          "height": 1000
        }
      },
      "source": [
        "x=tf.constant([[5.5]], dtype=default_float())\n",
        "# Kmn = Kuf_matern12_RVFF_1D(inducing_variable, kernel, x )\n",
        "# Knn = kernel(x)\n",
        "# Kmm = Kuu_matern12_RVFF_1D(inducing_variable, kernel, jitter=1e-6)\n",
        "\n",
        "from gpflow.conditionals import conditional\n",
        "Xtest = np.arange(0.0, 6.0, 0.01).reshape(-1, 1)\n",
        "\n",
        "q_mu, q_sqrt = model.compute_qu()\n",
        "\n",
        "print(tf.linalg.eigh(q_sqrt)[0])\n",
        "\n",
        "mean, predictive_cov = model.predict_f(x, False, False)\n",
        "\n",
        "print(tf.linalg.eigh(predictive_cov)[0])\n",
        "\n",
        "def is_psd(matrix, tol):\n",
        "  return tf.reduce_all(tf.linalg.eigh(matrix)[1] > tol)\n",
        "\n",
        "def test_predictive_cov_is_psd(model):\n",
        "  Xtest = np.arange(0, 6, 0.05).reshape(-1, 1)\n",
        "  predictive_cov = tf.squeeze( model.predict_f(X, True, False)[1] )\n",
        "  print(tf.linalg.eigh(Kff)[0])\n",
        "  return is_psd(predictive_cov, 1e-5)\n",
        "  \n",
        "# print( \"predictive_cov is psd: %d\" + \"True\" if test_predictive_cov_is_psd(model) else \"False\" )"
      ],
      "execution_count": 97,
      "outputs": [
        {
          "output_type": "stream",
          "text": [
            "tf.Tensor(\n",
            "[1.00979764e-06 1.60492929e-06 6.88604088e-06 1.49805067e-05\n",
            " 2.54250214e-05 1.24687169e-04 7.88654640e-04 3.77678154e-03\n",
            " 5.70696081e-03 1.01477454e-02 3.70399654e-02 5.75584400e-02\n",
            " 9.60071957e-02 9.79498210e-02 1.65374680e-01 1.75365850e-01\n",
            " 2.80707721e-01 3.29298779e-01 3.73725345e-01 4.89799344e-01\n",
            " 5.95881045e-01 6.57599304e-01 7.11299467e-01 1.38426599e+00\n",
            " 2.08803209e+00 2.45666426e+00 3.30872035e+00 3.40119814e+00\n",
            " 3.54083732e+00 4.47249843e+00 5.41026643e+00 6.55739165e+00\n",
            " 1.05161287e+01 1.29892472e+01 1.65560674e+01 1.90261852e+01\n",
            " 2.02118672e+01 2.18302965e+01 2.29550752e+01 2.50919309e+01\n",
            " 2.58337281e+01 2.77977338e+01 2.93946587e+01 2.99707604e+01\n",
            " 3.29409926e+01 3.34705876e+01 3.45801453e+01 3.70851659e+01\n",
            " 4.27149149e+01 4.52688988e+01 4.80696386e+01 4.89105872e+01\n",
            " 5.16909857e+01 6.12743127e+01 6.62618494e+01 7.17503772e+01\n",
            " 7.31797167e+01 7.34381707e+01 7.88897908e+01 8.57625962e+01\n",
            " 9.35157105e+01 9.90855825e+01 1.05627324e+02 1.07277601e+02\n",
            " 1.11535664e+02 1.15471739e+02 1.18987710e+02 1.24566565e+02\n",
            " 1.27112278e+02 1.30661441e+02 1.74010443e+02 1.76790960e+02\n",
            " 1.81524050e+02 1.89963669e+02 2.02435781e+02 2.15297189e+02\n",
            " 2.54732215e+02 2.60547898e+02 2.72732478e+02 2.88431020e+02\n",
            " 3.15580335e+02 3.26424521e+02 3.47528237e+02 3.70653077e+02\n",
            " 3.84235291e+02 3.94561155e+02 4.12888494e+02 4.34734866e+02\n",
            " 4.52264825e+02 4.88534523e+02 5.00053580e+02 5.32367713e+02\n",
            " 5.67920142e+02 5.74042265e+02 5.84274449e+02 5.92342068e+02\n",
            " 6.14918937e+02 6.22590232e+02 6.44845156e+02 6.50530849e+02\n",
            " 6.57603877e+02 6.76176660e+02 6.85599073e+02 7.15648646e+02\n",
            " 7.33056561e+02 7.45805392e+02 7.97169452e+02 8.06640288e+02\n",
            " 8.35567198e+02 8.68305005e+02 9.25449835e+02 9.62218105e+02\n",
            " 9.73232516e+02 9.81577620e+02 1.00558582e+03 1.04316147e+03\n",
            " 1.05526600e+03 1.08670269e+03 1.12886423e+03 1.18530117e+03\n",
            " 1.21241661e+03 1.26675376e+03 1.34694273e+03 1.39791002e+03\n",
            " 1.46751408e+03 1.54090090e+03 1.65804106e+03 1.67010296e+03\n",
            " 1.72725336e+03 1.80868711e+03 1.82082607e+03 1.84573933e+03\n",
            " 1.88963210e+03 1.94404640e+03 1.95864234e+03 2.02634669e+03\n",
            " 2.05714428e+03 2.14198020e+03 2.20307019e+03 2.23755568e+03\n",
            " 2.26924352e+03 2.28147810e+03 2.30451042e+03 2.34177503e+03\n",
            " 2.38597630e+03 2.40853963e+03 2.49391558e+03 2.53893736e+03\n",
            " 2.58508528e+03 2.58680157e+03 2.69302495e+03 2.70400386e+03\n",
            " 2.78014511e+03 2.87720954e+03 2.90188832e+03 2.97168803e+03\n",
            " 2.99092532e+03 3.02064651e+03 3.08550395e+03 3.11610522e+03\n",
            " 3.16920592e+03 3.23669179e+03 3.30885569e+03 3.39402080e+03\n",
            " 3.41079922e+03 3.47184454e+03 3.48430436e+03 3.57808886e+03\n",
            " 3.63650360e+03 3.66266792e+03 3.70737659e+03 3.86625065e+03\n",
            " 4.03946591e+03 4.06224144e+03 4.11755651e+03 4.26244910e+03\n",
            " 4.29977958e+03 4.32625950e+03 4.38906768e+03 4.50532664e+03\n",
            " 4.71367355e+03 4.72386782e+03 4.76870816e+03 4.93089956e+03\n",
            " 4.94182517e+03 5.08233569e+03 5.18836069e+03 5.35650289e+03\n",
            " 5.50216800e+03 5.81853214e+03 5.94100257e+03 6.15670710e+03\n",
            " 6.26622896e+03 6.38259491e+03 6.48620385e+03 6.55026039e+03\n",
            " 6.65166624e+03 6.86445078e+03 6.91807428e+03 7.15707361e+03\n",
            " 7.30356779e+03 7.49026841e+03 7.84099679e+03 8.02179462e+03\n",
            " 8.22528215e+03 8.23004965e+03 8.56241058e+03 8.71167622e+03\n",
            " 9.06056232e+03 9.24386253e+03 9.48805485e+03 9.53464769e+03\n",
            " 9.85726817e+03 1.02568403e+04 1.06054061e+04 1.07548113e+04\n",
            " 1.08782095e+04 1.18202920e+04 1.18797308e+04 1.22878967e+04\n",
            " 1.25130109e+04 1.28663400e+04 1.43469871e+04 1.47798774e+04\n",
            " 1.50303871e+04 1.51145337e+04 1.52434837e+04 1.56766740e+04\n",
            " 1.57002518e+04 1.64025007e+04 1.65495308e+04 1.67659019e+04\n",
            " 1.74663526e+04 1.76488844e+04 1.80594873e+04 1.83249102e+04\n",
            " 1.85560444e+04 1.89833592e+04 2.02488750e+04 2.13563623e+04\n",
            " 2.17306458e+04 2.26940401e+04 2.32693263e+04 2.34459005e+04\n",
            " 2.52610601e+04 2.60649292e+04 2.66344360e+04 2.69837585e+04\n",
            " 3.29133678e+04 3.55131982e+04], shape=(250,), dtype=float64)\n",
            "tf.Tensor([-1.34381407], shape=(1,), dtype=float64)\n"
          ],
          "name": "stdout"
        }
      ]
    },
    {
      "cell_type": "code",
      "metadata": {
        "id": "AqE95mmHX8vL",
        "colab_type": "code",
        "outputId": "ea6276fc-1511-4cdd-a3fd-9ae2b6cc93af",
        "colab": {
          "base_uri": "https://localhost:8080/",
          "height": 278
        }
      },
      "source": [
        "x=tf.constant([[0.3]], dtype=default_float())\n",
        "Kmn = Kuf_matern12_RVFF_1D(inducing_variable, kernel, x )\n",
        "Knn = kernel(x)\n",
        "Kmm = Kuu_matern12_RVFF_1D(inducing_variable, kernel, jitter=1e-6)\n",
        "\n",
        "q_sqrt = tf.squeeze(model.q_sqrt)\n",
        "\n",
        "var = Knn - tf.transpose(Kmn) @ tf.linalg.inv(Kmm) @ ( Kmm - tf.transpose(q_sqrt) @ q_sqrt ) @ tf.linalg.inv(Kmm) @ Kmn\n",
        "\n",
        "print(Kmm - tf.transpose(q_sqrt) @ q_sqrt)\n",
        "print(var)"
      ],
      "execution_count": 0,
      "outputs": [
        {
          "output_type": "stream",
          "text": [
            "tf.Tensor(\n",
            "[[ 1.40700106e+02  1.65558666e+00  4.05786071e-01 ...  6.38240123e-01\n",
            "   7.20896194e-01  1.76425916e+00]\n",
            " [ 1.65558666e+00  7.72867778e+03  2.74641391e+00 ... -1.69834052e+00\n",
            "   6.18843742e+01 -4.83294704e+00]\n",
            " [ 4.05786071e-01  2.74641391e+00  1.55242776e+03 ...  2.90375304e+01\n",
            "  -1.00924937e+00 -3.63660638e+00]\n",
            " ...\n",
            " [ 6.38240123e-01 -1.69834052e+00  2.90375304e+01 ...  2.56520451e+03\n",
            "   1.80239163e+01 -2.26564882e+00]\n",
            " [ 7.20896194e-01  6.18843742e+01 -1.00924937e+00 ...  1.80239163e+01\n",
            "   7.35356273e+03 -2.21908332e+01]\n",
            " [ 1.76425916e+00 -4.83294704e+00 -3.63660638e+00 ... -2.26564882e+00\n",
            "  -2.21908332e+01  3.73956719e+03]], shape=(200, 200), dtype=float64)\n",
            "tf.Tensor([[637.57099949]], shape=(1, 1), dtype=float64)\n"
          ],
          "name": "stdout"
        }
      ]
    }
  ]
}