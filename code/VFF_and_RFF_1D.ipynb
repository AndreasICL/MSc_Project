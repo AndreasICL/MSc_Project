{
  "nbformat": 4,
  "nbformat_minor": 0,
  "metadata": {
    "colab": {
      "name": "VFF_and_RFF_1D.ipynb",
      "provenance": [],
      "toc_visible": true,
      "authorship_tag": "ABX9TyNq6Tv5mQqU7fy5h7gWYHME",
      "include_colab_link": true
    },
    "kernelspec": {
      "name": "python3",
      "display_name": "Python 3"
    }
  },
  "cells": [
    {
      "cell_type": "markdown",
      "metadata": {
        "id": "view-in-github",
        "colab_type": "text"
      },
      "source": [
        "<a href=\"https://colab.research.google.com/github/AndreasICL/MSc_Project/blob/master/code/VFF_and_RFF_1D.ipynb\" target=\"_parent\"><img src=\"https://colab.research.google.com/assets/colab-badge.svg\" alt=\"Open In Colab\"/></a>"
      ]
    },
    {
      "cell_type": "code",
      "metadata": {
        "id": "fW-B5syh75r4",
        "colab_type": "code",
        "outputId": "2a991d1c-98ee-4d15-eede-f7a8f35c84f0",
        "colab": {
          "base_uri": "https://localhost:8080/",
          "height": 1000
        }
      },
      "source": [
        "!pip install tensorflow==2.2.0\n",
        "!pip install gpflow\n",
        "!pip install gast\n",
        "!pip install observations\n",
        "# !git clone https://github.com/markvdw/gpflow-monitor.git\n",
        "# !cp -r gpflow-monitor/gpflow_monitor .\n",
        "# !python gpflow-monitor/setup.py develop"
      ],
      "execution_count": 2,
      "outputs": [
        {
          "output_type": "stream",
          "text": [
            "Requirement already satisfied: tensorflow==2.2.0 in /usr/local/lib/python3.6/dist-packages (2.2.0)\n",
            "Requirement already satisfied: scipy==1.4.1; python_version >= \"3\" in /usr/local/lib/python3.6/dist-packages (from tensorflow==2.2.0) (1.4.1)\n",
            "Requirement already satisfied: keras-preprocessing>=1.1.0 in /usr/local/lib/python3.6/dist-packages (from tensorflow==2.2.0) (1.1.0)\n",
            "Requirement already satisfied: h5py<2.11.0,>=2.10.0 in /usr/local/lib/python3.6/dist-packages (from tensorflow==2.2.0) (2.10.0)\n",
            "Requirement already satisfied: google-pasta>=0.1.8 in /usr/local/lib/python3.6/dist-packages (from tensorflow==2.2.0) (0.2.0)\n",
            "Requirement already satisfied: absl-py>=0.7.0 in /usr/local/lib/python3.6/dist-packages (from tensorflow==2.2.0) (0.9.0)\n",
            "Requirement already satisfied: six>=1.12.0 in /usr/local/lib/python3.6/dist-packages (from tensorflow==2.2.0) (1.12.0)\n",
            "Requirement already satisfied: grpcio>=1.8.6 in /usr/local/lib/python3.6/dist-packages (from tensorflow==2.2.0) (1.28.1)\n",
            "Requirement already satisfied: astunparse==1.6.3 in /usr/local/lib/python3.6/dist-packages (from tensorflow==2.2.0) (1.6.3)\n",
            "Requirement already satisfied: protobuf>=3.8.0 in /usr/local/lib/python3.6/dist-packages (from tensorflow==2.2.0) (3.10.0)\n",
            "Requirement already satisfied: wheel>=0.26; python_version >= \"3\" in /usr/local/lib/python3.6/dist-packages (from tensorflow==2.2.0) (0.34.2)\n",
            "Requirement already satisfied: termcolor>=1.1.0 in /usr/local/lib/python3.6/dist-packages (from tensorflow==2.2.0) (1.1.0)\n",
            "Requirement already satisfied: opt-einsum>=2.3.2 in /usr/local/lib/python3.6/dist-packages (from tensorflow==2.2.0) (3.2.1)\n",
            "Requirement already satisfied: tensorboard<2.3.0,>=2.2.0 in /usr/local/lib/python3.6/dist-packages (from tensorflow==2.2.0) (2.2.1)\n",
            "Requirement already satisfied: wrapt>=1.11.1 in /usr/local/lib/python3.6/dist-packages (from tensorflow==2.2.0) (1.12.1)\n",
            "Requirement already satisfied: numpy<2.0,>=1.16.0 in /usr/local/lib/python3.6/dist-packages (from tensorflow==2.2.0) (1.18.4)\n",
            "Requirement already satisfied: gast==0.3.3 in /usr/local/lib/python3.6/dist-packages (from tensorflow==2.2.0) (0.3.3)\n",
            "Requirement already satisfied: tensorflow-estimator<2.3.0,>=2.2.0 in /usr/local/lib/python3.6/dist-packages (from tensorflow==2.2.0) (2.2.0)\n",
            "Requirement already satisfied: setuptools in /usr/local/lib/python3.6/dist-packages (from protobuf>=3.8.0->tensorflow==2.2.0) (46.1.3)\n",
            "Requirement already satisfied: markdown>=2.6.8 in /usr/local/lib/python3.6/dist-packages (from tensorboard<2.3.0,>=2.2.0->tensorflow==2.2.0) (3.2.1)\n",
            "Requirement already satisfied: tensorboard-plugin-wit>=1.6.0 in /usr/local/lib/python3.6/dist-packages (from tensorboard<2.3.0,>=2.2.0->tensorflow==2.2.0) (1.6.0.post3)\n",
            "Requirement already satisfied: google-auth<2,>=1.6.3 in /usr/local/lib/python3.6/dist-packages (from tensorboard<2.3.0,>=2.2.0->tensorflow==2.2.0) (1.7.2)\n",
            "Requirement already satisfied: google-auth-oauthlib<0.5,>=0.4.1 in /usr/local/lib/python3.6/dist-packages (from tensorboard<2.3.0,>=2.2.0->tensorflow==2.2.0) (0.4.1)\n",
            "Requirement already satisfied: requests<3,>=2.21.0 in /usr/local/lib/python3.6/dist-packages (from tensorboard<2.3.0,>=2.2.0->tensorflow==2.2.0) (2.23.0)\n",
            "Requirement already satisfied: werkzeug>=0.11.15 in /usr/local/lib/python3.6/dist-packages (from tensorboard<2.3.0,>=2.2.0->tensorflow==2.2.0) (1.0.1)\n",
            "Requirement already satisfied: pyasn1-modules>=0.2.1 in /usr/local/lib/python3.6/dist-packages (from google-auth<2,>=1.6.3->tensorboard<2.3.0,>=2.2.0->tensorflow==2.2.0) (0.2.8)\n",
            "Requirement already satisfied: rsa<4.1,>=3.1.4 in /usr/local/lib/python3.6/dist-packages (from google-auth<2,>=1.6.3->tensorboard<2.3.0,>=2.2.0->tensorflow==2.2.0) (4.0)\n",
            "Requirement already satisfied: cachetools<3.2,>=2.0.0 in /usr/local/lib/python3.6/dist-packages (from google-auth<2,>=1.6.3->tensorboard<2.3.0,>=2.2.0->tensorflow==2.2.0) (3.1.1)\n",
            "Requirement already satisfied: requests-oauthlib>=0.7.0 in /usr/local/lib/python3.6/dist-packages (from google-auth-oauthlib<0.5,>=0.4.1->tensorboard<2.3.0,>=2.2.0->tensorflow==2.2.0) (1.3.0)\n",
            "Requirement already satisfied: urllib3!=1.25.0,!=1.25.1,<1.26,>=1.21.1 in /usr/local/lib/python3.6/dist-packages (from requests<3,>=2.21.0->tensorboard<2.3.0,>=2.2.0->tensorflow==2.2.0) (1.24.3)\n",
            "Requirement already satisfied: chardet<4,>=3.0.2 in /usr/local/lib/python3.6/dist-packages (from requests<3,>=2.21.0->tensorboard<2.3.0,>=2.2.0->tensorflow==2.2.0) (3.0.4)\n",
            "Requirement already satisfied: certifi>=2017.4.17 in /usr/local/lib/python3.6/dist-packages (from requests<3,>=2.21.0->tensorboard<2.3.0,>=2.2.0->tensorflow==2.2.0) (2020.4.5.1)\n",
            "Requirement already satisfied: idna<3,>=2.5 in /usr/local/lib/python3.6/dist-packages (from requests<3,>=2.21.0->tensorboard<2.3.0,>=2.2.0->tensorflow==2.2.0) (2.9)\n",
            "Requirement already satisfied: pyasn1<0.5.0,>=0.4.6 in /usr/local/lib/python3.6/dist-packages (from pyasn1-modules>=0.2.1->google-auth<2,>=1.6.3->tensorboard<2.3.0,>=2.2.0->tensorflow==2.2.0) (0.4.8)\n",
            "Requirement already satisfied: oauthlib>=3.0.0 in /usr/local/lib/python3.6/dist-packages (from requests-oauthlib>=0.7.0->google-auth-oauthlib<0.5,>=0.4.1->tensorboard<2.3.0,>=2.2.0->tensorflow==2.2.0) (3.1.0)\n",
            "Requirement already satisfied: gpflow in /usr/local/lib/python3.6/dist-packages (2.0.3)\n",
            "Requirement already satisfied: typing-extensions in /usr/local/lib/python3.6/dist-packages (from gpflow) (3.6.6)\n",
            "Requirement already satisfied: numpy>=1.10.0 in /usr/local/lib/python3.6/dist-packages (from gpflow) (1.18.4)\n",
            "Requirement already satisfied: tensorflow>=2.1.0 in /usr/local/lib/python3.6/dist-packages (from gpflow) (2.2.0)\n",
            "Requirement already satisfied: tabulate in /usr/local/lib/python3.6/dist-packages (from gpflow) (0.8.7)\n",
            "Requirement already satisfied: multipledispatch>=0.6 in /usr/local/lib/python3.6/dist-packages (from gpflow) (0.6.0)\n",
            "Requirement already satisfied: tensorflow-probability>=0.9 in /usr/local/lib/python3.6/dist-packages (from gpflow) (0.10.0rc0)\n",
            "Requirement already satisfied: scipy>=0.18.0 in /usr/local/lib/python3.6/dist-packages (from gpflow) (1.4.1)\n",
            "Requirement already satisfied: dataclasses in /usr/local/lib/python3.6/dist-packages (from gpflow) (0.7)\n",
            "Requirement already satisfied: google-pasta>=0.1.8 in /usr/local/lib/python3.6/dist-packages (from tensorflow>=2.1.0->gpflow) (0.2.0)\n",
            "Requirement already satisfied: keras-preprocessing>=1.1.0 in /usr/local/lib/python3.6/dist-packages (from tensorflow>=2.1.0->gpflow) (1.1.0)\n",
            "Requirement already satisfied: six>=1.12.0 in /usr/local/lib/python3.6/dist-packages (from tensorflow>=2.1.0->gpflow) (1.12.0)\n",
            "Requirement already satisfied: tensorflow-estimator<2.3.0,>=2.2.0 in /usr/local/lib/python3.6/dist-packages (from tensorflow>=2.1.0->gpflow) (2.2.0)\n",
            "Requirement already satisfied: termcolor>=1.1.0 in /usr/local/lib/python3.6/dist-packages (from tensorflow>=2.1.0->gpflow) (1.1.0)\n",
            "Requirement already satisfied: wheel>=0.26; python_version >= \"3\" in /usr/local/lib/python3.6/dist-packages (from tensorflow>=2.1.0->gpflow) (0.34.2)\n",
            "Requirement already satisfied: opt-einsum>=2.3.2 in /usr/local/lib/python3.6/dist-packages (from tensorflow>=2.1.0->gpflow) (3.2.1)\n",
            "Requirement already satisfied: grpcio>=1.8.6 in /usr/local/lib/python3.6/dist-packages (from tensorflow>=2.1.0->gpflow) (1.28.1)\n",
            "Requirement already satisfied: gast==0.3.3 in /usr/local/lib/python3.6/dist-packages (from tensorflow>=2.1.0->gpflow) (0.3.3)\n",
            "Requirement already satisfied: tensorboard<2.3.0,>=2.2.0 in /usr/local/lib/python3.6/dist-packages (from tensorflow>=2.1.0->gpflow) (2.2.1)\n",
            "Requirement already satisfied: wrapt>=1.11.1 in /usr/local/lib/python3.6/dist-packages (from tensorflow>=2.1.0->gpflow) (1.12.1)\n",
            "Requirement already satisfied: astunparse==1.6.3 in /usr/local/lib/python3.6/dist-packages (from tensorflow>=2.1.0->gpflow) (1.6.3)\n",
            "Requirement already satisfied: absl-py>=0.7.0 in /usr/local/lib/python3.6/dist-packages (from tensorflow>=2.1.0->gpflow) (0.9.0)\n",
            "Requirement already satisfied: protobuf>=3.8.0 in /usr/local/lib/python3.6/dist-packages (from tensorflow>=2.1.0->gpflow) (3.10.0)\n",
            "Requirement already satisfied: h5py<2.11.0,>=2.10.0 in /usr/local/lib/python3.6/dist-packages (from tensorflow>=2.1.0->gpflow) (2.10.0)\n",
            "Requirement already satisfied: decorator in /usr/local/lib/python3.6/dist-packages (from tensorflow-probability>=0.9->gpflow) (4.4.2)\n",
            "Requirement already satisfied: cloudpickle>=1.2.2 in /usr/local/lib/python3.6/dist-packages (from tensorflow-probability>=0.9->gpflow) (1.3.0)\n",
            "Requirement already satisfied: setuptools>=41.0.0 in /usr/local/lib/python3.6/dist-packages (from tensorboard<2.3.0,>=2.2.0->tensorflow>=2.1.0->gpflow) (46.1.3)\n",
            "Requirement already satisfied: markdown>=2.6.8 in /usr/local/lib/python3.6/dist-packages (from tensorboard<2.3.0,>=2.2.0->tensorflow>=2.1.0->gpflow) (3.2.1)\n",
            "Requirement already satisfied: requests<3,>=2.21.0 in /usr/local/lib/python3.6/dist-packages (from tensorboard<2.3.0,>=2.2.0->tensorflow>=2.1.0->gpflow) (2.23.0)\n",
            "Requirement already satisfied: tensorboard-plugin-wit>=1.6.0 in /usr/local/lib/python3.6/dist-packages (from tensorboard<2.3.0,>=2.2.0->tensorflow>=2.1.0->gpflow) (1.6.0.post3)\n",
            "Requirement already satisfied: werkzeug>=0.11.15 in /usr/local/lib/python3.6/dist-packages (from tensorboard<2.3.0,>=2.2.0->tensorflow>=2.1.0->gpflow) (1.0.1)\n",
            "Requirement already satisfied: google-auth<2,>=1.6.3 in /usr/local/lib/python3.6/dist-packages (from tensorboard<2.3.0,>=2.2.0->tensorflow>=2.1.0->gpflow) (1.7.2)\n",
            "Requirement already satisfied: google-auth-oauthlib<0.5,>=0.4.1 in /usr/local/lib/python3.6/dist-packages (from tensorboard<2.3.0,>=2.2.0->tensorflow>=2.1.0->gpflow) (0.4.1)\n",
            "Requirement already satisfied: certifi>=2017.4.17 in /usr/local/lib/python3.6/dist-packages (from requests<3,>=2.21.0->tensorboard<2.3.0,>=2.2.0->tensorflow>=2.1.0->gpflow) (2020.4.5.1)\n",
            "Requirement already satisfied: idna<3,>=2.5 in /usr/local/lib/python3.6/dist-packages (from requests<3,>=2.21.0->tensorboard<2.3.0,>=2.2.0->tensorflow>=2.1.0->gpflow) (2.9)\n",
            "Requirement already satisfied: urllib3!=1.25.0,!=1.25.1,<1.26,>=1.21.1 in /usr/local/lib/python3.6/dist-packages (from requests<3,>=2.21.0->tensorboard<2.3.0,>=2.2.0->tensorflow>=2.1.0->gpflow) (1.24.3)\n",
            "Requirement already satisfied: chardet<4,>=3.0.2 in /usr/local/lib/python3.6/dist-packages (from requests<3,>=2.21.0->tensorboard<2.3.0,>=2.2.0->tensorflow>=2.1.0->gpflow) (3.0.4)\n",
            "Requirement already satisfied: pyasn1-modules>=0.2.1 in /usr/local/lib/python3.6/dist-packages (from google-auth<2,>=1.6.3->tensorboard<2.3.0,>=2.2.0->tensorflow>=2.1.0->gpflow) (0.2.8)\n",
            "Requirement already satisfied: rsa<4.1,>=3.1.4 in /usr/local/lib/python3.6/dist-packages (from google-auth<2,>=1.6.3->tensorboard<2.3.0,>=2.2.0->tensorflow>=2.1.0->gpflow) (4.0)\n",
            "Requirement already satisfied: cachetools<3.2,>=2.0.0 in /usr/local/lib/python3.6/dist-packages (from google-auth<2,>=1.6.3->tensorboard<2.3.0,>=2.2.0->tensorflow>=2.1.0->gpflow) (3.1.1)\n",
            "Requirement already satisfied: requests-oauthlib>=0.7.0 in /usr/local/lib/python3.6/dist-packages (from google-auth-oauthlib<0.5,>=0.4.1->tensorboard<2.3.0,>=2.2.0->tensorflow>=2.1.0->gpflow) (1.3.0)\n",
            "Requirement already satisfied: pyasn1<0.5.0,>=0.4.6 in /usr/local/lib/python3.6/dist-packages (from pyasn1-modules>=0.2.1->google-auth<2,>=1.6.3->tensorboard<2.3.0,>=2.2.0->tensorflow>=2.1.0->gpflow) (0.4.8)\n",
            "Requirement already satisfied: oauthlib>=3.0.0 in /usr/local/lib/python3.6/dist-packages (from requests-oauthlib>=0.7.0->google-auth-oauthlib<0.5,>=0.4.1->tensorboard<2.3.0,>=2.2.0->tensorflow>=2.1.0->gpflow) (3.1.0)\n",
            "Requirement already satisfied: gast in /usr/local/lib/python3.6/dist-packages (0.3.3)\n",
            "Requirement already satisfied: observations in /usr/local/lib/python3.6/dist-packages (0.1.4)\n",
            "Requirement already satisfied: six>=1.10.0 in /usr/local/lib/python3.6/dist-packages (from observations) (1.12.0)\n",
            "Requirement already satisfied: numpy>=1.7 in /usr/local/lib/python3.6/dist-packages (from observations) (1.18.4)\n"
          ],
          "name": "stdout"
        }
      ]
    },
    {
      "cell_type": "code",
      "metadata": {
        "id": "u3cwbeHz8Exr",
        "colab_type": "code",
        "colab": {}
      },
      "source": [
        "from typing import Tuple, Optional\n",
        "import tempfile\n",
        "import pathlib\n",
        "\n",
        "import datetime\n",
        "import io\n",
        "import matplotlib.pyplot as plt\n",
        "\n",
        "import numpy as np\n",
        "import tensorflow as tf\n",
        "import gpflow\n",
        "\n",
        "import matplotlib.pyplot as plt\n",
        "\n",
        "from gpflow.config import default_float\n",
        "from gpflow.ci_utils import ci_niter\n",
        "from gpflow.utilities import to_default_float\n",
        "from gpflow.base import TensorLike\n",
        "from gpflow import covariances as cov\n",
        "from gpflow import kullback_leiblers as kl\n",
        "# from gpflow_monitor import *\n",
        "\n",
        "from __future__ import absolute_import\n",
        "from __future__ import division\n",
        "from __future__ import print_function\n",
        "\n",
        "import csv\n",
        "import numpy as np\n",
        "import os\n",
        "from shutil import copyfile, rmtree\n",
        "\n",
        "import observations\n",
        "\n",
        "import warnings\n",
        "\n",
        "warnings.filterwarnings(\"ignore\")"
      ],
      "execution_count": 0,
      "outputs": []
    },
    {
      "cell_type": "markdown",
      "metadata": {
        "id": "y5FxoiegAZe1",
        "colab_type": "text"
      },
      "source": [
        "Make `tensorboard` work inside notebook:"
      ]
    },
    {
      "cell_type": "code",
      "metadata": {
        "id": "YmCOr2hs8355",
        "colab_type": "code",
        "colab": {}
      },
      "source": [
        "output_logdir = \"/tmp/tensorboard\"\n",
        "\n",
        "!rm -rf \"{output_logdir}\"\n",
        "!mkdir \"{output_logdir}\"\n",
        "\n",
        "%load_ext tensorboard\n",
        "%matplotlib inline\n",
        "\n",
        "\n",
        "def enumerated_logdir(_logdir_id: int = [0]):\n",
        "    logdir = pathlib.Path(output_logdir, str(_logdir_id[0]))\n",
        "    _logdir_id[0] += 1\n",
        "    return str(logdir)"
      ],
      "execution_count": 0,
      "outputs": []
    },
    {
      "cell_type": "markdown",
      "metadata": {
        "id": "8A27JdlvAZfE",
        "colab_type": "text"
      },
      "source": [
        "Set up random seeds and default float for `gpflow` tensors:"
      ]
    },
    {
      "cell_type": "code",
      "metadata": {
        "id": "flnWsQF1_h3W",
        "colab_type": "code",
        "colab": {}
      },
      "source": [
        "gpflow.config.set_default_float(np.float64)\n",
        "np.random.seed(0)\n",
        "tf.random.set_seed(0)"
      ],
      "execution_count": 0,
      "outputs": []
    },
    {
      "cell_type": "markdown",
      "metadata": {
        "id": "eJsA3bUEAZfP",
        "colab_type": "text"
      },
      "source": [
        "## Loading the snelson dataset"
      ]
    },
    {
      "cell_type": "code",
      "metadata": {
        "id": "uZDkEmxQEqqN",
        "colab_type": "code",
        "colab": {}
      },
      "source": [
        "'''\n",
        "  This code was copied from https://github.com/edwardlib/observations/blob/master/observations/snelson1d.py\n",
        "  on 01/05/2020\n",
        "'''\n",
        "\n",
        "from observations.util import maybe_download_and_extract\n",
        "\n",
        "\n",
        "def snelson1d(path):\n",
        "  \"\"\"Load Edward Snelson's 1d regression data set [@snelson2006fitc].\n",
        "  It contains 200 examples of a few oscillations of an example function. It has\n",
        "  seen extensive use as a toy dataset for illustrating qualitative behaviour of\n",
        "  Gaussian process approximations.\n",
        "  Args:\n",
        "    path: str.\n",
        "      Path to directory which either stores file or otherwise file will be\n",
        "      downloaded and extracted there. Filenames are `snelson_train_*`.\n",
        "  Returns:\n",
        "    Tuple of two np.darray `inputs` and `outputs` with 200 rows and 1 column.\n",
        "  \"\"\"\n",
        "  path = os.path.expanduser(path)\n",
        "  inputs_path = os.path.join(path, 'snelson_train_inputs')\n",
        "  outputs_path = os.path.join(path, 'snelson_train_outputs')\n",
        "\n",
        "  # Contains all source as well. We just need the data.\n",
        "  url = 'http://www.gatsby.ucl.ac.uk/~snelson/SPGP_dist.zip'\n",
        "\n",
        "  if not (os.path.exists(inputs_path) and os.path.exists(outputs_path)):\n",
        "    maybe_download_and_extract(path, url)\n",
        "\n",
        "    # Copy the required data\n",
        "    copyfile(os.path.join(path, \"SPGP_dist\", \"train_inputs\"), inputs_path)\n",
        "    copyfile(os.path.join(path, \"SPGP_dist\", \"train_outputs\"), outputs_path)\n",
        "\n",
        "    # Clean up everything else\n",
        "    rmtree(os.path.join(path, \"SPGP_dist\"))\n",
        "    os.remove(os.path.join(path, \"SPGP_dist.zip\"))\n",
        "\n",
        "  X = np.loadtxt(os.path.join(inputs_path))[:, None]\n",
        "  Y = np.loadtxt(os.path.join(outputs_path))[:, None]\n",
        "\n",
        "  return X, Y"
      ],
      "execution_count": 0,
      "outputs": []
    },
    {
      "cell_type": "code",
      "metadata": {
        "id": "5cwgLNj8Hw2h",
        "colab_type": "code",
        "colab": {}
      },
      "source": [
        "X, Y = snelson1d(\".\")\n",
        "num_train_data = X.shape[0]"
      ],
      "execution_count": 0,
      "outputs": []
    },
    {
      "cell_type": "markdown",
      "metadata": {
        "id": "Zg8Cz-6OAZfb",
        "colab_type": "text"
      },
      "source": [
        "Working with TensorFlow Datasets is an efficient way to rapidly shuffle, iterate, and batch from data. For `prefetch` size we use `tf.data.experimental.AUTOTUNE` as recommended by TensorFlow [guidelines](https://www.tensorflow.org/guide/data_performance)."
      ]
    },
    {
      "cell_type": "code",
      "metadata": {
        "id": "DUfgEr7aAZfc",
        "colab_type": "code",
        "outputId": "08e6bad7-c93a-4bbd-93c5-08d30c4fc0a5",
        "colab": {
          "base_uri": "https://localhost:8080/",
          "height": 69
        }
      },
      "source": [
        "train_dataset = tf.data.Dataset.from_tensor_slices((X, Y))\n",
        "# test_dataset = tf.data.Dataset.from_tensor_slices((Xtest, Ytest))\n",
        "\n",
        "batch_size = 32\n",
        "num_features = 10\n",
        "prefetch_size = tf.data.experimental.AUTOTUNE\n",
        "shuffle_buffer_size = num_train_data // 2\n",
        "num_batches_per_epoch = num_train_data // batch_size\n",
        "\n",
        "original_train_dataset = train_dataset\n",
        "train_dataset = (\n",
        "    train_dataset.repeat()\n",
        "    .prefetch(prefetch_size)\n",
        "    .shuffle(buffer_size=shuffle_buffer_size)\n",
        "    .batch(batch_size)\n",
        ")\n",
        "\n",
        "print(f\"prefetch_size={prefetch_size}\")\n",
        "print(f\"shuffle_buffer_size={shuffle_buffer_size}\")\n",
        "print(f\"num_batches_per_epoch={num_batches_per_epoch}\")"
      ],
      "execution_count": 8,
      "outputs": [
        {
          "output_type": "stream",
          "text": [
            "prefetch_size=-1\n",
            "shuffle_buffer_size=100\n",
            "num_batches_per_epoch=6\n"
          ],
          "name": "stdout"
        }
      ]
    },
    {
      "cell_type": "markdown",
      "metadata": {
        "id": "jJdIiObeAZfm",
        "colab_type": "text"
      },
      "source": [
        "## Define a GP model\n",
        "\n",
        "In GPflow 2.0, we use `tf.Module` (or the very thin `gpflow.base.Module` wrapper) to build all our models, as well as their components (kernels, likelihoods, parameters, and so on)."
      ]
    },
    {
      "cell_type": "markdown",
      "metadata": {
        "id": "SCqAtzWBUhax",
        "colab_type": "text"
      },
      "source": [
        "### 1D Random Variational Fourier Feature Class"
      ]
    },
    {
      "cell_type": "code",
      "metadata": {
        "id": "lqaFm4vuUgwL",
        "colab_type": "code",
        "colab": {}
      },
      "source": [
        "class RVFF_1D(gpflow.inducing_variables.InducingVariables):\n",
        "    def __init__(self, a, b, M):\n",
        "        omegasVar = 500\n",
        "        # [a, b] defining the interval of the Fourier representation:\n",
        "        self.a = gpflow.Parameter(a, dtype=gpflow.default_float())\n",
        "        self.b = gpflow.Parameter(b, dtype=gpflow.default_float())\n",
        "\n",
        "        self.phis = np.random.uniform(0, 2 * np.pi, size=M)\n",
        "        self.omegas = np.random.uniform(0, 200, size=M)#np.random.multivariate_normal( \n",
        "        #     mean = np.zeros(M),#2 * np.pi * np.ones( shape=M ) / ( b - a), \n",
        "        #     cov = omegasVar * np.identity( M ) \n",
        "        # ) \n",
        "\n",
        "    def __len__(self):\n",
        "        \"\"\" number of inducing variables (defines dimensionality of q(u)) \"\"\" \n",
        "        return len(self.omegas)  # M sine components"
      ],
      "execution_count": 0,
      "outputs": []
    },
    {
      "cell_type": "code",
      "metadata": {
        "id": "mi5s0D0rlFoT",
        "colab_type": "code",
        "colab": {}
      },
      "source": [
        "@cov.Kuu.register(RVFF_1D, gpflow.kernels.Matern12)\n",
        "def Kuu_matern12_RVFF_1D(inducing_variable, kernel, jitter=None):\n",
        "    a, b, omegas, phis = (lambda u: (u.a, u.b, u.omegas, u.phis))(inducing_variable)\n",
        "    \n",
        "    lambda_ = 1.0 / kernel.lengthscales\n",
        "\n",
        "    def innerProduct( intervalLen, omegas, phis, kernelVar, lambda_):\n",
        "      angle1 = intervalLen * ( omegas[:, None] - omegas[None, :] ) + omegas[:, None] * phis[:, None] - omegas[None, :] * phis[None, :]\n",
        "      angle2 = intervalLen * ( omegas[:, None] + omegas[None, :] ) + omegas[:, None] * phis[:, None] + omegas[None, :] * phis[None, :]\n",
        "      angle3 = omegas[:, None] * phis[:, None] - omegas[None, :] * phis[None, :]\n",
        "      angle4 = omegas[:, None] * phis[:, None] + omegas[None, :] * phis[None, :]\n",
        "      angle5 = 2 * omegas * ( intervalLen + phis )\n",
        "      angle6 = 2 * omegas * phis\n",
        "\n",
        "      coeff1 = ( omegas[:, None] * omegas[None, :] + lambda_ * lambda_ ) / ( omegas[:, None] - omegas[None, :] )\n",
        "      coeff2 = ( omegas[:, None] * omegas[None, :] - lambda_ * lambda_ ) / ( omegas[:, None] + omegas[None, :] )\n",
        "      coeff3 = ( omegas * omegas - lambda_ * lambda_ ) / ( 2 * omegas )\n",
        "\n",
        "      denom = 4 * kernelVar * kernelVar * lambda_\n",
        "\n",
        "      firstTerm = ( coeff1 * tf.sin( angle1 ) +\n",
        "                    coeff2 * tf.sin( angle2 ) -\n",
        "                    lambda_ * tf.cos( angle2 ) +\n",
        "                    lambda_ * tf.cos( angle1 ) -\n",
        "                    coeff1 * tf.sin( angle3 ) -\n",
        "                    coeff2 * tf.sin( angle4 ) +\n",
        "                    lambda_ * tf.cos( angle4 ) -\n",
        "                    lambda_ * tf.cos( angle3 ) ) / denom\n",
        "\n",
        "      mainDiag = ( ( omegas * omegas + lambda_ * lambda_ ) * intervalLen + \n",
        "                   coeff3 * tf.sin( angle5 ) -\n",
        "                   ( lambda_ * tf.cos( angle5 ) ) - \n",
        "                   ( coeff3 * tf.sin( angle6 ) ) +\n",
        "                   lambda_ * tf.cos( angle6 ) ) / denom\n",
        "\n",
        "      firstTerm = tf.linalg.set_diag( firstTerm, mainDiag )\n",
        "      secondTerm = tf.sin( omegas[:, None] * phis[:, None] ) * tf.sin( omegas[None, :] * phis[None, :] ) / ( kernelVar * kernelVar )\n",
        "      \n",
        "      res = firstTerm + secondTerm\n",
        "      res = 0.5 * (res + tf.transpose(res))\n",
        "\n",
        "      if jitter != None:\n",
        "        res = res + tf.cast(tf.linalg.diag( jitter * tf.ones( res.shape[0] ) ), default_float())\n",
        "\n",
        "      return res\n",
        "\n",
        "    return innerProduct( b - a, omegas, phis, kernel.variance, lambda_ )\n",
        "\n",
        "@cov.Kuf.register(RVFF_1D, gpflow.kernels.Matern12, TensorLike)\n",
        "def Kuf_matern12_RVFF_1D(inducing_variable, kernel, X):\n",
        "    X = tf.squeeze(X, axis=1)\n",
        "    a, omegas, phis = (lambda u: (u.a, u.omegas, u.phis))(inducing_variable)       \n",
        "    return tf.cos( omegas[:, None] * ( X[None, :] - a + phis[:, None]) )"
      ],
      "execution_count": 0,
      "outputs": []
    },
    {
      "cell_type": "markdown",
      "metadata": {
        "id": "x39wkv8EU6CT",
        "colab_type": "text"
      },
      "source": [
        "#Model Definition:\n",
        "\n",
        "###We use exact inference first"
      ]
    },
    {
      "cell_type": "code",
      "metadata": {
        "id": "H_4SWCm5VV8H",
        "colab_type": "code",
        "colab": {}
      },
      "source": [
        "tf.config.experimental_run_functions_eagerly(True)\n",
        "\n",
        "kernel = gpflow.kernels.Matern12(variance=5, lengthscales=10.0)\n",
        "\n",
        "exactModel = gpflow.models.GPR( (X, Y), kernel )\n",
        "\n",
        "gpflow.utilities.set_trainable(kernel.lengthscales, False)\n",
        "gpflow.utilities.set_trainable(kernel.variance, False)"
      ],
      "execution_count": 0,
      "outputs": []
    },
    {
      "cell_type": "markdown",
      "metadata": {
        "id": "JurwmO73VKF5",
        "colab_type": "text"
      },
      "source": [
        "###We now use approximate inference with Random Variational Fourier Features"
      ]
    },
    {
      "cell_type": "code",
      "metadata": {
        "id": "J1ekb08iAZfo",
        "colab_type": "code",
        "outputId": "4ce9a9bb-a25c-4df7-81e1-cff04cbfd03a",
        "colab": {
          "base_uri": "https://localhost:8080/",
          "height": 625
        }
      },
      "source": [
        "kernel = gpflow.kernels.Matern12(variance=5, lengthscales=10.0)\n",
        "likelihood = gpflow.likelihoods.Gaussian()\n",
        "\n",
        "M = 200\n",
        "\n",
        "inducing_variable = RVFF_1D( a=0, b=6, M=M )\n",
        "\n",
        "model = gpflow.models.SVGP(\n",
        "    kernel=kernel, likelihood=likelihood, inducing_variable=inducing_variable \n",
        ")\n",
        "\n",
        "gpflow.utilities.set_trainable(kernel.lengthscales, False)\n",
        "gpflow.utilities.set_trainable(kernel.variance, False)\n",
        "gpflow.utilities.set_trainable(inducing_variable.a, False)\n",
        "gpflow.utilities.set_trainable(inducing_variable.b, False)\n",
        "# gpflow.set_trainable(model.kernel, False)\n",
        "# gpflow.set_trainable(model.likelihood, False)\n",
        "\n",
        "optimizer = tf.optimizers.SGD(learning_rate=0.01)\n",
        "\n",
        "@tf.function\n",
        "def loss_closure():\n",
        "  return -model.elbo( ( X, Y ) )\n",
        "\n",
        "# print( model.elbo((X, Y)) )\n",
        "for i in range(5000):\n",
        "  if i == 400:\n",
        "    optimizer = tf.optimizers.SGD( learning_rate=optimizer.learning_rate * 0.1 )\n",
        "  if i % 100 == 0:\n",
        "    print(i)\n",
        "    print(model.elbo( (X, Y) ) )\n",
        "  optimizer.minimize( loss=loss_closure, var_list=model.trainable_variables )\n",
        "\n",
        "print( model.elbo((X, Y)) )"
      ],
      "execution_count": 16,
      "outputs": [
        {
          "output_type": "stream",
          "text": [
            "0\n",
            "tf.Tensor(-766.537571863144, shape=(), dtype=float64)\n",
            "100\n",
            "tf.Tensor(-384.690122782273, shape=(), dtype=float64)\n",
            "200\n",
            "tf.Tensor(-384.6427960890325, shape=(), dtype=float64)\n",
            "300\n",
            "tf.Tensor(-384.6383261872539, shape=(), dtype=float64)\n",
            "400\n",
            "tf.Tensor(-384.6378416359108, shape=(), dtype=float64)\n",
            "500\n",
            "tf.Tensor(-384.6378296963044, shape=(), dtype=float64)\n",
            "600\n",
            "tf.Tensor(-384.63782008560236, shape=(), dtype=float64)\n"
          ],
          "name": "stdout"
        },
        {
          "output_type": "error",
          "ename": "KeyboardInterrupt",
          "evalue": "ignored",
          "traceback": [
            "\u001b[0;31m---------------------------------------------------------------------------\u001b[0m",
            "\u001b[0;31mKeyboardInterrupt\u001b[0m                         Traceback (most recent call last)",
            "\u001b[0;32m<ipython-input-16-2aa6bb20e4f4>\u001b[0m in \u001b[0;36m<module>\u001b[0;34m()\u001b[0m\n\u001b[1;32m     28\u001b[0m     \u001b[0mprint\u001b[0m\u001b[0;34m(\u001b[0m\u001b[0mi\u001b[0m\u001b[0;34m)\u001b[0m\u001b[0;34m\u001b[0m\u001b[0;34m\u001b[0m\u001b[0m\n\u001b[1;32m     29\u001b[0m     \u001b[0mprint\u001b[0m\u001b[0;34m(\u001b[0m\u001b[0mmodel\u001b[0m\u001b[0;34m.\u001b[0m\u001b[0melbo\u001b[0m\u001b[0;34m(\u001b[0m \u001b[0;34m(\u001b[0m\u001b[0mX\u001b[0m\u001b[0;34m,\u001b[0m \u001b[0mY\u001b[0m\u001b[0;34m)\u001b[0m \u001b[0;34m)\u001b[0m \u001b[0;34m)\u001b[0m\u001b[0;34m\u001b[0m\u001b[0;34m\u001b[0m\u001b[0m\n\u001b[0;32m---> 30\u001b[0;31m   \u001b[0moptimizer\u001b[0m\u001b[0;34m.\u001b[0m\u001b[0mminimize\u001b[0m\u001b[0;34m(\u001b[0m \u001b[0mloss\u001b[0m\u001b[0;34m=\u001b[0m\u001b[0mloss_closure\u001b[0m\u001b[0;34m,\u001b[0m \u001b[0mvar_list\u001b[0m\u001b[0;34m=\u001b[0m\u001b[0mmodel\u001b[0m\u001b[0;34m.\u001b[0m\u001b[0mtrainable_variables\u001b[0m \u001b[0;34m)\u001b[0m\u001b[0;34m\u001b[0m\u001b[0;34m\u001b[0m\u001b[0m\n\u001b[0m\u001b[1;32m     31\u001b[0m \u001b[0;34m\u001b[0m\u001b[0m\n\u001b[1;32m     32\u001b[0m \u001b[0mprint\u001b[0m\u001b[0;34m(\u001b[0m \u001b[0mmodel\u001b[0m\u001b[0;34m.\u001b[0m\u001b[0melbo\u001b[0m\u001b[0;34m(\u001b[0m\u001b[0;34m(\u001b[0m\u001b[0mX\u001b[0m\u001b[0;34m,\u001b[0m \u001b[0mY\u001b[0m\u001b[0;34m)\u001b[0m\u001b[0;34m)\u001b[0m \u001b[0;34m)\u001b[0m\u001b[0;34m\u001b[0m\u001b[0;34m\u001b[0m\u001b[0m\n",
            "\u001b[0;32m/usr/local/lib/python3.6/dist-packages/tensorflow/python/keras/optimizer_v2/optimizer_v2.py\u001b[0m in \u001b[0;36mminimize\u001b[0;34m(self, loss, var_list, grad_loss, name)\u001b[0m\n\u001b[1;32m    332\u001b[0m     \"\"\"\n\u001b[1;32m    333\u001b[0m     grads_and_vars = self._compute_gradients(\n\u001b[0;32m--> 334\u001b[0;31m         loss, var_list=var_list, grad_loss=grad_loss)\n\u001b[0m\u001b[1;32m    335\u001b[0m \u001b[0;34m\u001b[0m\u001b[0m\n\u001b[1;32m    336\u001b[0m     \u001b[0;32mreturn\u001b[0m \u001b[0mself\u001b[0m\u001b[0;34m.\u001b[0m\u001b[0mapply_gradients\u001b[0m\u001b[0;34m(\u001b[0m\u001b[0mgrads_and_vars\u001b[0m\u001b[0;34m,\u001b[0m \u001b[0mname\u001b[0m\u001b[0;34m=\u001b[0m\u001b[0mname\u001b[0m\u001b[0;34m)\u001b[0m\u001b[0;34m\u001b[0m\u001b[0;34m\u001b[0m\u001b[0m\n",
            "\u001b[0;32m/usr/local/lib/python3.6/dist-packages/tensorflow/python/keras/optimizer_v2/optimizer_v2.py\u001b[0m in \u001b[0;36m_compute_gradients\u001b[0;34m(self, loss, var_list, grad_loss)\u001b[0m\n\u001b[1;32m    386\u001b[0m       \u001b[0;32mif\u001b[0m \u001b[0;32mnot\u001b[0m \u001b[0mcallable\u001b[0m\u001b[0;34m(\u001b[0m\u001b[0mvar_list\u001b[0m\u001b[0;34m)\u001b[0m\u001b[0;34m:\u001b[0m\u001b[0;34m\u001b[0m\u001b[0;34m\u001b[0m\u001b[0m\n\u001b[1;32m    387\u001b[0m         \u001b[0mtape\u001b[0m\u001b[0;34m.\u001b[0m\u001b[0mwatch\u001b[0m\u001b[0;34m(\u001b[0m\u001b[0mvar_list\u001b[0m\u001b[0;34m)\u001b[0m\u001b[0;34m\u001b[0m\u001b[0;34m\u001b[0m\u001b[0m\n\u001b[0;32m--> 388\u001b[0;31m       \u001b[0mloss_value\u001b[0m \u001b[0;34m=\u001b[0m \u001b[0mloss\u001b[0m\u001b[0;34m(\u001b[0m\u001b[0;34m)\u001b[0m\u001b[0;34m\u001b[0m\u001b[0;34m\u001b[0m\u001b[0m\n\u001b[0m\u001b[1;32m    389\u001b[0m     \u001b[0;32mif\u001b[0m \u001b[0mcallable\u001b[0m\u001b[0;34m(\u001b[0m\u001b[0mvar_list\u001b[0m\u001b[0;34m)\u001b[0m\u001b[0;34m:\u001b[0m\u001b[0;34m\u001b[0m\u001b[0;34m\u001b[0m\u001b[0m\n\u001b[1;32m    390\u001b[0m       \u001b[0mvar_list\u001b[0m \u001b[0;34m=\u001b[0m \u001b[0mvar_list\u001b[0m\u001b[0;34m(\u001b[0m\u001b[0;34m)\u001b[0m\u001b[0;34m\u001b[0m\u001b[0;34m\u001b[0m\u001b[0m\n",
            "\u001b[0;32m/usr/local/lib/python3.6/dist-packages/tensorflow/python/eager/def_function.py\u001b[0m in \u001b[0;36m__call__\u001b[0;34m(self, *args, **kwds)\u001b[0m\n\u001b[1;32m    562\u001b[0m     \u001b[0mcontext\u001b[0m\u001b[0;34m.\u001b[0m\u001b[0mensure_initialized\u001b[0m\u001b[0;34m(\u001b[0m\u001b[0;34m)\u001b[0m\u001b[0;34m\u001b[0m\u001b[0;34m\u001b[0m\u001b[0m\n\u001b[1;32m    563\u001b[0m     \u001b[0;32mif\u001b[0m \u001b[0mRUN_FUNCTIONS_EAGERLY\u001b[0m\u001b[0;34m:\u001b[0m\u001b[0;34m\u001b[0m\u001b[0;34m\u001b[0m\u001b[0m\n\u001b[0;32m--> 564\u001b[0;31m       \u001b[0;32mreturn\u001b[0m \u001b[0mself\u001b[0m\u001b[0;34m.\u001b[0m\u001b[0m_python_function\u001b[0m\u001b[0;34m(\u001b[0m\u001b[0;34m*\u001b[0m\u001b[0margs\u001b[0m\u001b[0;34m,\u001b[0m \u001b[0;34m**\u001b[0m\u001b[0mkwds\u001b[0m\u001b[0;34m)\u001b[0m\u001b[0;34m\u001b[0m\u001b[0;34m\u001b[0m\u001b[0m\n\u001b[0m\u001b[1;32m    565\u001b[0m \u001b[0;34m\u001b[0m\u001b[0m\n\u001b[1;32m    566\u001b[0m     \u001b[0mtracing_count\u001b[0m \u001b[0;34m=\u001b[0m \u001b[0mself\u001b[0m\u001b[0;34m.\u001b[0m\u001b[0m_get_tracing_count\u001b[0m\u001b[0;34m(\u001b[0m\u001b[0;34m)\u001b[0m\u001b[0;34m\u001b[0m\u001b[0;34m\u001b[0m\u001b[0m\n",
            "\u001b[0;32m<ipython-input-16-2aa6bb20e4f4>\u001b[0m in \u001b[0;36mloss_closure\u001b[0;34m()\u001b[0m\n\u001b[1;32m     19\u001b[0m \u001b[0;34m@\u001b[0m\u001b[0mtf\u001b[0m\u001b[0;34m.\u001b[0m\u001b[0mfunction\u001b[0m\u001b[0;34m\u001b[0m\u001b[0;34m\u001b[0m\u001b[0m\n\u001b[1;32m     20\u001b[0m \u001b[0;32mdef\u001b[0m \u001b[0mloss_closure\u001b[0m\u001b[0;34m(\u001b[0m\u001b[0;34m)\u001b[0m\u001b[0;34m:\u001b[0m\u001b[0;34m\u001b[0m\u001b[0;34m\u001b[0m\u001b[0m\n\u001b[0;32m---> 21\u001b[0;31m   \u001b[0;32mreturn\u001b[0m \u001b[0;34m-\u001b[0m\u001b[0mmodel\u001b[0m\u001b[0;34m.\u001b[0m\u001b[0melbo\u001b[0m\u001b[0;34m(\u001b[0m \u001b[0;34m(\u001b[0m \u001b[0mX\u001b[0m\u001b[0;34m,\u001b[0m \u001b[0mY\u001b[0m \u001b[0;34m)\u001b[0m \u001b[0;34m)\u001b[0m\u001b[0;34m\u001b[0m\u001b[0;34m\u001b[0m\u001b[0m\n\u001b[0m\u001b[1;32m     22\u001b[0m \u001b[0;34m\u001b[0m\u001b[0m\n\u001b[1;32m     23\u001b[0m \u001b[0;31m# print( model.elbo((X, Y)) )\u001b[0m\u001b[0;34m\u001b[0m\u001b[0;34m\u001b[0m\u001b[0;34m\u001b[0m\u001b[0m\n",
            "\u001b[0;32m/usr/local/lib/python3.6/dist-packages/gpflow/models/svgp.py\u001b[0m in \u001b[0;36melbo\u001b[0;34m(self, data)\u001b[0m\n\u001b[1;32m    145\u001b[0m         \u001b[0mX\u001b[0m\u001b[0;34m,\u001b[0m \u001b[0mY\u001b[0m \u001b[0;34m=\u001b[0m \u001b[0mdata\u001b[0m\u001b[0;34m\u001b[0m\u001b[0;34m\u001b[0m\u001b[0m\n\u001b[1;32m    146\u001b[0m         \u001b[0mkl\u001b[0m \u001b[0;34m=\u001b[0m \u001b[0mself\u001b[0m\u001b[0;34m.\u001b[0m\u001b[0mprior_kl\u001b[0m\u001b[0;34m(\u001b[0m\u001b[0;34m)\u001b[0m\u001b[0;34m\u001b[0m\u001b[0;34m\u001b[0m\u001b[0m\n\u001b[0;32m--> 147\u001b[0;31m         \u001b[0mf_mean\u001b[0m\u001b[0;34m,\u001b[0m \u001b[0mf_var\u001b[0m \u001b[0;34m=\u001b[0m \u001b[0mself\u001b[0m\u001b[0;34m.\u001b[0m\u001b[0mpredict_f\u001b[0m\u001b[0;34m(\u001b[0m\u001b[0mX\u001b[0m\u001b[0;34m,\u001b[0m \u001b[0mfull_cov\u001b[0m\u001b[0;34m=\u001b[0m\u001b[0;32mFalse\u001b[0m\u001b[0;34m,\u001b[0m \u001b[0mfull_output_cov\u001b[0m\u001b[0;34m=\u001b[0m\u001b[0;32mFalse\u001b[0m\u001b[0;34m)\u001b[0m\u001b[0;34m\u001b[0m\u001b[0;34m\u001b[0m\u001b[0m\n\u001b[0m\u001b[1;32m    148\u001b[0m         \u001b[0mvar_exp\u001b[0m \u001b[0;34m=\u001b[0m \u001b[0mself\u001b[0m\u001b[0;34m.\u001b[0m\u001b[0mlikelihood\u001b[0m\u001b[0;34m.\u001b[0m\u001b[0mvariational_expectations\u001b[0m\u001b[0;34m(\u001b[0m\u001b[0mf_mean\u001b[0m\u001b[0;34m,\u001b[0m \u001b[0mf_var\u001b[0m\u001b[0;34m,\u001b[0m \u001b[0mY\u001b[0m\u001b[0;34m)\u001b[0m\u001b[0;34m\u001b[0m\u001b[0;34m\u001b[0m\u001b[0m\n\u001b[1;32m    149\u001b[0m         \u001b[0;32mif\u001b[0m \u001b[0mself\u001b[0m\u001b[0;34m.\u001b[0m\u001b[0mnum_data\u001b[0m \u001b[0;32mis\u001b[0m \u001b[0;32mnot\u001b[0m \u001b[0;32mNone\u001b[0m\u001b[0;34m:\u001b[0m\u001b[0;34m\u001b[0m\u001b[0;34m\u001b[0m\u001b[0m\n",
            "\u001b[0;32m/usr/local/lib/python3.6/dist-packages/gpflow/models/svgp.py\u001b[0m in \u001b[0;36mpredict_f\u001b[0;34m(self, Xnew, full_cov, full_output_cov)\u001b[0m\n\u001b[1;32m    166\u001b[0m             \u001b[0mfull_cov\u001b[0m\u001b[0;34m=\u001b[0m\u001b[0mfull_cov\u001b[0m\u001b[0;34m,\u001b[0m\u001b[0;34m\u001b[0m\u001b[0;34m\u001b[0m\u001b[0m\n\u001b[1;32m    167\u001b[0m             \u001b[0mwhite\u001b[0m\u001b[0;34m=\u001b[0m\u001b[0mself\u001b[0m\u001b[0;34m.\u001b[0m\u001b[0mwhiten\u001b[0m\u001b[0;34m,\u001b[0m\u001b[0;34m\u001b[0m\u001b[0;34m\u001b[0m\u001b[0m\n\u001b[0;32m--> 168\u001b[0;31m             \u001b[0mfull_output_cov\u001b[0m\u001b[0;34m=\u001b[0m\u001b[0mfull_output_cov\u001b[0m\u001b[0;34m,\u001b[0m\u001b[0;34m\u001b[0m\u001b[0;34m\u001b[0m\u001b[0m\n\u001b[0m\u001b[1;32m    169\u001b[0m         )\n\u001b[1;32m    170\u001b[0m         \u001b[0;31m# tf.debugging.assert_positive(var)  # We really should make the tests pass with this here\u001b[0m\u001b[0;34m\u001b[0m\u001b[0;34m\u001b[0m\u001b[0;34m\u001b[0m\u001b[0m\n",
            "\u001b[0;32m/usr/local/lib/python3.6/dist-packages/multipledispatch/dispatcher.py\u001b[0m in \u001b[0;36m__call__\u001b[0;34m(self, *args, **kwargs)\u001b[0m\n\u001b[1;32m    276\u001b[0m             \u001b[0mself\u001b[0m\u001b[0;34m.\u001b[0m\u001b[0m_cache\u001b[0m\u001b[0;34m[\u001b[0m\u001b[0mtypes\u001b[0m\u001b[0;34m]\u001b[0m \u001b[0;34m=\u001b[0m \u001b[0mfunc\u001b[0m\u001b[0;34m\u001b[0m\u001b[0;34m\u001b[0m\u001b[0m\n\u001b[1;32m    277\u001b[0m         \u001b[0;32mtry\u001b[0m\u001b[0;34m:\u001b[0m\u001b[0;34m\u001b[0m\u001b[0;34m\u001b[0m\u001b[0m\n\u001b[0;32m--> 278\u001b[0;31m             \u001b[0;32mreturn\u001b[0m \u001b[0mfunc\u001b[0m\u001b[0;34m(\u001b[0m\u001b[0;34m*\u001b[0m\u001b[0margs\u001b[0m\u001b[0;34m,\u001b[0m \u001b[0;34m**\u001b[0m\u001b[0mkwargs\u001b[0m\u001b[0;34m)\u001b[0m\u001b[0;34m\u001b[0m\u001b[0;34m\u001b[0m\u001b[0m\n\u001b[0m\u001b[1;32m    279\u001b[0m \u001b[0;34m\u001b[0m\u001b[0m\n\u001b[1;32m    280\u001b[0m         \u001b[0;32mexcept\u001b[0m \u001b[0mMDNotImplementedError\u001b[0m\u001b[0;34m:\u001b[0m\u001b[0;34m\u001b[0m\u001b[0;34m\u001b[0m\u001b[0m\n",
            "\u001b[0;32m/usr/local/lib/python3.6/dist-packages/gpflow/conditionals/conditionals.py\u001b[0m in \u001b[0;36m_conditional\u001b[0;34m(Xnew, inducing_variable, kernel, f, full_cov, full_output_cov, q_sqrt, white)\u001b[0m\n\u001b[1;32m     55\u001b[0m         \u001b[0mabout\u001b[0m \u001b[0mthe\u001b[0m \u001b[0mshape\u001b[0m \u001b[0mof\u001b[0m \u001b[0mthe\u001b[0m \u001b[0mvariance\u001b[0m\u001b[0;34m,\u001b[0m \u001b[0mdepending\u001b[0m \u001b[0mon\u001b[0m\u001b[0;31m \u001b[0m\u001b[0;31m`\u001b[0m\u001b[0mfull_cov\u001b[0m\u001b[0;31m`\u001b[0m \u001b[0;32mand\u001b[0m\u001b[0;31m \u001b[0m\u001b[0;31m`\u001b[0m\u001b[0mfull_output_cov\u001b[0m\u001b[0;31m`\u001b[0m\u001b[0;34m.\u001b[0m\u001b[0;34m\u001b[0m\u001b[0;34m\u001b[0m\u001b[0m\n\u001b[1;32m     56\u001b[0m     \"\"\"\n\u001b[0;32m---> 57\u001b[0;31m     \u001b[0mKmm\u001b[0m \u001b[0;34m=\u001b[0m \u001b[0mKuu\u001b[0m\u001b[0;34m(\u001b[0m\u001b[0minducing_variable\u001b[0m\u001b[0;34m,\u001b[0m \u001b[0mkernel\u001b[0m\u001b[0;34m,\u001b[0m \u001b[0mjitter\u001b[0m\u001b[0;34m=\u001b[0m\u001b[0mdefault_jitter\u001b[0m\u001b[0;34m(\u001b[0m\u001b[0;34m)\u001b[0m\u001b[0;34m)\u001b[0m  \u001b[0;31m# [M, M]\u001b[0m\u001b[0;34m\u001b[0m\u001b[0;34m\u001b[0m\u001b[0m\n\u001b[0m\u001b[1;32m     58\u001b[0m     \u001b[0mKmn\u001b[0m \u001b[0;34m=\u001b[0m \u001b[0mKuf\u001b[0m\u001b[0;34m(\u001b[0m\u001b[0minducing_variable\u001b[0m\u001b[0;34m,\u001b[0m \u001b[0mkernel\u001b[0m\u001b[0;34m,\u001b[0m \u001b[0mXnew\u001b[0m\u001b[0;34m)\u001b[0m  \u001b[0;31m# [M, N]\u001b[0m\u001b[0;34m\u001b[0m\u001b[0;34m\u001b[0m\u001b[0m\n\u001b[1;32m     59\u001b[0m     \u001b[0mKnn\u001b[0m \u001b[0;34m=\u001b[0m \u001b[0mkernel\u001b[0m\u001b[0;34m(\u001b[0m\u001b[0mXnew\u001b[0m\u001b[0;34m,\u001b[0m \u001b[0mfull_cov\u001b[0m\u001b[0;34m=\u001b[0m\u001b[0mfull_cov\u001b[0m\u001b[0;34m)\u001b[0m\u001b[0;34m\u001b[0m\u001b[0;34m\u001b[0m\u001b[0m\n",
            "\u001b[0;32m/usr/local/lib/python3.6/dist-packages/multipledispatch/dispatcher.py\u001b[0m in \u001b[0;36m__call__\u001b[0;34m(self, *args, **kwargs)\u001b[0m\n\u001b[1;32m    276\u001b[0m             \u001b[0mself\u001b[0m\u001b[0;34m.\u001b[0m\u001b[0m_cache\u001b[0m\u001b[0;34m[\u001b[0m\u001b[0mtypes\u001b[0m\u001b[0;34m]\u001b[0m \u001b[0;34m=\u001b[0m \u001b[0mfunc\u001b[0m\u001b[0;34m\u001b[0m\u001b[0;34m\u001b[0m\u001b[0m\n\u001b[1;32m    277\u001b[0m         \u001b[0;32mtry\u001b[0m\u001b[0;34m:\u001b[0m\u001b[0;34m\u001b[0m\u001b[0;34m\u001b[0m\u001b[0m\n\u001b[0;32m--> 278\u001b[0;31m             \u001b[0;32mreturn\u001b[0m \u001b[0mfunc\u001b[0m\u001b[0;34m(\u001b[0m\u001b[0;34m*\u001b[0m\u001b[0margs\u001b[0m\u001b[0;34m,\u001b[0m \u001b[0;34m**\u001b[0m\u001b[0mkwargs\u001b[0m\u001b[0;34m)\u001b[0m\u001b[0;34m\u001b[0m\u001b[0;34m\u001b[0m\u001b[0m\n\u001b[0m\u001b[1;32m    279\u001b[0m \u001b[0;34m\u001b[0m\u001b[0m\n\u001b[1;32m    280\u001b[0m         \u001b[0;32mexcept\u001b[0m \u001b[0mMDNotImplementedError\u001b[0m\u001b[0;34m:\u001b[0m\u001b[0;34m\u001b[0m\u001b[0;34m\u001b[0m\u001b[0m\n",
            "\u001b[0;32m<ipython-input-10-a465e1fa31fd>\u001b[0m in \u001b[0;36mKuu_matern12_RVFF_1D\u001b[0;34m(inducing_variable, kernel, jitter)\u001b[0m\n\u001b[1;32m     45\u001b[0m       \u001b[0;32mreturn\u001b[0m \u001b[0mres\u001b[0m\u001b[0;34m\u001b[0m\u001b[0;34m\u001b[0m\u001b[0m\n\u001b[1;32m     46\u001b[0m \u001b[0;34m\u001b[0m\u001b[0m\n\u001b[0;32m---> 47\u001b[0;31m     \u001b[0;32mreturn\u001b[0m \u001b[0minnerProduct\u001b[0m\u001b[0;34m(\u001b[0m \u001b[0mb\u001b[0m \u001b[0;34m-\u001b[0m \u001b[0ma\u001b[0m\u001b[0;34m,\u001b[0m \u001b[0momegas\u001b[0m\u001b[0;34m,\u001b[0m \u001b[0mphis\u001b[0m\u001b[0;34m,\u001b[0m \u001b[0mkernel\u001b[0m\u001b[0;34m.\u001b[0m\u001b[0mvariance\u001b[0m\u001b[0;34m,\u001b[0m \u001b[0mlambda_\u001b[0m \u001b[0;34m)\u001b[0m\u001b[0;34m\u001b[0m\u001b[0;34m\u001b[0m\u001b[0m\n\u001b[0m\u001b[1;32m     48\u001b[0m \u001b[0;34m\u001b[0m\u001b[0m\n\u001b[1;32m     49\u001b[0m \u001b[0;34m@\u001b[0m\u001b[0mcov\u001b[0m\u001b[0;34m.\u001b[0m\u001b[0mKuf\u001b[0m\u001b[0;34m.\u001b[0m\u001b[0mregister\u001b[0m\u001b[0;34m(\u001b[0m\u001b[0mRVFF_1D\u001b[0m\u001b[0;34m,\u001b[0m \u001b[0mgpflow\u001b[0m\u001b[0;34m.\u001b[0m\u001b[0mkernels\u001b[0m\u001b[0;34m.\u001b[0m\u001b[0mMatern12\u001b[0m\u001b[0;34m,\u001b[0m \u001b[0mTensorLike\u001b[0m\u001b[0;34m)\u001b[0m\u001b[0;34m\u001b[0m\u001b[0;34m\u001b[0m\u001b[0m\n",
            "\u001b[0;32m<ipython-input-10-a465e1fa31fd>\u001b[0m in \u001b[0;36minnerProduct\u001b[0;34m(intervalLen, omegas, phis, kernelVar, lambda_)\u001b[0m\n\u001b[1;32m     25\u001b[0m                     \u001b[0mcoeff1\u001b[0m \u001b[0;34m*\u001b[0m \u001b[0mtf\u001b[0m\u001b[0;34m.\u001b[0m\u001b[0msin\u001b[0m\u001b[0;34m(\u001b[0m \u001b[0mangle3\u001b[0m \u001b[0;34m)\u001b[0m \u001b[0;34m-\u001b[0m\u001b[0;34m\u001b[0m\u001b[0;34m\u001b[0m\u001b[0m\n\u001b[1;32m     26\u001b[0m                     \u001b[0mcoeff2\u001b[0m \u001b[0;34m*\u001b[0m \u001b[0mtf\u001b[0m\u001b[0;34m.\u001b[0m\u001b[0msin\u001b[0m\u001b[0;34m(\u001b[0m \u001b[0mangle4\u001b[0m \u001b[0;34m)\u001b[0m \u001b[0;34m+\u001b[0m\u001b[0;34m\u001b[0m\u001b[0;34m\u001b[0m\u001b[0m\n\u001b[0;32m---> 27\u001b[0;31m                     \u001b[0mlambda_\u001b[0m \u001b[0;34m*\u001b[0m \u001b[0mtf\u001b[0m\u001b[0;34m.\u001b[0m\u001b[0mcos\u001b[0m\u001b[0;34m(\u001b[0m \u001b[0mangle4\u001b[0m \u001b[0;34m)\u001b[0m \u001b[0;34m-\u001b[0m\u001b[0;34m\u001b[0m\u001b[0;34m\u001b[0m\u001b[0m\n\u001b[0m\u001b[1;32m     28\u001b[0m                     lambda_ * tf.cos( angle3 ) ) / denom\n\u001b[1;32m     29\u001b[0m \u001b[0;34m\u001b[0m\u001b[0m\n",
            "\u001b[0;32m/usr/local/lib/python3.6/dist-packages/tensorflow/python/ops/gen_math_ops.py\u001b[0m in \u001b[0;36msin\u001b[0;34m(x, name)\u001b[0m\n\u001b[1;32m   8873\u001b[0m       _result = pywrap_tfe.TFE_Py_FastPathExecute(\n\u001b[1;32m   8874\u001b[0m         \u001b[0m_ctx\u001b[0m\u001b[0;34m.\u001b[0m\u001b[0m_context_handle\u001b[0m\u001b[0;34m,\u001b[0m \u001b[0mtld\u001b[0m\u001b[0;34m.\u001b[0m\u001b[0mdevice_name\u001b[0m\u001b[0;34m,\u001b[0m \u001b[0;34m\"Sin\"\u001b[0m\u001b[0;34m,\u001b[0m \u001b[0mname\u001b[0m\u001b[0;34m,\u001b[0m \u001b[0mtld\u001b[0m\u001b[0;34m.\u001b[0m\u001b[0mop_callbacks\u001b[0m\u001b[0;34m,\u001b[0m\u001b[0;34m\u001b[0m\u001b[0;34m\u001b[0m\u001b[0m\n\u001b[0;32m-> 8875\u001b[0;31m         x)\n\u001b[0m\u001b[1;32m   8876\u001b[0m       \u001b[0;32mreturn\u001b[0m \u001b[0m_result\u001b[0m\u001b[0;34m\u001b[0m\u001b[0;34m\u001b[0m\u001b[0m\n\u001b[1;32m   8877\u001b[0m     \u001b[0;32mexcept\u001b[0m \u001b[0m_core\u001b[0m\u001b[0;34m.\u001b[0m\u001b[0m_FallbackException\u001b[0m\u001b[0;34m:\u001b[0m\u001b[0;34m\u001b[0m\u001b[0;34m\u001b[0m\u001b[0m\n",
            "\u001b[0;31mKeyboardInterrupt\u001b[0m: "
          ]
        }
      ]
    },
    {
      "cell_type": "markdown",
      "metadata": {
        "id": "_pmf58c1Bmr8",
        "colab_type": "text"
      },
      "source": [
        "#Testing\n",
        "\n",
        "###Plotting a posterior sample on top of the scatter plot of the data:"
      ]
    },
    {
      "cell_type": "code",
      "metadata": {
        "id": "FCnyqPZRB0md",
        "colab_type": "code",
        "outputId": "08e86ca8-bc7c-4714-9a0e-435faa6c5748",
        "colab": {
          "base_uri": "https://localhost:8080/",
          "height": 282
        }
      },
      "source": [
        "plt.scatter(X, Y, s=15)\n",
        "print(model.elbo((X,Y)))\n",
        "Xtest = np.arange(0.0, 6.0, 0.01).reshape(-1, 1)\n",
        "wideXtest = np.arange(-15.0, 15.0, 0.01).reshape(-1, 1)\n",
        "\n",
        "modelMean = model.predict_f( Xtest )[0]\n",
        "exactPosteriorMean = exactModel.predict_f( Xtest )[0]\n",
        "\n",
        "plt.plot(Xtest, modelMean, color='r')\n",
        "plt.plot(Xtest, exactPosteriorMean, color='m')\n",
        "plt.show()"
      ],
      "execution_count": 17,
      "outputs": [
        {
          "output_type": "stream",
          "text": [
            "tf.Tensor(-384.6378172646454, shape=(), dtype=float64)\n"
          ],
          "name": "stdout"
        },
        {
          "output_type": "display_data",
          "data": {
            "image/png": "[encoded data removed]",
            "text/plain": [
              "<Figure size 432x288 with 1 Axes>"
            ]
          },
          "metadata": {
            "tags": [],
            "needs_background": "light"
          }
        }
      ]
    },
    {
      "cell_type": "markdown",
      "metadata": {
        "id": "nUMvPD9gLdu4",
        "colab_type": "text"
      },
      "source": [
        "#Testing whether $q(u) = p(u)$ when we fix $q^{1/2}$ = cholesky($K_{uu}$)"
      ]
    },
    {
      "cell_type": "code",
      "metadata": {
        "id": "Se5vp063L3PS",
        "colab_type": "code",
        "colab": {}
      },
      "source": [
        "def testPriorEqualsPosterior():\n",
        "  M = 200\n",
        "  model = gpflow.models.SVGP(\n",
        "      kernel=kernel, likelihood=likelihood, inducing_variable=inducing_variable \n",
        "  )\n",
        "  model.q_sqrt = tf.reshape( tf.linalg.cholesky( Kuu_matern12_RVFF_1D(model.inducing_variable, model.kernel) ), (-1, M, M) )\n",
        "  \n",
        "  return model\n",
        "\n",
        "priorModel = testPriorEqualsPosterior()"
      ],
      "execution_count": 0,
      "outputs": []
    },
    {
      "cell_type": "code",
      "metadata": {
        "colab_type": "code",
        "outputId": "7a572473-8b16-4eb7-8ecb-d67523909ce2",
        "id": "wzHn2qWz-mTk",
        "colab": {
          "base_uri": "https://localhost:8080/",
          "height": 317
        }
      },
      "source": [
        "plt.scatter(X, Y, s=15)\n",
        "Xtest = np.arange(0.0, 6.0, 0.01).reshape(-1, 1)\n",
        "# wideXtest = np.arange(-12.0, 12.0, 0.01).reshape(-1, 1)\n",
        "\n",
        "modelMean = priorModel.predict_f( Xtest )[0]\n",
        "exactPosteriorMean = exactModel.predict_f( Xtest )[0]\n",
        "# priorMean = constrainedModel.mean_function(Xtest)\n",
        "\n",
        "print( tf.reduce_all(priorModel.q_sqrt - tf.reshape( tf.linalg.cholesky( Kuu_matern12_RVFF_1D(model.inducing_variable, model.kernel) ), (-1, 200, 200) ) == 0 ) ) \n",
        "print( tf.reduce_all(priorModel.q_mu == 0 )  )\n",
        "print( priorModel.prior_kl() )\n",
        "\n",
        "# plt.plot(Xtest, priorMean, color='g')\n",
        "plt.plot(Xtest, modelMean, color='r')\n",
        "plt.plot(Xtest, exactPosteriorMean, color='m')\n",
        "plt.show()"
      ],
      "execution_count": 52,
      "outputs": [
        {
          "output_type": "stream",
          "text": [
            "tf.Tensor(True, shape=(), dtype=bool)\n",
            "tf.Tensor(True, shape=(), dtype=bool)\n",
            "tf.Tensor(815677.2535469946, shape=(), dtype=float64)\n"
          ],
          "name": "stdout"
        },
        {
          "output_type": "display_data",
          "data": {
            "image/png": "[encoded data removed]",
            "text/plain": [
              "<Figure size 432x288 with 1 Axes>"
            ]
          },
          "metadata": {
            "tags": [],
            "needs_background": "light"
          }
        }
      ]
    }
  ]
}