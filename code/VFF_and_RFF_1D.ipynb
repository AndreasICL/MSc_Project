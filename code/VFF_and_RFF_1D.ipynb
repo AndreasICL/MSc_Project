{
  "nbformat": 4,
  "nbformat_minor": 0,
  "metadata": {
    "colab": {
      "name": "VFF_and_RFF_1D.ipynb",
      "provenance": [],
      "toc_visible": true,
      "authorship_tag": "ABX9TyNUIAHjOfZt8P1UMJfufBaG"
    },
    "kernelspec": {
      "name": "python3",
      "display_name": "Python 3"
    }
  },
  "cells": [
    {
      "cell_type": "code",
      "metadata": {
        "id": "fW-B5syh75r4",
        "colab_type": "code",
        "colab": {}
      },
      "source": [
        "!pip install tensorflow==2.2.0 > /dev/null\n",
        "!pip install gpflow > /dev/null\n",
        "!pip install gast > /dev/null\n",
        "!pip install observations > /dev/null"
      ],
      "execution_count": 1,
      "outputs": []
    },
    {
      "cell_type": "code",
      "metadata": {
        "id": "u3cwbeHz8Exr",
        "colab_type": "code",
        "colab": {}
      },
      "source": [
        "from typing import Tuple, Optional\n",
        "import tempfile\n",
        "import pathlib\n",
        "\n",
        "import datetime\n",
        "import io\n",
        "import matplotlib.pyplot as plt\n",
        "\n",
        "import numpy as np\n",
        "import tensorflow as tf\n",
        "import gpflow\n",
        "\n",
        "import matplotlib.pyplot as plt\n",
        "\n",
        "from gpflow.config import default_float, default_jitter\n",
        "from gpflow.ci_utils import ci_niter\n",
        "from gpflow.utilities import to_default_float\n",
        "from gpflow.base import TensorLike\n",
        "from gpflow import covariances as cov\n",
        "from gpflow import kullback_leiblers as kl\n",
        "from gpflow.covariances import Kuu\n",
        "from gpflow.covariances import Kuf\n",
        "\n",
        "from __future__ import absolute_import\n",
        "from __future__ import division\n",
        "from __future__ import print_function\n",
        "\n",
        "import csv\n",
        "import numpy as np\n",
        "import os\n",
        "import sys\n",
        "from shutil import copyfile, rmtree\n",
        "import pickle \n",
        "\n",
        "import observations\n",
        "\n",
        "import warnings\n",
        "\n",
        "warnings.filterwarnings(\"ignore\")\n",
        "sys.path.insert(0,'./VFF/')\n",
        "\n",
        "import VFF_IV\n",
        "from RVFF_IV_1D import RVFF_1D"
      ],
      "execution_count": 21,
      "outputs": []
    },
    {
      "cell_type": "markdown",
      "metadata": {
        "id": "y5FxoiegAZe1",
        "colab_type": "text"
      },
      "source": [
        "Make `tensorboard` work inside notebook:"
      ]
    },
    {
      "cell_type": "code",
      "metadata": {
        "id": "YmCOr2hs8355",
        "colab_type": "code",
        "colab": {}
      },
      "source": [
        "output_logdir = \"/tmp/tensorboard\"\n",
        "\n",
        "!rm -rf \"{output_logdir}\"\n",
        "!mkdir \"{output_logdir}\"\n",
        "\n",
        "%load_ext tensorboard\n",
        "%matplotlib inline\n",
        "\n",
        "\n",
        "def enumerated_logdir(_logdir_id: int = [0]):\n",
        "    logdir = pathlib.Path(output_logdir, str(_logdir_id[0]))\n",
        "    _logdir_id[0] += 1\n",
        "    return str(logdir)"
      ],
      "execution_count": 3,
      "outputs": []
    },
    {
      "cell_type": "markdown",
      "metadata": {
        "id": "8A27JdlvAZfE",
        "colab_type": "text"
      },
      "source": [
        "Set up random seeds and default float for `gpflow` tensors:"
      ]
    },
    {
      "cell_type": "code",
      "metadata": {
        "id": "flnWsQF1_h3W",
        "colab_type": "code",
        "colab": {}
      },
      "source": [
        "gpflow.config.set_default_float(np.float64)\n",
        "np.random.seed(0)\n",
        "tf.random.set_seed(0)"
      ],
      "execution_count": 4,
      "outputs": []
    },
    {
      "cell_type": "markdown",
      "metadata": {
        "id": "eJsA3bUEAZfP",
        "colab_type": "text"
      },
      "source": [
        "## Loading the snelson dataset"
      ]
    },
    {
      "cell_type": "code",
      "metadata": {
        "id": "uZDkEmxQEqqN",
        "colab_type": "code",
        "colab": {}
      },
      "source": [
        "'''\n",
        "  This code was copied from https://github.com/edwardlib/observations/blob/master/observations/snelson1d.py\n",
        "  on 01/05/2020\n",
        "'''\n",
        "\n",
        "from observations.util import maybe_download_and_extract\n",
        "\n",
        "\n",
        "def snelson1d(path):\n",
        "  \"\"\"Load Edward Snelson's 1d regression data set [@snelson2006fitc].\n",
        "  It contains 200 examples of a few oscillations of an example function. It has\n",
        "  seen extensive use as a toy dataset for illustrating qualitative behaviour of\n",
        "  Gaussian process approximations.\n",
        "  Args:\n",
        "    path: str.\n",
        "      Path to directory which either stores file or otherwise file will be\n",
        "      downloaded and extracted there. Filenames are `snelson_train_*`.\n",
        "  Returns:\n",
        "    Tuple of two np.darray `inputs` and `outputs` with 200 rows and 1 column.\n",
        "  \"\"\"\n",
        "  path = os.path.expanduser(path)\n",
        "  inputs_path = os.path.join(path, 'snelson_train_inputs')\n",
        "  outputs_path = os.path.join(path, 'snelson_train_outputs')\n",
        "\n",
        "  # Contains all source as well. We just need the data.\n",
        "  url = 'http://www.gatsby.ucl.ac.uk/~snelson/SPGP_dist.zip'\n",
        "\n",
        "  if not (os.path.exists(inputs_path) and os.path.exists(outputs_path)):\n",
        "    maybe_download_and_extract(path, url)\n",
        "\n",
        "    # Copy the required data\n",
        "    copyfile(os.path.join(path, \"SPGP_dist\", \"train_inputs\"), inputs_path)\n",
        "    copyfile(os.path.join(path, \"SPGP_dist\", \"train_outputs\"), outputs_path)\n",
        "\n",
        "    # Clean up everything else\n",
        "    rmtree(os.path.join(path, \"SPGP_dist\"))\n",
        "    os.remove(os.path.join(path, \"SPGP_dist.zip\"))\n",
        "\n",
        "  X = np.loadtxt(os.path.join(inputs_path))[:, None]\n",
        "  Y = np.loadtxt(os.path.join(outputs_path))[:, None]\n",
        "\n",
        "  return X, Y"
      ],
      "execution_count": 5,
      "outputs": []
    },
    {
      "cell_type": "code",
      "metadata": {
        "id": "5cwgLNj8Hw2h",
        "colab_type": "code",
        "colab": {
          "base_uri": "https://localhost:8080/",
          "height": 69
        },
        "outputId": "eabfa89e-e5e1-41ed-9207-2853a472c72f"
      },
      "source": [
        "X, Y = snelson1d(\".\")\n",
        "num_train_data = X.shape[0]"
      ],
      "execution_count": 6,
      "outputs": [
        {
          "output_type": "stream",
          "text": [
            ">> Downloading ./SPGP_dist.zip.part \n",
            ">> [14.7 KB/14.7 KB] 6944% @1.3 MB/s,[0s remaining, 0s elapsed]        \n",
            "URL http://www.gatsby.ucl.ac.uk/~snelson/SPGP_dist.zip downloaded to ./SPGP_dist.zip \n"
          ],
          "name": "stdout"
        }
      ]
    },
    {
      "cell_type": "markdown",
      "metadata": {
        "id": "Zg8Cz-6OAZfb",
        "colab_type": "text"
      },
      "source": [
        "Working with TensorFlow Datasets is an efficient way to rapidly shuffle, iterate, and batch from data. For `prefetch` size we use `tf.data.experimental.AUTOTUNE` as recommended by TensorFlow [guidelines](https://www.tensorflow.org/guide/data_performance)."
      ]
    },
    {
      "cell_type": "code",
      "metadata": {
        "id": "DUfgEr7aAZfc",
        "colab_type": "code",
        "colab": {
          "base_uri": "https://localhost:8080/",
          "height": 69
        },
        "outputId": "325c7a22-2303-413f-910d-2299662d5170"
      },
      "source": [
        "train_dataset = tf.data.Dataset.from_tensor_slices((X, Y))\n",
        "\n",
        "batch_size = 32\n",
        "num_features = 10\n",
        "prefetch_size = tf.data.experimental.AUTOTUNE\n",
        "shuffle_buffer_size = num_train_data // 2\n",
        "num_batches_per_epoch = num_train_data // batch_size\n",
        "\n",
        "original_train_dataset = train_dataset\n",
        "train_dataset = (\n",
        "    train_dataset.repeat()\n",
        "    .prefetch(prefetch_size)\n",
        "    .shuffle(buffer_size=shuffle_buffer_size)\n",
        "    .batch(batch_size)\n",
        ")\n",
        "\n",
        "print(f\"prefetch_size={prefetch_size}\")\n",
        "print(f\"shuffle_buffer_size={shuffle_buffer_size}\")\n",
        "print(f\"num_batches_per_epoch={num_batches_per_epoch}\")"
      ],
      "execution_count": 7,
      "outputs": [
        {
          "output_type": "stream",
          "text": [
            "prefetch_size=-1\n",
            "shuffle_buffer_size=100\n",
            "num_batches_per_epoch=6\n"
          ],
          "name": "stdout"
        }
      ]
    },
    {
      "cell_type": "code",
      "metadata": {
        "id": "Cw0x2y48cvDj",
        "colab_type": "code",
        "colab": {}
      },
      "source": [
        "from gpflow.conditionals import conditional\n",
        "\n",
        "def plot(Xtest, models):\n",
        "\n",
        "  for (mean, std, meanColour, stdColour) in models:\n",
        "    plt.plot(Xtest, mean, color=meanColour)\n",
        "\n",
        "    plt.plot(Xtest, mean + std, color=stdColour)\n",
        "    plt.plot(Xtest, mean - std, color=stdColour)\n",
        "    plt.fill_between(np.squeeze(Xtest), np.squeeze(mean + std), np.squeeze(mean - std), color=stdColour, alpha=0.2)\n",
        "  \n",
        "\n",
        "  plt.scatter(X, Y, s=15)\n",
        "\n",
        "  plt.show()\n",
        "\n"
      ],
      "execution_count": 8,
      "outputs": []
    },
    {
      "cell_type": "markdown",
      "metadata": {
        "id": "x39wkv8EU6CT",
        "colab_type": "text"
      },
      "source": [
        "#Model Definition:\n",
        "\n",
        "###We use exact inference first"
      ]
    },
    {
      "cell_type": "code",
      "metadata": {
        "id": "H_4SWCm5VV8H",
        "colab_type": "code",
        "colab": {
          "base_uri": "https://localhost:8080/",
          "height": 69
        },
        "outputId": "6e99eb18-3f44-4f31-91f8-4d18ed8aa813"
      },
      "source": [
        "\n",
        "kernel = gpflow.kernels.Matern12(variance=0.5, lengthscales=0.5)\n",
        "likelihood = gpflow.likelihoods.Gaussian()\n",
        "\n",
        "exactModel = gpflow.models.GPR( (X, Y), kernel )\n",
        "\n",
        "gpflow.utilities.set_trainable(kernel.lengthscales, True)\n",
        "gpflow.utilities.set_trainable(kernel.variance, True)\n",
        "\n",
        "optimizer = tf.optimizers.Adam(learning_rate=0.01)\n",
        "\n",
        "@tf.function\n",
        "def loss_closure():\n",
        "  return -exactModel.log_marginal_likelihood()\n",
        "\n",
        "optimizer = gpflow.optimizers.Scipy()\n",
        "result = optimizer.minimize(loss_closure, exactModel.trainable_variables, options=dict(maxiter=1000, disp=True))\n",
        "\n",
        "print(\"result:\")\n",
        "print(result.message)\n",
        "\n",
        "print(exactModel.log_marginal_likelihood())\n",
        "\n",
        "Xtest = np.arange(0.0, 6.0, 0.01).reshape(-1, 1)\n",
        "\n",
        "# for i in range(1000):\n",
        "#   if i % 200 == 0:\n",
        "#     print(i)\n",
        "#     print(\"kernel lengthscale: %2.2f\" % kernel.lengthscales.read_value())\n",
        "#     print(\"kernel variance: %2.2f\" % kernel.variance.read_value())\n",
        "#     print(\"Exact model log p(y): %2.2f\" % exactModel.log_marginal_likelihood() )\n",
        "#     print(\"=\" * 70)\n",
        "\n",
        "#   optimizer.minimize( loss=loss_closure, var_list=exactModel.trainable_variables )\n",
        "\n",
        "# print(\"Exact model log p(y): %2.2f\" % exactModel.log_marginal_likelihood() )"
      ],
      "execution_count": 9,
      "outputs": [
        {
          "output_type": "stream",
          "text": [
            "result:\n",
            "b'CONVERGENCE: REL_REDUCTION_OF_F_<=_FACTR*EPSMCH'\n",
            "tf.Tensor(-68.30588480647597, shape=(), dtype=float64)\n"
          ],
          "name": "stdout"
        }
      ]
    },
    {
      "cell_type": "markdown",
      "metadata": {
        "id": "JurwmO73VKF5",
        "colab_type": "text"
      },
      "source": [
        "###We now use approximate inference with Random Variational Fourier Features"
      ]
    },
    {
      "cell_type": "code",
      "metadata": {
        "id": "J1ekb08iAZfo",
        "colab_type": "code",
        "colab": {
          "base_uri": "https://localhost:8080/",
          "height": 802
        },
        "outputId": "50c69555-82c2-4a16-f0a4-3b5cf002b4d0"
      },
      "source": [
        "from scipy.optimize import minimize, fmin_l_bfgs_b\n",
        "\n",
        "tf.config.experimental_run_functions_eagerly(True)\n",
        "\n",
        "M = 10\n",
        "inducing_variable = RVFF_1D( a=0, b=6, M=M )\n",
        "\n",
        "kernel2 = gpflow.kernels.Matern12(variance=1.0, lengthscales=0.7)\n",
        "\n",
        "model = gpflow.models.SGPR(\n",
        "    (X, Y), kernel=kernel2, inducing_variable=inducing_variable\n",
        ")\n",
        "\n",
        "optimizer = tf.optimizers.Adam(learning_rate=0.01)\n",
        "\n",
        "gpflow.set_trainable(kernel2.variance, True)\n",
        "gpflow.set_trainable(kernel2.lengthscales, True)\n",
        "gpflow.set_trainable(model.likelihood, True)\n",
        "gpflow.set_trainable(model.inducing_variable.a, False)\n",
        "gpflow.set_trainable(model.inducing_variable.b, False)\n",
        "gpflow.set_trainable(model.inducing_variable.phis, True)\n",
        "gpflow.set_trainable(model.inducing_variable.omegas, True)\n",
        "\n",
        "@tf.function\n",
        "def loss_closure():\n",
        "  return -model.elbo()\n",
        "\n",
        "def callback(step, variables, values):\n",
        "  # if step % 20 == 0:\n",
        "  print(model.elbo())\n",
        "\n",
        "# def loss(parameters):\n",
        "#   print(parameters[:10])\n",
        "#   print(\"=\"*70)\n",
        "#   print(model.trainable_variables[0])\n",
        "#   print(\"=\"*70)\n",
        "\n",
        "#   counter = 0\n",
        "#   for parameter in model.trainable_variables:\n",
        "#     accumulatedParam = []\n",
        "#     for _ in range(len(np.array(parameter.numpy()).reshape(-1))):\n",
        "#       accumulatedParam.append(parameters[counter])\n",
        "#       counter += 1\n",
        "\n",
        "#     if len(accumulatedParam)==1:\n",
        "#       accumulatedParam = accumulatedParam[0]\n",
        "\n",
        "#     parameter.assign(accumulatedParam)\n",
        "  \n",
        "#   print(model.trainable_variables[0])\n",
        "  \n",
        "#   return model.elbo()\n",
        "\n",
        "# def grad_function(variables):\n",
        "#   variables = tf.constant(variables)\n",
        "#   with tf.GradientTape(watch_accessed_variables=False) as tape:\n",
        "#     tape.watch(variables)\n",
        "#     loss_ = loss(variables)\n",
        "#   # vars = model.trainable_variables\n",
        "#   grads = tape.gradient(loss_, variables)\n",
        "\n",
        "#   print(\"grads:\")\n",
        "#   print(grads)  \n",
        "\n",
        "#   return loss_, grads\n",
        "\n",
        "# def flattenParams(params):\n",
        "#   params = list(params)\n",
        "#   for i, _ in enumerate(params):\n",
        "#     params[i] = np.array(params[i].numpy(), dtype=default_float()).reshape(-1)\n",
        "  \n",
        "#   result = np.concatenate(params)\n",
        "\n",
        "#   return result\n",
        "\n",
        "optimizer = gpflow.optimizers.Scipy()\n",
        "result = optimizer.minimize(loss_closure, model.trainable_variables, method='L-BFGS-B', step_callback=callback, options=dict(maxiter=1000, disp=True))\n",
        "# result = fmin_l_bfgs_b(func=loss, x0=flattenParams(model.trainable_variables), fprime=grad_function, maxls=60)\n",
        "\n",
        "print(\"result:\")\n",
        "print(result.message)\n",
        "\n",
        "print(model.elbo())\n",
        "\n",
        "# print(model.elbo())\n",
        "# minimize(loss, model.trainable_variables, tol=1e-3, method=\"BFGS\", options={'maxiter':1000, 'disp':True} )\n",
        "# print(model.elbo())\n",
        "\n",
        "# prevElbo = 1000\n",
        "\n",
        "# for i in range(10000):\n",
        "#   if i % 200 == 0:\n",
        "#     elbo = model.elbo()    \n",
        "#     print(\"Iteration: %2d\" % i)\n",
        "#     print(\"kernel lengthscale: %2.2f\" % kernel2.lengthscales.read_value())\n",
        "#     print(\"kernel variance: %2.2f\" % kernel2.variance.read_value())\n",
        "#     print(\"ELBO: %2.2f\" % elbo )\n",
        "#     print(\"=\" * 70)\n",
        "\n",
        "    # if tf.abs(prevElbo - elbo) < 1e-2:\n",
        "    #   break\n",
        "\n",
        "    # prevElbo = elbo\n",
        "\n",
        "  # optimizer.minimize( closure=loss_closure, tol=1e-2, variables=model.trainable_variables, method='BFGS', options=dict( disp=True ) )\n",
        "  # optimizer.minimize( loss=loss_closure, var_list=model.trainable_variables )\n",
        "\n",
        "\n",
        "mean, std = model.predict_f(Xtest, False, False)\n",
        "std = tf.sqrt(std)\n",
        "plot(Xtest, [(mean, std, 'r', 'c')])\n",
        "\n",
        "print( \"Variational Model ELBO is %3.2f\" % model.elbo() )"
      ],
      "execution_count": 124,
      "outputs": [
        {
          "output_type": "stream",
          "text": [
            "[4.40609669 1.3934477  1.31768857 4.69526244 0.71198324 0.03173609\n",
            " 3.45240142 0.58060267 2.66801318 1.2991454 ]\n",
            "======================================================================\n",
            "<tf.Variable 'Variable:0' shape=(10,) dtype=float64, numpy=\n",
            "array([4.40609669, 1.3934477 , 1.31768857, 4.69526244, 0.71198324,\n",
            "       0.03173609, 3.45240142, 0.58060267, 2.66801318, 1.2991454 ])>\n",
            "======================================================================\n",
            "<tf.Variable 'Variable:0' shape=(10,) dtype=float64, numpy=\n",
            "array([4.40609669, 1.3934477 , 1.31768857, 4.69526244, 0.71198324,\n",
            "       0.03173609, 3.45240142, 0.58060267, 2.66801318, 1.2991454 ])>\n",
            "tf.Tensor(\n",
            "[4.40609669 1.3934477  1.31768857 4.69526244 0.71198324 0.03173609\n",
            " 3.45240142 0.58060267 2.66801318 1.2991454 ], shape=(10,), dtype=float64)\n",
            "======================================================================\n",
            "<tf.Variable 'Variable:0' shape=(10,) dtype=float64, numpy=\n",
            "array([4.40609669, 1.3934477 , 1.31768857, 4.69526244, 0.71198324,\n",
            "       0.03173609, 3.45240142, 0.58060267, 2.66801318, 1.2991454 ])>\n",
            "======================================================================\n",
            "<tf.Variable 'Variable:0' shape=(10,) dtype=float64, numpy=\n",
            "array([4.40609669, 1.3934477 , 1.31768857, 4.69526244, 0.71198324,\n",
            "       0.03173609, 3.45240142, 0.58060267, 2.66801318, 1.2991454 ])>\n",
            "grads:\n",
            "None\n"
          ],
          "name": "stdout"
        },
        {
          "output_type": "error",
          "ename": "TypeError",
          "evalue": "ignored",
          "traceback": [
            "\u001b[0;31m---------------------------------------------------------------------------\u001b[0m",
            "\u001b[0;31mTypeError\u001b[0m                                 Traceback (most recent call last)",
            "\u001b[0;32m<ipython-input-124-c5e661c641f7>\u001b[0m in \u001b[0;36m<module>\u001b[0;34m()\u001b[0m\n\u001b[1;32m     76\u001b[0m \u001b[0;31m# optimizer = gpflow.optimizers.Scipy()\u001b[0m\u001b[0;34m\u001b[0m\u001b[0;34m\u001b[0m\u001b[0;34m\u001b[0m\u001b[0m\n\u001b[1;32m     77\u001b[0m \u001b[0;31m# result = optimizer.minimize(loss_closure, model.trainable_variables, method='L-BFGS-B', step_callback=callback, options=dict(maxiter=1000, disp=True))\u001b[0m\u001b[0;34m\u001b[0m\u001b[0;34m\u001b[0m\u001b[0;34m\u001b[0m\u001b[0m\n\u001b[0;32m---> 78\u001b[0;31m \u001b[0mresult\u001b[0m \u001b[0;34m=\u001b[0m \u001b[0mfmin_l_bfgs_b\u001b[0m\u001b[0;34m(\u001b[0m\u001b[0mfunc\u001b[0m\u001b[0;34m=\u001b[0m\u001b[0mloss\u001b[0m\u001b[0;34m,\u001b[0m \u001b[0mx0\u001b[0m\u001b[0;34m=\u001b[0m\u001b[0mflattenParams\u001b[0m\u001b[0;34m(\u001b[0m\u001b[0mmodel\u001b[0m\u001b[0;34m.\u001b[0m\u001b[0mtrainable_variables\u001b[0m\u001b[0;34m)\u001b[0m\u001b[0;34m,\u001b[0m \u001b[0mfprime\u001b[0m\u001b[0;34m=\u001b[0m\u001b[0mgrad_function\u001b[0m\u001b[0;34m,\u001b[0m \u001b[0mmaxls\u001b[0m\u001b[0;34m=\u001b[0m\u001b[0;36m60\u001b[0m\u001b[0;34m)\u001b[0m\u001b[0;34m\u001b[0m\u001b[0;34m\u001b[0m\u001b[0m\n\u001b[0m\u001b[1;32m     79\u001b[0m \u001b[0;34m\u001b[0m\u001b[0m\n\u001b[1;32m     80\u001b[0m \u001b[0mprint\u001b[0m\u001b[0;34m(\u001b[0m\u001b[0;34m\"result:\"\u001b[0m\u001b[0;34m)\u001b[0m\u001b[0;34m\u001b[0m\u001b[0;34m\u001b[0m\u001b[0m\n",
            "\u001b[0;32m/usr/local/lib/python3.6/dist-packages/scipy/optimize/lbfgsb.py\u001b[0m in \u001b[0;36mfmin_l_bfgs_b\u001b[0;34m(func, x0, fprime, args, approx_grad, bounds, m, factr, pgtol, epsilon, iprint, maxfun, maxiter, disp, callback, maxls)\u001b[0m\n\u001b[1;32m    197\u001b[0m \u001b[0;34m\u001b[0m\u001b[0m\n\u001b[1;32m    198\u001b[0m     res = _minimize_lbfgsb(fun, x0, args=args, jac=jac, bounds=bounds,\n\u001b[0;32m--> 199\u001b[0;31m                            **opts)\n\u001b[0m\u001b[1;32m    200\u001b[0m     d = {'grad': res['jac'],\n\u001b[1;32m    201\u001b[0m          \u001b[0;34m'task'\u001b[0m\u001b[0;34m:\u001b[0m \u001b[0mres\u001b[0m\u001b[0;34m[\u001b[0m\u001b[0;34m'message'\u001b[0m\u001b[0;34m]\u001b[0m\u001b[0;34m,\u001b[0m\u001b[0;34m\u001b[0m\u001b[0;34m\u001b[0m\u001b[0m\n",
            "\u001b[0;32m/usr/local/lib/python3.6/dist-packages/scipy/optimize/lbfgsb.py\u001b[0m in \u001b[0;36m_minimize_lbfgsb\u001b[0;34m(fun, x0, args, jac, bounds, disp, maxcor, ftol, gtol, eps, maxfun, maxiter, iprint, callback, maxls, **unknown_options)\u001b[0m\n\u001b[1;32m    336\u001b[0m         _lbfgsb.setulb(m, x, low_bnd, upper_bnd, nbd, f, g, factr,\n\u001b[1;32m    337\u001b[0m                        \u001b[0mpgtol\u001b[0m\u001b[0;34m,\u001b[0m \u001b[0mwa\u001b[0m\u001b[0;34m,\u001b[0m \u001b[0miwa\u001b[0m\u001b[0;34m,\u001b[0m \u001b[0mtask\u001b[0m\u001b[0;34m,\u001b[0m \u001b[0miprint\u001b[0m\u001b[0;34m,\u001b[0m \u001b[0mcsave\u001b[0m\u001b[0;34m,\u001b[0m \u001b[0mlsave\u001b[0m\u001b[0;34m,\u001b[0m\u001b[0;34m\u001b[0m\u001b[0;34m\u001b[0m\u001b[0m\n\u001b[0;32m--> 338\u001b[0;31m                        isave, dsave, maxls)\n\u001b[0m\u001b[1;32m    339\u001b[0m         \u001b[0mtask_str\u001b[0m \u001b[0;34m=\u001b[0m \u001b[0mtask\u001b[0m\u001b[0;34m.\u001b[0m\u001b[0mtostring\u001b[0m\u001b[0;34m(\u001b[0m\u001b[0;34m)\u001b[0m\u001b[0;34m\u001b[0m\u001b[0;34m\u001b[0m\u001b[0m\n\u001b[1;32m    340\u001b[0m         \u001b[0;32mif\u001b[0m \u001b[0mtask_str\u001b[0m\u001b[0;34m.\u001b[0m\u001b[0mstartswith\u001b[0m\u001b[0;34m(\u001b[0m\u001b[0;34mb'FG'\u001b[0m\u001b[0;34m)\u001b[0m\u001b[0;34m:\u001b[0m\u001b[0;34m\u001b[0m\u001b[0;34m\u001b[0m\u001b[0m\n",
            "\u001b[0;31mTypeError\u001b[0m: failed to initialize intent(inout|inplace|cache) array, input not an array"
          ]
        }
      ]
    },
    {
      "cell_type": "code",
      "metadata": {
        "id": "bGNoVizs0lLs",
        "colab_type": "code",
        "colab": {}
      },
      "source": [
        "with open('./model', 'wb') as fp:\n",
        "    pickle.dump(model.trainable_parameters, fp)\n",
        "    pickle.dump(inducing_variable.omegas, fp)\n",
        "    pickle.dump(inducing_variable.phis, fp)\n",
        "    pickle.dump(model.likelihood.variance, fp)"
      ],
      "execution_count": null,
      "outputs": []
    },
    {
      "cell_type": "code",
      "metadata": {
        "id": "FCnyqPZRB0md",
        "colab_type": "code",
        "colab": {
          "base_uri": "https://localhost:8080/",
          "height": 300
        },
        "outputId": "94085fa7-7ba7-454e-9a86-df05f5147f98"
      },
      "source": [
        "mean, std = model.predict_f(Xtest, False, False)\n",
        "std = tf.sqrt(std)\n",
        "plot(Xtest, [(mean, std, 'r', 'c')])\n",
        "\n",
        "print(\"ELBO of SGPR model is %4.2f\" % model.elbo().numpy())\n",
        "print(\"log( p( Y | θ ) ) of exact GP is %4.2f\" % exactModel.log_marginal_likelihood().numpy())"
      ],
      "execution_count": null,
      "outputs": [
        {
          "output_type": "display_data",
          "data": {
            "image/png": "[encoded data removed]",
            "text/plain": [
              "<Figure size 432x288 with 1 Axes>"
            ]
          },
          "metadata": {
            "tags": [],
            "needs_background": "light"
          }
        },
        {
          "output_type": "stream",
          "text": [
            "ELBO of SGPR model is -73.47\n",
            "log( p( Y | θ ) ) of exact GP is -68.31\n"
          ],
          "name": "stdout"
        }
      ]
    },
    {
      "cell_type": "markdown",
      "metadata": {
        "id": "oM9RJ52KutSu",
        "colab_type": "text"
      },
      "source": [
        "# Feature comparison with Variational Fourier Features"
      ]
    },
    {
      "cell_type": "code",
      "metadata": {
        "id": "opaxDTiBu5Tr",
        "colab_type": "code",
        "colab": {
          "base_uri": "https://localhost:8080/",
          "height": 1000
        },
        "outputId": "a2386ca2-c843-4acd-d6a8-e83739a0d560"
      },
      "source": [
        "def getNextVFFmodel(VFFmodel, numAddedFrequencies):\n",
        "  VFFlength = len(VFFmodel.inducing_variable.omegas) + numAddedFrequencies\n",
        "\n",
        "  kernel3 = gpflow.kernels.Matern12(variance=1.0, lengthscales=0.7)\n",
        "\n",
        "  VFFinducingVar = VFF_IV.FourierFeatures1D(0,6, VFFlength)\n",
        "  newVFFmodel = gpflow.models.SGPR((X, Y), kernel3, VFFinducingVar)\n",
        "  # newVFFmodel.likelihood = VFFmodel.likelihood\n",
        "\n",
        "  return newVFFmodel\n",
        "\n",
        "def getNextRVFFmodel(RVFFmodel, numAddedFrequencies):\n",
        "  prevLength = len(RVFFmodel.inducing_variable)\n",
        "  RVFFlength = prevLength + numAddedFrequencies\n",
        "\n",
        "  RVFFinducingVar = RVFF_1D(a=0, b=6, M=RVFFlength)\n",
        "\n",
        "  highestOmega = tf.math.reduce_max(RVFFmodel.inducing_variable.omegas.read_value()).numpy()\n",
        "  newOmegas = tf.concat( [ RVFFmodel.inducing_variable.omegas.read_value(), np.random.uniform(0.5 * prevLength, 0.5 * RVFFlength, numAddedFrequencies) ], axis=0 )\n",
        "  newPhis = tf.concat( [ RVFFmodel.inducing_variable.phis.read_value(), np.random.uniform(0, 2 * np.pi, numAddedFrequencies) ], axis=0 )\n",
        "\n",
        "  RVFFinducingVar.omegas.assign( newOmegas )\n",
        "  RVFFinducingVar.phis.assign( newPhis )\n",
        "\n",
        "  newRVFFmodel = gpflow.models.SGPR((X, Y), RVFFmodel.kernel, RVFFinducingVar)\n",
        "  newRVFFmodel.likelihood = RVFFmodel.likelihood\n",
        "\n",
        "  gpflow.set_trainable(newRVFFmodel.inducing_variable.a, False)\n",
        "  gpflow.set_trainable(newRVFFmodel.inducing_variable.b, False)\n",
        "  gpflow.set_trainable(newRVFFmodel.inducing_variable.phis, False)\n",
        "  gpflow.set_trainable(newRVFFmodel.inducing_variable.omegas, False)\n",
        "  gpflow.set_trainable(newRVFFmodel.likelihood, True)\n",
        "\n",
        "  RVFFmodel.inducing_variable = RVFFinducingVar\n",
        "\n",
        "  return newRVFFmodel\n",
        "\n",
        "def getModels(numBasisFunctions):\n",
        "\n",
        "  if numBasisFunctions % 2 != 1:\n",
        "    return\n",
        "\n",
        "  kernel1 = gpflow.kernels.Matern12(variance=1.0, lengthscales=0.7)\n",
        "  kernel3 = gpflow.kernels.Matern12(variance=1.0, lengthscales=0.7)\n",
        "\n",
        "  # ==============================================================\n",
        "  # VFF model setup:\n",
        "  VFFlength = int(( numBasisFunctions + 1 ) / 2)\n",
        "  VFFinducingVar = VFF_IV.FourierFeatures1D(0, 6, VFFlength)\n",
        "  VFFmodel = gpflow.models.SGPR((X, Y), kernel1, VFFinducingVar)\n",
        "  # ==============================================================\n",
        "\n",
        "  # ==============================================================\n",
        "  # RVFF model, with randomly initialised frequencies:\n",
        "  RVFFlength = numBasisFunctions #2 * VFFlength - 1\n",
        "  inducing_variable = RVFF_1D( a=0, b=6, M=RVFFlength )\n",
        "\n",
        "  RVFFmodel = gpflow.models.SGPR( (X, Y), kernel=kernel3, inducing_variable=inducing_variable )\n",
        "  # ==============================================================\n",
        "\n",
        "  # ==============================================================\n",
        "  # Trainable parameters setup:\n",
        "  gpflow.set_trainable(kernel1, True)\n",
        "  gpflow.set_trainable(kernel3, True)\n",
        "\n",
        "  gpflow.set_trainable(VFFmodel.inducing_variable.a, False)\n",
        "  gpflow.set_trainable(VFFmodel.inducing_variable.b, False)\n",
        "  gpflow.set_trainable(VFFmodel.likelihood, True)\n",
        "\n",
        "  gpflow.set_trainable(RVFFmodel.inducing_variable.a, False)\n",
        "  gpflow.set_trainable(RVFFmodel.inducing_variable.b, False)\n",
        "  gpflow.set_trainable(RVFFmodel.inducing_variable.phis, False)\n",
        "  gpflow.set_trainable(RVFFmodel.inducing_variable.omegas, False)\n",
        "  gpflow.set_trainable(RVFFmodel.likelihood, True)\n",
        "\n",
        "  # ==============================================================\n",
        "\n",
        "  return VFFmodel, RVFFmodel\n",
        "\n",
        "# ==============================================================\n",
        "# Loss function:\n",
        "@tf.function\n",
        "def loss(model):\n",
        "  def loss_closure():\n",
        "    return -model.elbo()\n",
        "  return loss_closure\n",
        "# ==============================================================\n",
        "\n",
        "\n",
        "\n",
        "# optimizer = tf.optimizers.Adam(learning_rate=0.001)\n",
        "optimizer = gpflow.optimizers.Scipy()\n",
        "\n",
        "def train(model, maxIterPerModel, ELBOtolerance):\n",
        "\n",
        "  print(\"\\n===================================================================\")\n",
        "  print(\"====================== TRAINING NEW MODEL =========================\")\n",
        "  print(\"===================================================================\\n\")\n",
        "\n",
        "  result = optimizer.minimize(loss(model), model.trainable_variables, step_callback=callback, options=dict(maxiter=1000, disp=True))\n",
        "\n",
        "  print(\"result:\")\n",
        "  print(result.message)\n",
        "\n",
        "  print(model.elbo())\n",
        "\n",
        "\n",
        "#   prevElbo = model.elbo() + 2 * ELBOtolerance\n",
        "\n",
        "#   for i in range(maxIterPerModel):\n",
        "#     if i % 100 == 0:\n",
        "#       elbo = model.elbo()\n",
        "#       print(\"Iteration %2d\" % i)\n",
        "#       print(\"Kernel lengthscale: %2.2f\" % model.kernel.lengthscales.read_value() )\n",
        "#       print(\"Kernel variance: %2.2f\" % model.kernel.variance.read_value() )\n",
        "#       print(\"Model likelihood variance: %2.2f\" % model.likelihood.variance.read_value() )\n",
        "#       print(\"Model ELBO: %2.2f\" % elbo )\n",
        "\n",
        "#       # mean, std = model.predict_f(Xtest, False, False)\n",
        "#       # std = tf.sqrt(std)\n",
        "#       # plot(Xtest, [(mean, std, 'r', 'c')])\n",
        "\n",
        "#       if tf.abs( prevElbo - elbo ) < ELBOtolerance:\n",
        "#         break\n",
        "\n",
        "#       prevElbo = elbo\n",
        "\n",
        "#     optimizer.minimize( loss=loss(model), var_list=model.trainable_variables )\n",
        "\n",
        "#   print(\"Final ELBO is %2.2f\" % model.elbo().numpy())\n",
        "\n",
        "  return model.elbo().numpy()\n",
        "\n",
        "def transposeListOfLists(l):\n",
        "  l = np.array(l)\n",
        "  l = l.T\n",
        "  return l.tolist()\n",
        "\n",
        "numAddedFeatures = 1\n",
        "\n",
        "numOfBasis = list(np.arange(21, 100, numAddedFeatures))\n",
        "models = list(getModels(21))\n",
        "\n",
        "elbos = list()\n",
        "# unoptimisedRVFFelbos = list()\n",
        "\n",
        "for length in numOfBasis:\n",
        "  # unoptimisedRVFFelbos.append(models[1].elbo().numpy())\n",
        "  currentELBOS = []\n",
        "  print(\"Current number of basis functions: %3d\" % length)\n",
        "  for model in models:\n",
        "    currentELBOS.append(train(model, 10000, 10e-2))\n",
        "  elbos.append(currentELBOS)\n",
        "  models[0] = getNextVFFmodel(models[0], numAddedFeatures)\n",
        "  models[1] = getNextRVFFmodel(models[1], numAddedFeatures)\n",
        "\n",
        "elbos = transposeListOfLists(elbos)\n",
        "\n",
        "VFFelbos = elbos[0]\n",
        "RVFFelbos = elbos[1]\n",
        "\n",
        "plt.plot(numOfBasis, VFFelbos)\n",
        "plt.plot(numOfBasis, RVFFelbos)\n",
        "# plt.plot(numOfBasis, unoptimisedRVFFelbos)\n",
        "\n",
        "plt.show()"
      ],
      "execution_count": 20,
      "outputs": [
        {
          "output_type": "stream",
          "text": [
            "Current number of basis functions:  21\n",
            "\n",
            "===================================================================\n",
            "====================== TRAINING NEW MODEL =========================\n",
            "===================================================================\n",
            "\n",
            "tf.Tensor(-141.49217084218458, shape=(), dtype=float64)\n",
            "result:\n",
            "b'CONVERGENCE: REL_REDUCTION_OF_F_<=_FACTR*EPSMCH'\n",
            "tf.Tensor(-95.87516263220282, shape=(), dtype=float64)\n",
            "\n",
            "===================================================================\n",
            "====================== TRAINING NEW MODEL =========================\n",
            "===================================================================\n",
            "\n",
            "result:\n",
            "b'ABNORMAL_TERMINATION_IN_LNSRCH'\n",
            "tf.Tensor(-222.81675092135555, shape=(), dtype=float64)\n",
            "Current number of basis functions:  22\n",
            "\n",
            "===================================================================\n",
            "====================== TRAINING NEW MODEL =========================\n",
            "===================================================================\n",
            "\n",
            "tf.Tensor(-130.27977997335796, shape=(), dtype=float64)\n",
            "tf.Tensor(-87.50078742633156, shape=(), dtype=float64)\n",
            "result:\n",
            "b'CONVERGENCE: REL_REDUCTION_OF_F_<=_FACTR*EPSMCH'\n",
            "tf.Tensor(-87.50078742633156, shape=(), dtype=float64)\n",
            "\n",
            "===================================================================\n",
            "====================== TRAINING NEW MODEL =========================\n",
            "===================================================================\n",
            "\n",
            "result:\n",
            "b'ABNORMAL_TERMINATION_IN_LNSRCH'\n",
            "tf.Tensor(-222.702599391565, shape=(), dtype=float64)\n",
            "Current number of basis functions:  23\n",
            "\n",
            "===================================================================\n",
            "====================== TRAINING NEW MODEL =========================\n",
            "===================================================================\n",
            "\n",
            "tf.Tensor(-129.06263056187993, shape=(), dtype=float64)\n",
            "result:\n",
            "b'CONVERGENCE: REL_REDUCTION_OF_F_<=_FACTR*EPSMCH'\n",
            "tf.Tensor(-87.26539753105419, shape=(), dtype=float64)\n",
            "\n",
            "===================================================================\n",
            "====================== TRAINING NEW MODEL =========================\n",
            "===================================================================\n",
            "\n",
            "result:\n",
            "b'ABNORMAL_TERMINATION_IN_LNSRCH'\n",
            "tf.Tensor(-222.53276449827635, shape=(), dtype=float64)\n",
            "Current number of basis functions:  24\n",
            "\n",
            "===================================================================\n",
            "====================== TRAINING NEW MODEL =========================\n",
            "===================================================================\n",
            "\n",
            "tf.Tensor(-127.65773577617989, shape=(), dtype=float64)\n",
            "result:\n",
            "b'CONVERGENCE: REL_REDUCTION_OF_F_<=_FACTR*EPSMCH'\n",
            "tf.Tensor(-86.2032414695405, shape=(), dtype=float64)\n",
            "\n",
            "===================================================================\n",
            "====================== TRAINING NEW MODEL =========================\n",
            "===================================================================\n",
            "\n",
            "result:\n",
            "b'ABNORMAL_TERMINATION_IN_LNSRCH'\n",
            "tf.Tensor(-222.39311465855525, shape=(), dtype=float64)\n",
            "Current number of basis functions:  25\n",
            "\n",
            "===================================================================\n",
            "====================== TRAINING NEW MODEL =========================\n",
            "===================================================================\n",
            "\n",
            "tf.Tensor(-126.40138439017062, shape=(), dtype=float64)\n",
            "result:\n",
            "b'CONVERGENCE: REL_REDUCTION_OF_F_<=_FACTR*EPSMCH'\n",
            "tf.Tensor(-85.37697120205291, shape=(), dtype=float64)\n",
            "\n",
            "===================================================================\n",
            "====================== TRAINING NEW MODEL =========================\n",
            "===================================================================\n",
            "\n",
            "result:\n",
            "b'ABNORMAL_TERMINATION_IN_LNSRCH'\n",
            "tf.Tensor(-222.26846324106396, shape=(), dtype=float64)\n",
            "Current number of basis functions:  26\n",
            "\n",
            "===================================================================\n",
            "====================== TRAINING NEW MODEL =========================\n",
            "===================================================================\n",
            "\n",
            "tf.Tensor(-125.54744050972653, shape=(), dtype=float64)\n"
          ],
          "name": "stdout"
        },
        {
          "output_type": "error",
          "ename": "KeyboardInterrupt",
          "evalue": "ignored",
          "traceback": [
            "\u001b[0;31m---------------------------------------------------------------------------\u001b[0m",
            "\u001b[0;31mKeyboardInterrupt\u001b[0m                         Traceback (most recent call last)",
            "\u001b[0;32m<ipython-input-20-6dc2223715f2>\u001b[0m in \u001b[0;36m<module>\u001b[0;34m()\u001b[0m\n\u001b[1;32m    150\u001b[0m   \u001b[0mprint\u001b[0m\u001b[0;34m(\u001b[0m\u001b[0;34m\"Current number of basis functions: %3d\"\u001b[0m \u001b[0;34m%\u001b[0m \u001b[0mlength\u001b[0m\u001b[0;34m)\u001b[0m\u001b[0;34m\u001b[0m\u001b[0;34m\u001b[0m\u001b[0m\n\u001b[1;32m    151\u001b[0m   \u001b[0;32mfor\u001b[0m \u001b[0mmodel\u001b[0m \u001b[0;32min\u001b[0m \u001b[0mmodels\u001b[0m\u001b[0;34m:\u001b[0m\u001b[0;34m\u001b[0m\u001b[0;34m\u001b[0m\u001b[0m\n\u001b[0;32m--> 152\u001b[0;31m     \u001b[0mcurrentELBOS\u001b[0m\u001b[0;34m.\u001b[0m\u001b[0mappend\u001b[0m\u001b[0;34m(\u001b[0m\u001b[0mtrain\u001b[0m\u001b[0;34m(\u001b[0m\u001b[0mmodel\u001b[0m\u001b[0;34m,\u001b[0m \u001b[0;36m10000\u001b[0m\u001b[0;34m,\u001b[0m \u001b[0;36m10e-2\u001b[0m\u001b[0;34m)\u001b[0m\u001b[0;34m)\u001b[0m\u001b[0;34m\u001b[0m\u001b[0;34m\u001b[0m\u001b[0m\n\u001b[0m\u001b[1;32m    153\u001b[0m   \u001b[0melbos\u001b[0m\u001b[0;34m.\u001b[0m\u001b[0mappend\u001b[0m\u001b[0;34m(\u001b[0m\u001b[0mcurrentELBOS\u001b[0m\u001b[0;34m)\u001b[0m\u001b[0;34m\u001b[0m\u001b[0;34m\u001b[0m\u001b[0m\n\u001b[1;32m    154\u001b[0m   \u001b[0mmodels\u001b[0m\u001b[0;34m[\u001b[0m\u001b[0;36m0\u001b[0m\u001b[0;34m]\u001b[0m \u001b[0;34m=\u001b[0m \u001b[0mgetNextVFFmodel\u001b[0m\u001b[0;34m(\u001b[0m\u001b[0mmodels\u001b[0m\u001b[0;34m[\u001b[0m\u001b[0;36m0\u001b[0m\u001b[0;34m]\u001b[0m\u001b[0;34m,\u001b[0m \u001b[0mnumAddedFeatures\u001b[0m\u001b[0;34m)\u001b[0m\u001b[0;34m\u001b[0m\u001b[0;34m\u001b[0m\u001b[0m\n",
            "\u001b[0;32m<ipython-input-20-6dc2223715f2>\u001b[0m in \u001b[0;36mtrain\u001b[0;34m(model, maxIterPerModel, ELBOtolerance)\u001b[0m\n\u001b[1;32m     98\u001b[0m   \u001b[0mprint\u001b[0m\u001b[0;34m(\u001b[0m\u001b[0;34m\"===================================================================\\n\"\u001b[0m\u001b[0;34m)\u001b[0m\u001b[0;34m\u001b[0m\u001b[0;34m\u001b[0m\u001b[0m\n\u001b[1;32m     99\u001b[0m \u001b[0;34m\u001b[0m\u001b[0m\n\u001b[0;32m--> 100\u001b[0;31m   \u001b[0mresult\u001b[0m \u001b[0;34m=\u001b[0m \u001b[0moptimizer\u001b[0m\u001b[0;34m.\u001b[0m\u001b[0mminimize\u001b[0m\u001b[0;34m(\u001b[0m\u001b[0mloss\u001b[0m\u001b[0;34m(\u001b[0m\u001b[0mmodel\u001b[0m\u001b[0;34m)\u001b[0m\u001b[0;34m,\u001b[0m \u001b[0mmodel\u001b[0m\u001b[0;34m.\u001b[0m\u001b[0mtrainable_variables\u001b[0m\u001b[0;34m,\u001b[0m \u001b[0mstep_callback\u001b[0m\u001b[0;34m=\u001b[0m\u001b[0mcallback\u001b[0m\u001b[0;34m,\u001b[0m \u001b[0moptions\u001b[0m\u001b[0;34m=\u001b[0m\u001b[0mdict\u001b[0m\u001b[0;34m(\u001b[0m\u001b[0mmaxiter\u001b[0m\u001b[0;34m=\u001b[0m\u001b[0;36m1000\u001b[0m\u001b[0;34m,\u001b[0m \u001b[0mdisp\u001b[0m\u001b[0;34m=\u001b[0m\u001b[0;32mTrue\u001b[0m\u001b[0;34m)\u001b[0m\u001b[0;34m)\u001b[0m\u001b[0;34m\u001b[0m\u001b[0;34m\u001b[0m\u001b[0m\n\u001b[0m\u001b[1;32m    101\u001b[0m \u001b[0;34m\u001b[0m\u001b[0m\n\u001b[1;32m    102\u001b[0m   \u001b[0mprint\u001b[0m\u001b[0;34m(\u001b[0m\u001b[0;34m\"result:\"\u001b[0m\u001b[0;34m)\u001b[0m\u001b[0;34m\u001b[0m\u001b[0;34m\u001b[0m\u001b[0m\n",
            "\u001b[0;32m/usr/local/lib/python3.6/dist-packages/gpflow/optimizers/scipy.py\u001b[0m in \u001b[0;36mminimize\u001b[0;34m(self, closure, variables, method, step_callback, compile, **scipy_kwargs)\u001b[0m\n\u001b[1;32m     73\u001b[0m \u001b[0;34m\u001b[0m\u001b[0m\n\u001b[1;32m     74\u001b[0m         return scipy.optimize.minimize(\n\u001b[0;32m---> 75\u001b[0;31m             \u001b[0mfunc\u001b[0m\u001b[0;34m,\u001b[0m \u001b[0minitial_params\u001b[0m\u001b[0;34m,\u001b[0m \u001b[0mjac\u001b[0m\u001b[0;34m=\u001b[0m\u001b[0;32mTrue\u001b[0m\u001b[0;34m,\u001b[0m \u001b[0mmethod\u001b[0m\u001b[0;34m=\u001b[0m\u001b[0mmethod\u001b[0m\u001b[0;34m,\u001b[0m \u001b[0;34m**\u001b[0m\u001b[0mscipy_kwargs\u001b[0m\u001b[0;34m\u001b[0m\u001b[0;34m\u001b[0m\u001b[0m\n\u001b[0m\u001b[1;32m     76\u001b[0m         )\n\u001b[1;32m     77\u001b[0m \u001b[0;34m\u001b[0m\u001b[0m\n",
            "\u001b[0;32m/usr/local/lib/python3.6/dist-packages/scipy/optimize/_minimize.py\u001b[0m in \u001b[0;36mminimize\u001b[0;34m(fun, x0, args, method, jac, hess, hessp, bounds, constraints, tol, callback, options)\u001b[0m\n\u001b[1;32m    608\u001b[0m     \u001b[0;32melif\u001b[0m \u001b[0mmeth\u001b[0m \u001b[0;34m==\u001b[0m \u001b[0;34m'l-bfgs-b'\u001b[0m\u001b[0;34m:\u001b[0m\u001b[0;34m\u001b[0m\u001b[0;34m\u001b[0m\u001b[0m\n\u001b[1;32m    609\u001b[0m         return _minimize_lbfgsb(fun, x0, args, jac, bounds,\n\u001b[0;32m--> 610\u001b[0;31m                                 callback=callback, **options)\n\u001b[0m\u001b[1;32m    611\u001b[0m     \u001b[0;32melif\u001b[0m \u001b[0mmeth\u001b[0m \u001b[0;34m==\u001b[0m \u001b[0;34m'tnc'\u001b[0m\u001b[0;34m:\u001b[0m\u001b[0;34m\u001b[0m\u001b[0;34m\u001b[0m\u001b[0m\n\u001b[1;32m    612\u001b[0m         return _minimize_tnc(fun, x0, args, jac, bounds, callback=callback,\n",
            "\u001b[0;32m/usr/local/lib/python3.6/dist-packages/scipy/optimize/lbfgsb.py\u001b[0m in \u001b[0;36m_minimize_lbfgsb\u001b[0;34m(fun, x0, args, jac, bounds, disp, maxcor, ftol, gtol, eps, maxfun, maxiter, iprint, callback, maxls, **unknown_options)\u001b[0m\n\u001b[1;32m    343\u001b[0m             \u001b[0;31m# until the completion of the current minimization iteration.\u001b[0m\u001b[0;34m\u001b[0m\u001b[0;34m\u001b[0m\u001b[0;34m\u001b[0m\u001b[0m\n\u001b[1;32m    344\u001b[0m             \u001b[0;31m# Overwrite f and g:\u001b[0m\u001b[0;34m\u001b[0m\u001b[0;34m\u001b[0m\u001b[0;34m\u001b[0m\u001b[0m\n\u001b[0;32m--> 345\u001b[0;31m             \u001b[0mf\u001b[0m\u001b[0;34m,\u001b[0m \u001b[0mg\u001b[0m \u001b[0;34m=\u001b[0m \u001b[0mfunc_and_grad\u001b[0m\u001b[0;34m(\u001b[0m\u001b[0mx\u001b[0m\u001b[0;34m)\u001b[0m\u001b[0;34m\u001b[0m\u001b[0;34m\u001b[0m\u001b[0m\n\u001b[0m\u001b[1;32m    346\u001b[0m         \u001b[0;32melif\u001b[0m \u001b[0mtask_str\u001b[0m\u001b[0;34m.\u001b[0m\u001b[0mstartswith\u001b[0m\u001b[0;34m(\u001b[0m\u001b[0;34mb'NEW_X'\u001b[0m\u001b[0;34m)\u001b[0m\u001b[0;34m:\u001b[0m\u001b[0;34m\u001b[0m\u001b[0;34m\u001b[0m\u001b[0m\n\u001b[1;32m    347\u001b[0m             \u001b[0;31m# new iteration\u001b[0m\u001b[0;34m\u001b[0m\u001b[0;34m\u001b[0m\u001b[0;34m\u001b[0m\u001b[0m\n",
            "\u001b[0;32m/usr/local/lib/python3.6/dist-packages/scipy/optimize/lbfgsb.py\u001b[0m in \u001b[0;36mfunc_and_grad\u001b[0;34m(x)\u001b[0m\n\u001b[1;32m    293\u001b[0m     \u001b[0;32melse\u001b[0m\u001b[0;34m:\u001b[0m\u001b[0;34m\u001b[0m\u001b[0;34m\u001b[0m\u001b[0m\n\u001b[1;32m    294\u001b[0m         \u001b[0;32mdef\u001b[0m \u001b[0mfunc_and_grad\u001b[0m\u001b[0;34m(\u001b[0m\u001b[0mx\u001b[0m\u001b[0;34m)\u001b[0m\u001b[0;34m:\u001b[0m\u001b[0;34m\u001b[0m\u001b[0;34m\u001b[0m\u001b[0m\n\u001b[0;32m--> 295\u001b[0;31m             \u001b[0mf\u001b[0m \u001b[0;34m=\u001b[0m \u001b[0mfun\u001b[0m\u001b[0;34m(\u001b[0m\u001b[0mx\u001b[0m\u001b[0;34m,\u001b[0m \u001b[0;34m*\u001b[0m\u001b[0margs\u001b[0m\u001b[0;34m)\u001b[0m\u001b[0;34m\u001b[0m\u001b[0;34m\u001b[0m\u001b[0m\n\u001b[0m\u001b[1;32m    296\u001b[0m             \u001b[0mg\u001b[0m \u001b[0;34m=\u001b[0m \u001b[0mjac\u001b[0m\u001b[0;34m(\u001b[0m\u001b[0mx\u001b[0m\u001b[0;34m,\u001b[0m \u001b[0;34m*\u001b[0m\u001b[0margs\u001b[0m\u001b[0;34m)\u001b[0m\u001b[0;34m\u001b[0m\u001b[0;34m\u001b[0m\u001b[0m\n\u001b[1;32m    297\u001b[0m             \u001b[0;32mreturn\u001b[0m \u001b[0mf\u001b[0m\u001b[0;34m,\u001b[0m \u001b[0mg\u001b[0m\u001b[0;34m\u001b[0m\u001b[0;34m\u001b[0m\u001b[0m\n",
            "\u001b[0;32m/usr/local/lib/python3.6/dist-packages/scipy/optimize/optimize.py\u001b[0m in \u001b[0;36mfunction_wrapper\u001b[0;34m(*wrapper_args)\u001b[0m\n\u001b[1;32m    325\u001b[0m     \u001b[0;32mdef\u001b[0m \u001b[0mfunction_wrapper\u001b[0m\u001b[0;34m(\u001b[0m\u001b[0;34m*\u001b[0m\u001b[0mwrapper_args\u001b[0m\u001b[0;34m)\u001b[0m\u001b[0;34m:\u001b[0m\u001b[0;34m\u001b[0m\u001b[0;34m\u001b[0m\u001b[0m\n\u001b[1;32m    326\u001b[0m         \u001b[0mncalls\u001b[0m\u001b[0;34m[\u001b[0m\u001b[0;36m0\u001b[0m\u001b[0;34m]\u001b[0m \u001b[0;34m+=\u001b[0m \u001b[0;36m1\u001b[0m\u001b[0;34m\u001b[0m\u001b[0;34m\u001b[0m\u001b[0m\n\u001b[0;32m--> 327\u001b[0;31m         \u001b[0;32mreturn\u001b[0m \u001b[0mfunction\u001b[0m\u001b[0;34m(\u001b[0m\u001b[0;34m*\u001b[0m\u001b[0;34m(\u001b[0m\u001b[0mwrapper_args\u001b[0m \u001b[0;34m+\u001b[0m \u001b[0margs\u001b[0m\u001b[0;34m)\u001b[0m\u001b[0;34m)\u001b[0m\u001b[0;34m\u001b[0m\u001b[0;34m\u001b[0m\u001b[0m\n\u001b[0m\u001b[1;32m    328\u001b[0m \u001b[0;34m\u001b[0m\u001b[0m\n\u001b[1;32m    329\u001b[0m     \u001b[0;32mreturn\u001b[0m \u001b[0mncalls\u001b[0m\u001b[0;34m,\u001b[0m \u001b[0mfunction_wrapper\u001b[0m\u001b[0;34m\u001b[0m\u001b[0;34m\u001b[0m\u001b[0m\n",
            "\u001b[0;32m/usr/local/lib/python3.6/dist-packages/scipy/optimize/optimize.py\u001b[0m in \u001b[0;36m__call__\u001b[0;34m(self, x, *args)\u001b[0m\n\u001b[1;32m     63\u001b[0m     \u001b[0;32mdef\u001b[0m \u001b[0m__call__\u001b[0m\u001b[0;34m(\u001b[0m\u001b[0mself\u001b[0m\u001b[0;34m,\u001b[0m \u001b[0mx\u001b[0m\u001b[0;34m,\u001b[0m \u001b[0;34m*\u001b[0m\u001b[0margs\u001b[0m\u001b[0;34m)\u001b[0m\u001b[0;34m:\u001b[0m\u001b[0;34m\u001b[0m\u001b[0;34m\u001b[0m\u001b[0m\n\u001b[1;32m     64\u001b[0m         \u001b[0mself\u001b[0m\u001b[0;34m.\u001b[0m\u001b[0mx\u001b[0m \u001b[0;34m=\u001b[0m \u001b[0mnumpy\u001b[0m\u001b[0;34m.\u001b[0m\u001b[0masarray\u001b[0m\u001b[0;34m(\u001b[0m\u001b[0mx\u001b[0m\u001b[0;34m)\u001b[0m\u001b[0;34m.\u001b[0m\u001b[0mcopy\u001b[0m\u001b[0;34m(\u001b[0m\u001b[0;34m)\u001b[0m\u001b[0;34m\u001b[0m\u001b[0;34m\u001b[0m\u001b[0m\n\u001b[0;32m---> 65\u001b[0;31m         \u001b[0mfg\u001b[0m \u001b[0;34m=\u001b[0m \u001b[0mself\u001b[0m\u001b[0;34m.\u001b[0m\u001b[0mfun\u001b[0m\u001b[0;34m(\u001b[0m\u001b[0mx\u001b[0m\u001b[0;34m,\u001b[0m \u001b[0;34m*\u001b[0m\u001b[0margs\u001b[0m\u001b[0;34m)\u001b[0m\u001b[0;34m\u001b[0m\u001b[0;34m\u001b[0m\u001b[0m\n\u001b[0m\u001b[1;32m     66\u001b[0m         \u001b[0mself\u001b[0m\u001b[0;34m.\u001b[0m\u001b[0mjac\u001b[0m \u001b[0;34m=\u001b[0m \u001b[0mfg\u001b[0m\u001b[0;34m[\u001b[0m\u001b[0;36m1\u001b[0m\u001b[0;34m]\u001b[0m\u001b[0;34m\u001b[0m\u001b[0;34m\u001b[0m\u001b[0m\n\u001b[1;32m     67\u001b[0m         \u001b[0;32mreturn\u001b[0m \u001b[0mfg\u001b[0m\u001b[0;34m[\u001b[0m\u001b[0;36m0\u001b[0m\u001b[0;34m]\u001b[0m\u001b[0;34m\u001b[0m\u001b[0;34m\u001b[0m\u001b[0m\n",
            "\u001b[0;32m/usr/local/lib/python3.6/dist-packages/gpflow/optimizers/scipy.py\u001b[0m in \u001b[0;36m_eval\u001b[0;34m(x)\u001b[0m\n\u001b[1;32m     95\u001b[0m \u001b[0;34m\u001b[0m\u001b[0m\n\u001b[1;32m     96\u001b[0m         \u001b[0;32mdef\u001b[0m \u001b[0m_eval\u001b[0m\u001b[0;34m(\u001b[0m\u001b[0mx\u001b[0m\u001b[0;34m:\u001b[0m \u001b[0mnp\u001b[0m\u001b[0;34m.\u001b[0m\u001b[0mndarray\u001b[0m\u001b[0;34m)\u001b[0m \u001b[0;34m->\u001b[0m \u001b[0mTuple\u001b[0m\u001b[0;34m[\u001b[0m\u001b[0mnp\u001b[0m\u001b[0;34m.\u001b[0m\u001b[0mndarray\u001b[0m\u001b[0;34m,\u001b[0m \u001b[0mnp\u001b[0m\u001b[0;34m.\u001b[0m\u001b[0mndarray\u001b[0m\u001b[0;34m]\u001b[0m\u001b[0;34m:\u001b[0m\u001b[0;34m\u001b[0m\u001b[0;34m\u001b[0m\u001b[0m\n\u001b[0;32m---> 97\u001b[0;31m             \u001b[0mloss\u001b[0m\u001b[0;34m,\u001b[0m \u001b[0mgrad\u001b[0m \u001b[0;34m=\u001b[0m \u001b[0m_tf_eval\u001b[0m\u001b[0;34m(\u001b[0m\u001b[0mtf\u001b[0m\u001b[0;34m.\u001b[0m\u001b[0mconvert_to_tensor\u001b[0m\u001b[0;34m(\u001b[0m\u001b[0mx\u001b[0m\u001b[0;34m)\u001b[0m\u001b[0;34m)\u001b[0m\u001b[0;34m\u001b[0m\u001b[0;34m\u001b[0m\u001b[0m\n\u001b[0m\u001b[1;32m     98\u001b[0m             \u001b[0;32mreturn\u001b[0m \u001b[0mloss\u001b[0m\u001b[0;34m.\u001b[0m\u001b[0mnumpy\u001b[0m\u001b[0;34m(\u001b[0m\u001b[0;34m)\u001b[0m\u001b[0;34m.\u001b[0m\u001b[0mastype\u001b[0m\u001b[0;34m(\u001b[0m\u001b[0mnp\u001b[0m\u001b[0;34m.\u001b[0m\u001b[0mfloat64\u001b[0m\u001b[0;34m)\u001b[0m\u001b[0;34m,\u001b[0m \u001b[0mgrad\u001b[0m\u001b[0;34m.\u001b[0m\u001b[0mnumpy\u001b[0m\u001b[0;34m(\u001b[0m\u001b[0;34m)\u001b[0m\u001b[0;34m.\u001b[0m\u001b[0mastype\u001b[0m\u001b[0;34m(\u001b[0m\u001b[0mnp\u001b[0m\u001b[0;34m.\u001b[0m\u001b[0mfloat64\u001b[0m\u001b[0;34m)\u001b[0m\u001b[0;34m\u001b[0m\u001b[0;34m\u001b[0m\u001b[0m\n\u001b[1;32m     99\u001b[0m \u001b[0;34m\u001b[0m\u001b[0m\n",
            "\u001b[0;32m/usr/local/lib/python3.6/dist-packages/tensorflow/python/eager/def_function.py\u001b[0m in \u001b[0;36m__call__\u001b[0;34m(self, *args, **kwds)\u001b[0m\n\u001b[1;32m    562\u001b[0m     \u001b[0mcontext\u001b[0m\u001b[0;34m.\u001b[0m\u001b[0mensure_initialized\u001b[0m\u001b[0;34m(\u001b[0m\u001b[0;34m)\u001b[0m\u001b[0;34m\u001b[0m\u001b[0;34m\u001b[0m\u001b[0m\n\u001b[1;32m    563\u001b[0m     \u001b[0;32mif\u001b[0m \u001b[0mRUN_FUNCTIONS_EAGERLY\u001b[0m\u001b[0;34m:\u001b[0m\u001b[0;34m\u001b[0m\u001b[0;34m\u001b[0m\u001b[0m\n\u001b[0;32m--> 564\u001b[0;31m       \u001b[0;32mreturn\u001b[0m \u001b[0mself\u001b[0m\u001b[0;34m.\u001b[0m\u001b[0m_python_function\u001b[0m\u001b[0;34m(\u001b[0m\u001b[0;34m*\u001b[0m\u001b[0margs\u001b[0m\u001b[0;34m,\u001b[0m \u001b[0;34m**\u001b[0m\u001b[0mkwds\u001b[0m\u001b[0;34m)\u001b[0m\u001b[0;34m\u001b[0m\u001b[0;34m\u001b[0m\u001b[0m\n\u001b[0m\u001b[1;32m    565\u001b[0m \u001b[0;34m\u001b[0m\u001b[0m\n\u001b[1;32m    566\u001b[0m     \u001b[0mtracing_count\u001b[0m \u001b[0;34m=\u001b[0m \u001b[0mself\u001b[0m\u001b[0;34m.\u001b[0m\u001b[0m_get_tracing_count\u001b[0m\u001b[0;34m(\u001b[0m\u001b[0;34m)\u001b[0m\u001b[0;34m\u001b[0m\u001b[0;34m\u001b[0m\u001b[0m\n",
            "\u001b[0;32m/usr/local/lib/python3.6/dist-packages/gpflow/optimizers/scipy.py\u001b[0m in \u001b[0;36m_tf_eval\u001b[0;34m(x)\u001b[0m\n\u001b[1;32m     88\u001b[0m             \u001b[0mcls\u001b[0m\u001b[0;34m.\u001b[0m\u001b[0massign_tensors\u001b[0m\u001b[0;34m(\u001b[0m\u001b[0mvariables\u001b[0m\u001b[0;34m,\u001b[0m \u001b[0mvalues\u001b[0m\u001b[0;34m)\u001b[0m\u001b[0;34m\u001b[0m\u001b[0;34m\u001b[0m\u001b[0m\n\u001b[1;32m     89\u001b[0m \u001b[0;34m\u001b[0m\u001b[0m\n\u001b[0;32m---> 90\u001b[0;31m             \u001b[0mloss\u001b[0m\u001b[0;34m,\u001b[0m \u001b[0mgrads\u001b[0m \u001b[0;34m=\u001b[0m \u001b[0m_compute_loss_and_gradients\u001b[0m\u001b[0;34m(\u001b[0m\u001b[0mclosure\u001b[0m\u001b[0;34m,\u001b[0m \u001b[0mvariables\u001b[0m\u001b[0;34m)\u001b[0m\u001b[0;34m\u001b[0m\u001b[0;34m\u001b[0m\u001b[0m\n\u001b[0m\u001b[1;32m     91\u001b[0m             \u001b[0;32mreturn\u001b[0m \u001b[0mloss\u001b[0m\u001b[0;34m,\u001b[0m \u001b[0mcls\u001b[0m\u001b[0;34m.\u001b[0m\u001b[0mpack_tensors\u001b[0m\u001b[0;34m(\u001b[0m\u001b[0mgrads\u001b[0m\u001b[0;34m)\u001b[0m\u001b[0;34m\u001b[0m\u001b[0;34m\u001b[0m\u001b[0m\n\u001b[1;32m     92\u001b[0m \u001b[0;34m\u001b[0m\u001b[0m\n",
            "\u001b[0;32m/usr/local/lib/python3.6/dist-packages/gpflow/optimizers/scipy.py\u001b[0m in \u001b[0;36m_compute_loss_and_gradients\u001b[0;34m(loss_closure, variables)\u001b[0m\n\u001b[1;32m    150\u001b[0m         \u001b[0mtape\u001b[0m\u001b[0;34m.\u001b[0m\u001b[0mwatch\u001b[0m\u001b[0;34m(\u001b[0m\u001b[0mvariables\u001b[0m\u001b[0;34m)\u001b[0m\u001b[0;34m\u001b[0m\u001b[0;34m\u001b[0m\u001b[0m\n\u001b[1;32m    151\u001b[0m         \u001b[0mloss\u001b[0m \u001b[0;34m=\u001b[0m \u001b[0mloss_closure\u001b[0m\u001b[0;34m(\u001b[0m\u001b[0;34m)\u001b[0m\u001b[0;34m\u001b[0m\u001b[0;34m\u001b[0m\u001b[0m\n\u001b[0;32m--> 152\u001b[0;31m     \u001b[0mgrads\u001b[0m \u001b[0;34m=\u001b[0m \u001b[0mtape\u001b[0m\u001b[0;34m.\u001b[0m\u001b[0mgradient\u001b[0m\u001b[0;34m(\u001b[0m\u001b[0mloss\u001b[0m\u001b[0;34m,\u001b[0m \u001b[0mvariables\u001b[0m\u001b[0;34m)\u001b[0m\u001b[0;34m\u001b[0m\u001b[0;34m\u001b[0m\u001b[0m\n\u001b[0m\u001b[1;32m    153\u001b[0m     \u001b[0;32mreturn\u001b[0m \u001b[0mloss\u001b[0m\u001b[0;34m,\u001b[0m \u001b[0mgrads\u001b[0m\u001b[0;34m\u001b[0m\u001b[0;34m\u001b[0m\u001b[0m\n",
            "\u001b[0;32m/usr/local/lib/python3.6/dist-packages/tensorflow/python/eager/backprop.py\u001b[0m in \u001b[0;36mgradient\u001b[0;34m(self, target, sources, output_gradients, unconnected_gradients)\u001b[0m\n\u001b[1;32m   1046\u001b[0m         \u001b[0moutput_gradients\u001b[0m\u001b[0;34m=\u001b[0m\u001b[0moutput_gradients\u001b[0m\u001b[0;34m,\u001b[0m\u001b[0;34m\u001b[0m\u001b[0;34m\u001b[0m\u001b[0m\n\u001b[1;32m   1047\u001b[0m         \u001b[0msources_raw\u001b[0m\u001b[0;34m=\u001b[0m\u001b[0mflat_sources_raw\u001b[0m\u001b[0;34m,\u001b[0m\u001b[0;34m\u001b[0m\u001b[0;34m\u001b[0m\u001b[0m\n\u001b[0;32m-> 1048\u001b[0;31m         unconnected_gradients=unconnected_gradients)\n\u001b[0m\u001b[1;32m   1049\u001b[0m \u001b[0;34m\u001b[0m\u001b[0m\n\u001b[1;32m   1050\u001b[0m     \u001b[0;32mif\u001b[0m \u001b[0;32mnot\u001b[0m \u001b[0mself\u001b[0m\u001b[0;34m.\u001b[0m\u001b[0m_persistent\u001b[0m\u001b[0;34m:\u001b[0m\u001b[0;34m\u001b[0m\u001b[0;34m\u001b[0m\u001b[0m\n",
            "\u001b[0;32m/usr/local/lib/python3.6/dist-packages/tensorflow/python/eager/imperative_grad.py\u001b[0m in \u001b[0;36mimperative_grad\u001b[0;34m(tape, target, sources, output_gradients, sources_raw, unconnected_gradients)\u001b[0m\n\u001b[1;32m     75\u001b[0m       \u001b[0moutput_gradients\u001b[0m\u001b[0;34m,\u001b[0m\u001b[0;34m\u001b[0m\u001b[0;34m\u001b[0m\u001b[0m\n\u001b[1;32m     76\u001b[0m       \u001b[0msources_raw\u001b[0m\u001b[0;34m,\u001b[0m\u001b[0;34m\u001b[0m\u001b[0;34m\u001b[0m\u001b[0m\n\u001b[0;32m---> 77\u001b[0;31m       compat.as_str(unconnected_gradients.value))\n\u001b[0m",
            "\u001b[0;32m/usr/local/lib/python3.6/dist-packages/tensorflow/python/eager/backprop.py\u001b[0m in \u001b[0;36m_gradient_function\u001b[0;34m(op_name, attr_tuple, num_inputs, inputs, outputs, out_grads, skip_input_indices, forward_pass_name_scope)\u001b[0m\n\u001b[1;32m    124\u001b[0m \u001b[0;34m\u001b[0m\u001b[0m\n\u001b[1;32m    125\u001b[0m \u001b[0;34m\u001b[0m\u001b[0m\n\u001b[0;32m--> 126\u001b[0;31m def _gradient_function(op_name, attr_tuple, num_inputs, inputs, outputs,\n\u001b[0m\u001b[1;32m    127\u001b[0m                        out_grads, skip_input_indices, forward_pass_name_scope):\n\u001b[1;32m    128\u001b[0m   \"\"\"Calls the gradient function of the op.\n",
            "\u001b[0;31mKeyboardInterrupt\u001b[0m: "
          ]
        }
      ]
    },
    {
      "cell_type": "code",
      "metadata": {
        "id": "93mNFsbjndtc",
        "colab_type": "code",
        "colab": {
          "base_uri": "https://localhost:8080/",
          "height": 265
        },
        "outputId": "c30d57cd-331a-479f-e0cb-c1f44cc11bc7"
      },
      "source": [
        "start = 0\n",
        "\n",
        "plt.plot(numOfBasis[start:], VFFelbos[start:])\n",
        "plt.plot(numOfBasis[start:], RVFFelbos[start:])\n",
        "# plt.plot(numOfBasis[start:], unoptimisedRVFFelbos[start:])\n",
        "plt.legend([\"VFF\", \"RVFF\"])\n",
        "plt.show()"
      ],
      "execution_count": 19,
      "outputs": [
        {
          "output_type": "display_data",
          "data": {
            "image/png": "[encoded data removed]",
            "text/plain": [
              "<Figure size 432x288 with 1 Axes>"
            ]
          },
          "metadata": {
            "tags": [],
            "needs_background": "light"
          }
        }
      ]
    }
  ]
}