{
  "nbformat": 4,
  "nbformat_minor": 0,
  "metadata": {
    "colab": {
      "name": "VFF_and_RFF_1D.ipynb",
      "provenance": [],
      "authorship_tag": "ABX9TyPbPzFoWCwAlgyP8pJksoA/",
      "include_colab_link": true
    },
    "kernelspec": {
      "name": "python3",
      "display_name": "Python 3"
    }
  },
  "cells": [
    {
      "cell_type": "markdown",
      "metadata": {
        "id": "view-in-github",
        "colab_type": "text"
      },
      "source": [
        "<a href=\"https://colab.research.google.com/github/AndreasICL/MSc_Project/blob/master/code/VFF_and_RFF_1D.ipynb\" target=\"_parent\"><img src=\"https://colab.research.google.com/assets/colab-badge.svg\" alt=\"Open In Colab\"/></a>"
      ]
    },
    {
      "cell_type": "code",
      "metadata": {
        "id": "fW-B5syh75r4",
        "colab_type": "code",
        "colab": {}
      },
      "source": [
        "!pip install tensorflow==2.2.0 > /dev/null\n",
        "!pip install gpflow > /dev/null\n",
        "!pip install gast > /dev/null\n",
        "!pip install observations > /dev/null"
      ],
      "execution_count": 1,
      "outputs": []
    },
    {
      "cell_type": "code",
      "metadata": {
        "id": "u3cwbeHz8Exr",
        "colab_type": "code",
        "colab": {}
      },
      "source": [
        "from typing import Tuple, Optional\n",
        "import tempfile\n",
        "import pathlib\n",
        "\n",
        "import datetime\n",
        "import io\n",
        "import matplotlib.pyplot as plt\n",
        "\n",
        "import numpy as np\n",
        "import tensorflow as tf\n",
        "import gpflow\n",
        "\n",
        "import matplotlib.pyplot as plt\n",
        "\n",
        "from gpflow.config import default_float, default_jitter\n",
        "from gpflow.ci_utils import ci_niter\n",
        "from gpflow.utilities import to_default_float\n",
        "from gpflow.base import TensorLike\n",
        "from gpflow import covariances as cov\n",
        "from gpflow import kullback_leiblers as kl\n",
        "from gpflow.covariances import Kuu\n",
        "from gpflow.covariances import Kuf\n",
        "\n",
        "from __future__ import absolute_import\n",
        "from __future__ import division\n",
        "from __future__ import print_function\n",
        "\n",
        "import csv\n",
        "import numpy as np\n",
        "import os\n",
        "import sys\n",
        "from shutil import copyfile, rmtree\n",
        "import pickle \n",
        "\n",
        "import observations\n",
        "\n",
        "import warnings\n",
        "\n",
        "warnings.filterwarnings(\"ignore\")\n",
        "sys.path.insert(0,'./VFF/')\n",
        "\n",
        "import VFF_IV\n",
        "from RVFF_IV_1D import RVFF_1D"
      ],
      "execution_count": 2,
      "outputs": []
    },
    {
      "cell_type": "markdown",
      "metadata": {
        "id": "y5FxoiegAZe1",
        "colab_type": "text"
      },
      "source": [
        "Make `tensorboard` work inside notebook:"
      ]
    },
    {
      "cell_type": "code",
      "metadata": {
        "id": "YmCOr2hs8355",
        "colab_type": "code",
        "colab": {}
      },
      "source": [
        "output_logdir = \"/tmp/tensorboard\"\n",
        "\n",
        "!rm -rf \"{output_logdir}\"\n",
        "!mkdir \"{output_logdir}\"\n",
        "\n",
        "%load_ext tensorboard\n",
        "%matplotlib inline\n",
        "\n",
        "\n",
        "def enumerated_logdir(_logdir_id: int = [0]):\n",
        "    logdir = pathlib.Path(output_logdir, str(_logdir_id[0]))\n",
        "    _logdir_id[0] += 1\n",
        "    return str(logdir)"
      ],
      "execution_count": 3,
      "outputs": []
    },
    {
      "cell_type": "markdown",
      "metadata": {
        "id": "8A27JdlvAZfE",
        "colab_type": "text"
      },
      "source": [
        "Set up random seeds and default float for `gpflow` tensors:"
      ]
    },
    {
      "cell_type": "code",
      "metadata": {
        "id": "flnWsQF1_h3W",
        "colab_type": "code",
        "colab": {}
      },
      "source": [
        "gpflow.config.set_default_float(np.float64)\n",
        "np.random.seed(0)\n",
        "tf.random.set_seed(0)"
      ],
      "execution_count": 4,
      "outputs": []
    },
    {
      "cell_type": "markdown",
      "metadata": {
        "id": "eJsA3bUEAZfP",
        "colab_type": "text"
      },
      "source": [
        "## Loading the snelson dataset"
      ]
    },
    {
      "cell_type": "code",
      "metadata": {
        "id": "uZDkEmxQEqqN",
        "colab_type": "code",
        "colab": {}
      },
      "source": [
        "'''\n",
        "  This code was copied from https://github.com/edwardlib/observations/blob/master/observations/snelson1d.py\n",
        "  on 01/05/2020\n",
        "'''\n",
        "\n",
        "from observations.util import maybe_download_and_extract\n",
        "\n",
        "\n",
        "def snelson1d(path):\n",
        "  \"\"\"Load Edward Snelson's 1d regression data set [@snelson2006fitc].\n",
        "  It contains 200 examples of a few oscillations of an example function. It has\n",
        "  seen extensive use as a toy dataset for illustrating qualitative behaviour of\n",
        "  Gaussian process approximations.\n",
        "  Args:\n",
        "    path: str.\n",
        "      Path to directory which either stores file or otherwise file will be\n",
        "      downloaded and extracted there. Filenames are `snelson_train_*`.\n",
        "  Returns:\n",
        "    Tuple of two np.darray `inputs` and `outputs` with 200 rows and 1 column.\n",
        "  \"\"\"\n",
        "  path = os.path.expanduser(path)\n",
        "  inputs_path = os.path.join(path, 'snelson_train_inputs')\n",
        "  outputs_path = os.path.join(path, 'snelson_train_outputs')\n",
        "\n",
        "  # Contains all source as well. We just need the data.\n",
        "  url = 'http://www.gatsby.ucl.ac.uk/~snelson/SPGP_dist.zip'\n",
        "\n",
        "  if not (os.path.exists(inputs_path) and os.path.exists(outputs_path)):\n",
        "    maybe_download_and_extract(path, url)\n",
        "\n",
        "    # Copy the required data\n",
        "    copyfile(os.path.join(path, \"SPGP_dist\", \"train_inputs\"), inputs_path)\n",
        "    copyfile(os.path.join(path, \"SPGP_dist\", \"train_outputs\"), outputs_path)\n",
        "\n",
        "    # Clean up everything else\n",
        "    rmtree(os.path.join(path, \"SPGP_dist\"))\n",
        "    os.remove(os.path.join(path, \"SPGP_dist.zip\"))\n",
        "\n",
        "  X = np.loadtxt(os.path.join(inputs_path))[:, None]\n",
        "  Y = np.loadtxt(os.path.join(outputs_path))[:, None]\n",
        "\n",
        "  return X, Y"
      ],
      "execution_count": 5,
      "outputs": []
    },
    {
      "cell_type": "code",
      "metadata": {
        "id": "5cwgLNj8Hw2h",
        "colab_type": "code",
        "colab": {}
      },
      "source": [
        "X, Y = snelson1d(\".\")\n",
        "num_train_data = X.shape[0]"
      ],
      "execution_count": 6,
      "outputs": []
    },
    {
      "cell_type": "markdown",
      "metadata": {
        "id": "Zg8Cz-6OAZfb",
        "colab_type": "text"
      },
      "source": [
        "Working with TensorFlow Datasets is an efficient way to rapidly shuffle, iterate, and batch from data. For `prefetch` size we use `tf.data.experimental.AUTOTUNE` as recommended by TensorFlow [guidelines](https://www.tensorflow.org/guide/data_performance)."
      ]
    },
    {
      "cell_type": "code",
      "metadata": {
        "id": "DUfgEr7aAZfc",
        "colab_type": "code",
        "colab": {
          "base_uri": "https://localhost:8080/",
          "height": 69
        },
        "outputId": "1e3dd2b1-a543-4a9e-e0bc-4caecda986c7"
      },
      "source": [
        "train_dataset = tf.data.Dataset.from_tensor_slices((X, Y))\n",
        "\n",
        "batch_size = 32\n",
        "num_features = 10\n",
        "prefetch_size = tf.data.experimental.AUTOTUNE\n",
        "shuffle_buffer_size = num_train_data // 2\n",
        "num_batches_per_epoch = num_train_data // batch_size\n",
        "\n",
        "original_train_dataset = train_dataset\n",
        "train_dataset = (\n",
        "    train_dataset.repeat()\n",
        "    .prefetch(prefetch_size)\n",
        "    .shuffle(buffer_size=shuffle_buffer_size)\n",
        "    .batch(batch_size)\n",
        ")\n",
        "\n",
        "print(f\"prefetch_size={prefetch_size}\")\n",
        "print(f\"shuffle_buffer_size={shuffle_buffer_size}\")\n",
        "print(f\"num_batches_per_epoch={num_batches_per_epoch}\")"
      ],
      "execution_count": 7,
      "outputs": [
        {
          "output_type": "stream",
          "text": [
            "prefetch_size=-1\n",
            "shuffle_buffer_size=100\n",
            "num_batches_per_epoch=6\n"
          ],
          "name": "stdout"
        }
      ]
    },
    {
      "cell_type": "code",
      "metadata": {
        "id": "Cw0x2y48cvDj",
        "colab_type": "code",
        "colab": {}
      },
      "source": [
        "from gpflow.conditionals import conditional\n",
        "\n",
        "def plot(Xtest, models):\n",
        "\n",
        "  for (mean, std, meanColour, stdColour) in models:\n",
        "    plt.plot(Xtest, mean, color=meanColour)\n",
        "\n",
        "    plt.plot(Xtest, mean + std, color=stdColour)\n",
        "    plt.plot(Xtest, mean - std, color=stdColour)\n",
        "    plt.fill_between(np.squeeze(Xtest), np.squeeze(mean + std), np.squeeze(mean - std), color=stdColour, alpha=0.2)\n",
        "  \n",
        "\n",
        "  plt.scatter(X, Y, s=15)\n",
        "\n",
        "  plt.show()\n",
        "\n"
      ],
      "execution_count": 8,
      "outputs": []
    },
    {
      "cell_type": "markdown",
      "metadata": {
        "id": "x39wkv8EU6CT",
        "colab_type": "text"
      },
      "source": [
        "#Model Definition:\n",
        "\n",
        "###We use exact inference first"
      ]
    },
    {
      "cell_type": "code",
      "metadata": {
        "id": "H_4SWCm5VV8H",
        "colab_type": "code",
        "colab": {
          "base_uri": "https://localhost:8080/",
          "height": 69
        },
        "outputId": "d202150a-d161-4e62-97ee-cec35df325ba"
      },
      "source": [
        "\n",
        "kernel = gpflow.kernels.Matern12(variance=0.5, lengthscales=0.5)\n",
        "likelihood = gpflow.likelihoods.Gaussian()\n",
        "\n",
        "exactModel = gpflow.models.GPR( (X, Y), kernel )\n",
        "\n",
        "gpflow.utilities.set_trainable(kernel.lengthscales, True)\n",
        "gpflow.utilities.set_trainable(kernel.variance, True)\n",
        "\n",
        "optimizer = tf.optimizers.Adam(learning_rate=0.01)\n",
        "\n",
        "@tf.function\n",
        "def loss_closure():\n",
        "  return -exactModel.log_marginal_likelihood()\n",
        "\n",
        "optimizer = gpflow.optimizers.Scipy()\n",
        "result = optimizer.minimize(loss_closure, exactModel.trainable_variables, options=dict(maxiter=1000, disp=True))\n",
        "\n",
        "print(\"result:\")\n",
        "print(result.message)\n",
        "\n",
        "print(exactModel.log_marginal_likelihood())\n",
        "\n",
        "Xtest = np.arange(0.0, 6.0, 0.01).reshape(-1, 1)\n",
        "\n",
        "# for i in range(1000):\n",
        "#   if i % 200 == 0:\n",
        "#     print(i)\n",
        "#     print(\"kernel lengthscale: %2.2f\" % kernel.lengthscales.read_value())\n",
        "#     print(\"kernel variance: %2.2f\" % kernel.variance.read_value())\n",
        "#     print(\"Exact model log p(y): %2.2f\" % exactModel.log_marginal_likelihood() )\n",
        "#     print(\"=\" * 70)\n",
        "\n",
        "#   optimizer.minimize( loss=loss_closure, var_list=exactModel.trainable_variables )\n",
        "\n",
        "# print(\"Exact model log p(y): %2.2f\" % exactModel.log_marginal_likelihood() )"
      ],
      "execution_count": 9,
      "outputs": [
        {
          "output_type": "stream",
          "text": [
            "result:\n",
            "b'CONVERGENCE: REL_REDUCTION_OF_F_<=_FACTR*EPSMCH'\n",
            "tf.Tensor(-68.30588480647597, shape=(), dtype=float64)\n"
          ],
          "name": "stdout"
        }
      ]
    },
    {
      "cell_type": "markdown",
      "metadata": {
        "id": "JurwmO73VKF5",
        "colab_type": "text"
      },
      "source": [
        "###We now use approximate inference with Random Variational Fourier Features"
      ]
    },
    {
      "cell_type": "code",
      "metadata": {
        "id": "J1ekb08iAZfo",
        "colab_type": "code",
        "colab": {
          "base_uri": "https://localhost:8080/",
          "height": 1000
        },
        "outputId": "2ec5fece-cb14-4e55-9761-632d134bc4c1"
      },
      "source": [
        "from scipy.optimize import fmin_l_bfgs_b\n",
        "from tensorflow_probability import optimizer\n",
        "from tensorflow_probability import math\n",
        "import copy\n",
        "\n",
        "tf.config.experimental_run_functions_eagerly(True)\n",
        "\n",
        "M = 100\n",
        "inducing_variable = RVFF_1D( a=0, b=6, M=M, jitter=default_jitter() )\n",
        "\n",
        "kernel2 = gpflow.kernels.Matern12(variance=1.0, lengthscales=0.7)\n",
        "\n",
        "model = gpflow.models.SGPR(\n",
        "    (X, Y), kernel=kernel2, inducing_variable=inducing_variable\n",
        ")\n",
        "\n",
        "# optimizer = tf.optimizers.Adam(learning_rate=0.01)\n",
        "\n",
        "gpflow.set_trainable(kernel2.variance, True)\n",
        "gpflow.set_trainable(kernel2.lengthscales, True)\n",
        "gpflow.set_trainable(model.likelihood, True)\n",
        "gpflow.set_trainable(model.inducing_variable.a, False)\n",
        "gpflow.set_trainable(model.inducing_variable.b, False)\n",
        "gpflow.set_trainable(model.inducing_variable.phis, True)\n",
        "gpflow.set_trainable(model.inducing_variable.omegas, True)\n",
        "\n",
        "@tf.function\n",
        "def loss_closure():\n",
        "  return -model.elbo()\n",
        "\n",
        "def callback(step, variables, values):\n",
        "  if step % 20 == 0:\n",
        "    mean, std = model.predict_f(Xtest, False, False)\n",
        "    std = tf.sqrt(std)\n",
        "    plot(Xtest, [(mean, std, 'r', 'c')])\n",
        "    print(model.elbo())\n",
        "\n",
        "# def callback(values):\n",
        "  # print(model.elbo())\n",
        "  # print(model.inducing_variable.omegas.numpy())\n",
        "  # pass\n",
        "\n",
        "def assignParams(model, params):\n",
        "  index = 0\n",
        "  for var in model.trainable_variables:\n",
        "    \n",
        "    if var.numpy().shape == ():\n",
        "      param = params[index]\n",
        "      index += 1\n",
        "    else:\n",
        "      param = params[index:index + len(var.numpy())]\n",
        "      index += len(var.numpy())\n",
        "    \n",
        "    var.assign(param)\n",
        "\n",
        "# def evaluateELBO(params):\n",
        "#   newModel = copy.deepcopy(model)\n",
        "#   assignParams(newModel, params)\n",
        "#   with tf.GradientTape() as tape:\n",
        "#     tape.watch(newModel.trainable_variables)\n",
        "#     loss = newModel.elbo()\n",
        "#   return loss\n",
        "\n",
        "@tf.function\n",
        "def loss(parameters):\n",
        "  \n",
        "  assignParams(model, parameters)\n",
        "\n",
        "  with tf.GradientTape() as tape:\n",
        "    tape.watch(model.trainable_variables)\n",
        "    loss = -model.elbo()\n",
        "  grad2 = tape.gradient(loss, model.trainable_variables)\n",
        "  \n",
        "  # print(model.inducing_variable.omegas.numpy())\n",
        "  # print(grad2[0])\n",
        "\n",
        "  return loss, np.array(flattenParams(grad2), dtype=default_float())\n",
        "\n",
        "# def grad_function(variables):\n",
        "#   variables = tf.constant(variables)\n",
        "#   with tf.GradientTape(watch_accessed_variables=False) as tape:\n",
        "#     tape.watch(variables)\n",
        "#     loss_ = loss(variables)\n",
        "#   # vars = model.trainable_variables\n",
        "#   grads = tape.gradient(loss_, variables)\n",
        "\n",
        "#   print(\"grads:\")\n",
        "#   print(grads)  \n",
        "\n",
        "#   return loss_, grads\n",
        "\n",
        "def flattenParams(params):\n",
        "  params = list(params)\n",
        "  for i, _ in enumerate(params):\n",
        "    params[i] = np.array(params[i].numpy(), dtype=default_float()).reshape(-1)\n",
        "  \n",
        "  result = np.concatenate(params)\n",
        "  \n",
        "  return tf.constant(result)\n",
        "\n",
        "# print(model.elbo())\n",
        "mean, std = model.predict_f(Xtest, False, False)\n",
        "std = tf.sqrt(std)\n",
        "plot(Xtest, [(mean, std, 'r', 'c')])\n",
        "print(model.elbo())\n",
        "\n",
        "# optimizer = gpflow.optimizers.Scipy()\n",
        "# result = optimizer.minimize(loss_closure, model.trainable_variables, method='L-BFGS-B', step_callback=callback, options=dict(maxiter=200, disp=True))\n",
        "# result = optimizer.lbfgs_minimize(value_and_gradients_function=loss, tolerance=1e-5, initial_position=flattenParams(model.trainable_variables), max_iterations=100)\n",
        "# x, f, d = fmin_l_bfgs_b(func=loss, x0=flattenParams(model.trainable_variables), callback=callback, maxiter=50, disp=1, maxls=20)\n",
        "\n",
        "# print(\"result:\")\n",
        "# print(result.message)\n",
        "# print(model.elbo())\n",
        "\n",
        "x, f, d = fmin_l_bfgs_b(func=loss, x0=flattenParams(model.trainable_variables),  maxiter=5000, disp=1, maxls=2000)\n",
        "\n",
        "print(\"result:\")\n",
        "print(d)\n",
        "print(model.elbo())\n",
        "\n",
        "# print(model.elbo())\n",
        "# minimize(loss, model.trainable_variables, tol=1e-3, method=\"BFGS\", options={'maxiter':1000, 'disp':True} )\n",
        "# print(model.elbo())\n",
        "\n",
        "# prevElbo = 1000\n",
        "\n",
        "# for i in range(10000):\n",
        "#   if i % 200 == 0:\n",
        "#     elbo = model.elbo()    \n",
        "#     print(\"Iteration: %2d\" % i)\n",
        "#     print(\"kernel lengthscale: %2.2f\" % kernel2.lengthscales.read_value())\n",
        "#     print(\"kernel variance: %2.2f\" % kernel2.variance.read_value())\n",
        "#     print(\"ELBO: %2.2f\" % elbo )\n",
        "#     print(\"=\" * 70)\n",
        "\n",
        "    # if tf.abs(prevElbo - elbo) < 1e-2:\n",
        "    #   break\n",
        "\n",
        "    # prevElbo = elbo\n",
        "\n",
        "  # optimizer.minimize( closure=loss_closure, tol=1e-2, variables=model.trainable_variables, method='BFGS', options=dict( disp=True ) )\n",
        "  # optimizer.minimize( loss=loss_closure, var_list=model.trainable_variables )\n",
        "\n",
        "\n",
        "mean, std = model.predict_f(Xtest, False, False)\n",
        "std = tf.sqrt(std)\n",
        "plot(Xtest, [(mean, std, 'r', 'c')])\n",
        "\n",
        "print( \"Variational Model ELBO is %3.2f\" % model.elbo() )"
      ],
      "execution_count": 43,
      "outputs": [
        {
          "output_type": "display_data",
          "data": {
            "image/png": "[encoded data removed]",
            "text/plain": [
              "<Figure size 432x288 with 1 Axes>"
            ]
          },
          "metadata": {
            "tags": [],
            "needs_background": "light"
          }
        },
        {
          "output_type": "stream",
          "text": [
            "tf.Tensor(-220.00343759320594, shape=(), dtype=float64)\n",
            "result:\n",
            "{'grad': array([ 2.44475362e+01, -3.19483735e+01, -1.53549007e+07, -1.60099160e+06,\n",
            "       -6.42656818e+03,  5.28217008e+02,  1.58086037e-01, -1.09256768e+00,\n",
            "        6.42551137e+06, -5.00474093e-01,  8.90151275e+01,  8.23446078e-02,\n",
            "        1.37749823e+00, -1.45958084e+02,  2.37102066e-01, -7.75358532e-02,\n",
            "       -1.09250573e+00,  1.19940302e+04,  4.19787207e+03,  3.14529442e+04,\n",
            "       -5.43024294e+01, -2.95435233e+03, -1.45426903e+00, -4.94152866e+02,\n",
            "       -7.88887566e+06,  2.24997753e+04, -1.41237397e+07, -2.77662034e+04,\n",
            "        1.47170049e+06, -4.62369446e+01, -5.78013121e+03, -3.88515677e+01,\n",
            "        1.62940486e+07,  4.22461027e+00,  2.98254542e+03,  7.73793759e-01,\n",
            "       -1.16469613e+06, -3.06847903e+04,  1.69316233e+06,  2.57491388e+03,\n",
            "       -2.07396641e+03, -1.39392376e+03, -2.41048847e+04, -7.16386170e-01,\n",
            "        6.34667126e+04,  1.00944938e+02,  2.94313491e+04,  1.43667057e-01,\n",
            "       -1.13629875e+01,  1.53860281e+07, -8.63736303e+01,  1.77188856e+05,\n",
            "       -7.85672256e-02, -2.75952797e+03, -5.59895086e-01,  1.07395126e+02,\n",
            "       -1.45123577e-01,  6.04528664e+03, -7.17772023e+00, -4.30880244e+01,\n",
            "       -1.84075005e+04, -6.06894076e+04, -7.36330906e-01,  9.90800125e+01,\n",
            "       -2.53232726e+00,  1.83092853e-03, -1.21583072e+00, -5.02406233e-01,\n",
            "        4.38578077e-01,  4.98512886e-01,  6.56011845e-02, -4.23598684e+06,\n",
            "       -2.79695064e+01, -1.27277292e+04,  1.20706292e+03, -8.02044133e+01,\n",
            "       -4.20713044e+03,  5.10940447e+03,  3.05168753e-01,  3.24731473e+00,\n",
            "        6.16057749e+02, -6.85378406e-02,  9.24786085e+00, -6.14452954e+02,\n",
            "       -2.01451206e+01,  7.02548442e-02,  6.43334009e+00,  2.54655648e+00,\n",
            "       -8.91625465e-01, -1.54406909e+02,  1.10954694e-02, -4.22081449e+05,\n",
            "        1.49422668e+02,  3.20506063e+05, -3.36791051e+00,  3.03488141e+06,\n",
            "        9.62778094e-02,  1.46513206e+03, -1.40427680e+01,  5.92182496e+03,\n",
            "        2.84189253e-01,  2.09077079e-02, -1.86524059e+00,  2.72262066e+00,\n",
            "        3.62266797e-01,  6.12389610e-02,  8.76396776e-01, -1.01171821e-03,\n",
            "       -4.21830175e-01,  3.37378727e-02,  1.78889593e-01, -4.28432838e-02,\n",
            "       -1.46768432e-02, -2.14042884e+00, -3.99646692e-01, -9.53004419e-02,\n",
            "       -1.23271184e-02,  1.31403362e-02,  2.87889586e-01, -3.22339611e+00,\n",
            "        1.57655169e-01,  2.08622268e-02, -1.84460388e-01, -4.50930107e-01,\n",
            "        1.31852103e+00, -1.10389691e+00, -3.63170983e+00,  6.05413401e-01,\n",
            "        1.43455209e-02, -1.18035294e+00,  8.18836549e-02,  1.97009605e-02,\n",
            "        5.73351898e+00,  1.18568292e-01, -1.90263193e-02,  6.75480765e-03,\n",
            "        1.57716722e-01,  5.09098104e-01, -3.69086541e+00, -4.82627820e+00,\n",
            "        8.41789025e+00, -4.27378297e-03,  1.50529815e+00, -1.04783647e-01,\n",
            "       -4.30065153e-01,  2.25045058e+00, -1.97169053e-01,  3.75823983e-01,\n",
            "        2.83141800e-02,  2.25768007e+00, -1.81648550e-01, -1.70333728e+00,\n",
            "        1.44389052e+00,  2.02437870e+00,  2.91533654e-01, -1.38803409e-01,\n",
            "       -3.90739651e-02,  2.75812015e-01, -3.25087797e-04, -2.94815199e-02,\n",
            "       -3.17492621e-01, -4.48679196e-01, -1.94283821e+00,  9.41759619e-03,\n",
            "        3.38942046e-03, -4.97478762e-01, -1.28223093e-01, -1.31974997e-02,\n",
            "        8.63260279e-03,  6.17354450e-05,  5.43494954e-03,  1.24474626e+00,\n",
            "       -1.76194032e-01, -5.23401430e-01, -2.41505181e-04,  1.80185439e-02,\n",
            "        1.56704427e+01, -9.41001639e-02, -7.01785429e-01, -5.81395320e-02,\n",
            "        2.04560167e-01, -4.42075869e-02,  9.31777232e-02, -1.25612139e-01,\n",
            "        7.77392877e-01, -7.37888076e-03, -1.11748925e+00,  1.12069059e-01,\n",
            "        6.60713411e-02, -2.08574174e+00, -2.02597750e-02,  3.35869318e-02,\n",
            "        2.62011747e+00, -3.68628499e-02, -5.90249759e-02, -3.96614799e-01,\n",
            "       -2.41247325e-01, -1.34553185e+01, -2.21860284e-02, -5.54235214e-02,\n",
            "       -6.13217773e+00,  6.53151291e+00,  4.97559453e+01]), 'task': b'CONVERGENCE: REL_REDUCTION_OF_F_<=_FACTR*EPSMCH', 'funcalls': 28, 'nit': 1, 'warnflag': 0}\n",
            "tf.Tensor(-220.00343755061397, shape=(), dtype=float64)\n"
          ],
          "name": "stdout"
        },
        {
          "output_type": "display_data",
          "data": {
            "image/png": "[encoded data removed]",
            "text/plain": [
              "<Figure size 432x288 with 1 Axes>"
            ]
          },
          "metadata": {
            "tags": [],
            "needs_background": "light"
          }
        },
        {
          "output_type": "stream",
          "text": [
            "Variational Model ELBO is -220.00\n"
          ],
          "name": "stdout"
        }
      ]
    },
    {
      "cell_type": "code",
      "metadata": {
        "id": "bGNoVizs0lLs",
        "colab_type": "code",
        "colab": {}
      },
      "source": [
        "with open('./model', 'wb') as fp:\n",
        "    # pickle.dump(model.trainable_parameters, fp)\n",
        "    pickle.dump(inducing_variable.omegas, fp)\n",
        "    pickle.dump(inducing_variable.phis, fp)\n",
        "    pickle.dump(model.likelihood.variance, fp)"
      ],
      "execution_count": null,
      "outputs": []
    },
    {
      "cell_type": "code",
      "metadata": {
        "id": "FCnyqPZRB0md",
        "colab_type": "code",
        "colab": {}
      },
      "source": [
        "mean, std = model.predict_f(Xtest, False, False)\n",
        "std = tf.sqrt(std)\n",
        "plot(Xtest, [(mean, std, 'r', 'c')])\n",
        "\n",
        "print(\"ELBO of SGPR model is %4.2f\" % model.elbo().numpy())\n",
        "print(\"log( p( Y | θ ) ) of exact GP is %4.2f\" % exactModel.log_marginal_likelihood().numpy())"
      ],
      "execution_count": null,
      "outputs": []
    },
    {
      "cell_type": "code",
      "metadata": {
        "id": "pmNm3Mr1Eofb",
        "colab_type": "code",
        "colab": {}
      },
      "source": [
        "def testFeatureequivalence(tol):\n",
        "  VFFlength = 15\n",
        "  RVFFlength = 2 * VFFlength - 1\n",
        "\n",
        "  VFFinducingVar = VFF_IV.FourierFeatures1D(0, 6, VFFlength)\n",
        "  VFFmodel = gpflow.models.SGPR((X, Y), kernel2, VFFinducingVar)\n",
        "\n",
        "  RVFFinducingVar = RVFF_1D(0, 6, RVFFlength)\n",
        "\n",
        "  RVFFfrequencies = tf.concat( ( VFFinducingVar.omegas, tf.reshape( tf.gather( VFFinducingVar.omegas, tf.where( VFFinducingVar.omegas != 0.0 ) ), [-1] ) ), axis=0 )\n",
        "  RVFFphases = tf.concat( ( np.pi / ( 2 * VFFinducingVar.omegas[1:VFFlength] ), tf.zeros(RVFFlength - VFFlength, dtype=default_float()) ), axis=0 )\n",
        "  RVFFphases = tf.concat( ( tf.constant([ np.pi / 2 ], dtype=default_float()), RVFFphases ), axis=0 )\n",
        "\n",
        "  RVFFinducingVar.omegas.assign( RVFFfrequencies )\n",
        "  RVFFinducingVar.phis.assign( RVFFphases )\n",
        "\n",
        "  RVFFmodel = gpflow.models.SGPR((X, Y), kernel2, RVFFinducingVar)\n",
        "\n",
        "  RVFFKuu = Kuu(RVFFinducingVar, kernel2)\n",
        "  VFFKuu = Kuu(VFFinducingVar, kernel2)\n",
        "\n",
        "  meanVFF, covVFF = VFFmodel.predict_f(Xtest, True, False)\n",
        "  meanRVFF, covRVFF = RVFFmodel.predict_f(Xtest, True, False)\n",
        "\n",
        "  plot(Xtest, [(meanVFF, tf.transpose(tf.linalg.diag_part(covVFF)), 'r', 'c'), (meanRVFF, tf.transpose(tf.linalg.diag_part(covRVFF)), 'b', 'g')])\n",
        "  print(\"If you can only see one mean function and one error bar, VFF and RVFF perfectly coincide.\")\n",
        "\n",
        "  print(\"RVFF model ELBO is %2.2f\" % RVFFmodel.elbo())\n",
        "  print(\"VFF model ELBO is %2.2f\" % VFFmodel.elbo())\n",
        "\n",
        "  return tf.math.reduce_sum(tf.math.abs(covRVFF-covVFF)) < tol and tf.math.reduce_sum(tf.math.abs(meanRVFF-meanVFF)) < tol\n",
        "\n",
        "print(testFeatureequivalence(1e-1))"
      ],
      "execution_count": null,
      "outputs": []
    },
    {
      "cell_type": "markdown",
      "metadata": {
        "id": "oM9RJ52KutSu",
        "colab_type": "text"
      },
      "source": [
        "# Feature comparison with Variational Fourier Features"
      ]
    },
    {
      "cell_type": "code",
      "metadata": {
        "id": "opaxDTiBu5Tr",
        "colab_type": "code",
        "colab": {}
      },
      "source": [
        "def getNextVFFmodel(VFFmodel, numAddedFrequencies):\n",
        "  VFFlength = len(VFFmodel.inducing_variable.omegas) + numAddedFrequencies\n",
        "\n",
        "  kernel3 = gpflow.kernels.Matern12(variance=1.0, lengthscales=0.7)\n",
        "\n",
        "  VFFinducingVar = VFF_IV.FourierFeatures1D(0,6, VFFlength)\n",
        "  newVFFmodel = gpflow.models.SGPR((X, Y), kernel3, VFFinducingVar)\n",
        "  # newVFFmodel.likelihood = VFFmodel.likelihood\n",
        "\n",
        "  return newVFFmodel\n",
        "\n",
        "def getNextRVFFmodel(RVFFmodel, numAddedFrequencies):\n",
        "  prevLength = len(RVFFmodel.inducing_variable)\n",
        "  RVFFlength = prevLength + numAddedFrequencies\n",
        "\n",
        "  RVFFinducingVar = RVFF_1D(a=0, b=6, M=RVFFlength)\n",
        "\n",
        "  highestOmega = tf.math.reduce_max(RVFFmodel.inducing_variable.omegas.read_value()).numpy()\n",
        "  newOmegas = tf.concat( [ RVFFmodel.inducing_variable.omegas.read_value(), np.random.uniform(0.5 * prevLength, 0.5 * RVFFlength, numAddedFrequencies) ], axis=0 )\n",
        "  newPhis = tf.concat( [ RVFFmodel.inducing_variable.phis.read_value(), np.random.uniform(0, 2 * np.pi, numAddedFrequencies) ], axis=0 )\n",
        "\n",
        "  RVFFinducingVar.omegas.assign( newOmegas )\n",
        "  RVFFinducingVar.phis.assign( newPhis )\n",
        "\n",
        "  newRVFFmodel = gpflow.models.SGPR((X, Y), RVFFmodel.kernel, RVFFinducingVar)\n",
        "  newRVFFmodel.likelihood = RVFFmodel.likelihood\n",
        "\n",
        "  gpflow.set_trainable(newRVFFmodel.inducing_variable.a, False)\n",
        "  gpflow.set_trainable(newRVFFmodel.inducing_variable.b, False)\n",
        "  gpflow.set_trainable(newRVFFmodel.inducing_variable.phis, False)\n",
        "  gpflow.set_trainable(newRVFFmodel.inducing_variable.omegas, False)\n",
        "  gpflow.set_trainable(newRVFFmodel.likelihood, True)\n",
        "\n",
        "  RVFFmodel.inducing_variable = RVFFinducingVar\n",
        "\n",
        "  return newRVFFmodel\n",
        "\n",
        "def getModels(numBasisFunctions):\n",
        "\n",
        "  if numBasisFunctions % 2 != 1:\n",
        "    return\n",
        "\n",
        "  kernel1 = gpflow.kernels.Matern12(variance=1.0, lengthscales=0.7)\n",
        "  kernel3 = gpflow.kernels.Matern12(variance=1.0, lengthscales=0.7)\n",
        "\n",
        "  # ==============================================================\n",
        "  # VFF model setup:\n",
        "  VFFlength = int(( numBasisFunctions + 1 ) / 2)\n",
        "  VFFinducingVar = VFF_IV.FourierFeatures1D(0, 6, VFFlength)\n",
        "  VFFmodel = gpflow.models.SGPR((X, Y), kernel1, VFFinducingVar)\n",
        "  # ==============================================================\n",
        "\n",
        "  # ==============================================================\n",
        "  # RVFF model, with randomly initialised frequencies:\n",
        "  RVFFlength = numBasisFunctions #2 * VFFlength - 1\n",
        "  inducing_variable = RVFF_1D( a=0, b=6, M=RVFFlength )\n",
        "\n",
        "  RVFFmodel = gpflow.models.SGPR( (X, Y), kernel=kernel3, inducing_variable=inducing_variable )\n",
        "  # ==============================================================\n",
        "\n",
        "  # ==============================================================\n",
        "  # Trainable parameters setup:\n",
        "  gpflow.set_trainable(kernel1, True)\n",
        "  gpflow.set_trainable(kernel3, True)\n",
        "\n",
        "  gpflow.set_trainable(VFFmodel.inducing_variable.a, False)\n",
        "  gpflow.set_trainable(VFFmodel.inducing_variable.b, False)\n",
        "  gpflow.set_trainable(VFFmodel.likelihood, True)\n",
        "\n",
        "  gpflow.set_trainable(RVFFmodel.inducing_variable.a, False)\n",
        "  gpflow.set_trainable(RVFFmodel.inducing_variable.b, False)\n",
        "  gpflow.set_trainable(RVFFmodel.inducing_variable.phis, False)\n",
        "  gpflow.set_trainable(RVFFmodel.inducing_variable.omegas, False)\n",
        "  gpflow.set_trainable(RVFFmodel.likelihood, True)\n",
        "\n",
        "  # ==============================================================\n",
        "\n",
        "  return VFFmodel, RVFFmodel\n",
        "\n",
        "# ==============================================================\n",
        "# Loss function:\n",
        "@tf.function\n",
        "def loss(model):\n",
        "  def loss_closure():\n",
        "    return -model.elbo()\n",
        "  return loss_closure\n",
        "# ==============================================================\n",
        "\n",
        "def initializeVariables(vars):\n",
        "  for var in vars:\n",
        "    var.assign( tf.random.normal( shape=var.numpy().shape, mean=var, dtype=default_float() ) )\n",
        "\n",
        "  return vars\n",
        "\n",
        "# optimizer = tf.optimizers.Adam(learning_rate=0.001)\n",
        "optimizer = gpflow.optimizers.Scipy()\n",
        "\n",
        "def train(model, maxIterPerModel, ELBOtolerance):\n",
        "\n",
        "  print(\"\\n===================================================================\")\n",
        "  print(\"====================== TRAINING NEW MODEL =========================\")\n",
        "  print(\"===================================================================\\n\")\n",
        "\n",
        "  result = optimizer.minimize(loss(model), initializeVariables(model.trainable_variables), step_callback=callback, options=dict(maxiter=1000, disp=True))\n",
        "\n",
        "  print(\"result:\")\n",
        "  print(result.message)\n",
        "\n",
        "  print(model.elbo())\n",
        "\n",
        "\n",
        "#   prevElbo = model.elbo() + 2 * ELBOtolerance\n",
        "\n",
        "#   for i in range(maxIterPerModel):\n",
        "#     if i % 100 == 0:\n",
        "#       elbo = model.elbo()\n",
        "#       print(\"Iteration %2d\" % i)\n",
        "#       print(\"Kernel lengthscale: %2.2f\" % model.kernel.lengthscales.read_value() )\n",
        "#       print(\"Kernel variance: %2.2f\" % model.kernel.variance.read_value() )\n",
        "#       print(\"Model likelihood variance: %2.2f\" % model.likelihood.variance.read_value() )\n",
        "#       print(\"Model ELBO: %2.2f\" % elbo )\n",
        "\n",
        "#       # mean, std = model.predict_f(Xtest, False, False)\n",
        "#       # std = tf.sqrt(std)\n",
        "#       # plot(Xtest, [(mean, std, 'r', 'c')])\n",
        "\n",
        "#       if tf.abs( prevElbo - elbo ) < ELBOtolerance:\n",
        "#         break\n",
        "\n",
        "#       prevElbo = elbo\n",
        "\n",
        "#     optimizer.minimize( loss=loss(model), var_list=model.trainable_variables )\n",
        "\n",
        "#   print(\"Final ELBO is %2.2f\" % model.elbo().numpy())\n",
        "\n",
        "  return model.elbo().numpy()\n",
        "\n",
        "def transposeListOfLists(l):\n",
        "  l = np.array(l)\n",
        "  l = l.T\n",
        "  return l.tolist()\n",
        "\n",
        "numAddedFeatures = 1\n",
        "\n",
        "numOfBasis = list(np.arange(21, 150, numAddedFeatures))\n",
        "models = list(getModels(21))\n",
        "\n",
        "elbos = list()\n",
        "# unoptimisedRVFFelbos = list()\n",
        "\n",
        "prevELBOS = [ -1000, -1000 ]\n",
        "\n",
        "for length in numOfBasis:\n",
        "  # unoptimisedRVFFelbos.append(models[1].elbo().numpy())\n",
        "  currentELBOS = []\n",
        "  print(\"Current number of basis functions: %3d\" % length)\n",
        "  for i, model in enumerate(models):\n",
        "    newELBO = train(model, 10000, 10e-2)\n",
        "    \n",
        "    while newELBO < prevELBOS[i]:\n",
        "      newELBO = train(model, 10000, 10e-2)\n",
        "    \n",
        "    currentELBOS.append( newELBO )\n",
        "  prevELBOS = list(currentELBOS)\n",
        "  elbos.append(currentELBOS)\n",
        "  models[0] = getNextVFFmodel(models[0], numAddedFeatures)\n",
        "  models[1] = getNextRVFFmodel(models[1], numAddedFeatures)\n",
        "\n",
        "elbos = transposeListOfLists(elbos)\n",
        "\n",
        "VFFelbos = elbos[0]\n",
        "RVFFelbos = elbos[1]\n",
        "\n",
        "plt.plot(numOfBasis, VFFelbos)\n",
        "plt.plot(numOfBasis, RVFFelbos)\n",
        "# plt.plot(numOfBasis, unoptimisedRVFFelbos)\n",
        "\n",
        "plt.show()"
      ],
      "execution_count": null,
      "outputs": []
    },
    {
      "cell_type": "code",
      "metadata": {
        "id": "93mNFsbjndtc",
        "colab_type": "code",
        "colab": {}
      },
      "source": [
        "start = 0\n",
        "\n",
        "plt.plot(numOfBasis[start:], VFFelbos[start:])\n",
        "plt.plot(numOfBasis[start:], RVFFelbos[start:])\n",
        "# plt.plot(numOfBasis[start:], unoptimisedRVFFelbos[start:])\n",
        "plt.legend([\"VFF\", \"RVFF\"])\n",
        "plt.show()"
      ],
      "execution_count": null,
      "outputs": []
    }
  ]
}