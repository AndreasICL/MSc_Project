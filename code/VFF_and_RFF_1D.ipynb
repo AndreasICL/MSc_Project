{
  "nbformat": 4,
  "nbformat_minor": 0,
  "metadata": {
    "colab": {
      "name": "VFF_and_RFF_1D.ipynb",
      "provenance": [],
      "toc_visible": true,
      "authorship_tag": "ABX9TyN6Cba8PTuKM+YW1IbfXWfA",
      "include_colab_link": true
    },
    "kernelspec": {
      "name": "python3",
      "display_name": "Python 3"
    }
  },
  "cells": [
    {
      "cell_type": "markdown",
      "metadata": {
        "id": "view-in-github",
        "colab_type": "text"
      },
      "source": [
        "<a href=\"https://colab.research.google.com/github/AndreasICL/MSc_Project/blob/master/code/VFF_and_RFF_1D.ipynb\" target=\"_parent\"><img src=\"https://colab.research.google.com/assets/colab-badge.svg\" alt=\"Open In Colab\"/></a>"
      ]
    },
    {
      "cell_type": "code",
      "metadata": {
        "id": "fW-B5syh75r4",
        "colab_type": "code",
        "colab": {}
      },
      "source": [
        "!pip install tensorflow==2.2.0 > /dev/null\n",
        "!pip install gpflow > /dev/null\n",
        "!pip install gast > /dev/null\n",
        "!pip install observations > /dev/null"
      ],
      "execution_count": 1,
      "outputs": []
    },
    {
      "cell_type": "code",
      "metadata": {
        "id": "u3cwbeHz8Exr",
        "colab_type": "code",
        "colab": {}
      },
      "source": [
        "from typing import Tuple, Optional\n",
        "import tempfile\n",
        "import pathlib\n",
        "\n",
        "import datetime\n",
        "import io\n",
        "import matplotlib.pyplot as plt\n",
        "\n",
        "import numpy as np\n",
        "import tensorflow as tf\n",
        "import gpflow\n",
        "\n",
        "import matplotlib.pyplot as plt\n",
        "\n",
        "from gpflow.config import default_float, default_jitter\n",
        "from gpflow.ci_utils import ci_niter\n",
        "from gpflow.utilities import to_default_float\n",
        "from gpflow.base import TensorLike\n",
        "from gpflow import covariances as cov\n",
        "from gpflow import kullback_leiblers as kl\n",
        "from gpflow.covariances import Kuu\n",
        "from gpflow.covariances import Kuf\n",
        "\n",
        "from __future__ import absolute_import\n",
        "from __future__ import division\n",
        "from __future__ import print_function\n",
        "\n",
        "import csv\n",
        "import numpy as np\n",
        "import os\n",
        "import sys\n",
        "from shutil import copyfile, rmtree\n",
        "import pickle \n",
        "\n",
        "import observations\n",
        "\n",
        "import warnings\n",
        "\n",
        "warnings.filterwarnings(\"ignore\")\n",
        "sys.path.insert(0,'./VFF/')\n",
        "\n",
        "import VFF_IV\n",
        "from RVFF_IV_1D import RVFF_1D"
      ],
      "execution_count": 2,
      "outputs": []
    },
    {
      "cell_type": "markdown",
      "metadata": {
        "id": "y5FxoiegAZe1",
        "colab_type": "text"
      },
      "source": [
        "Make `tensorboard` work inside notebook:"
      ]
    },
    {
      "cell_type": "code",
      "metadata": {
        "id": "YmCOr2hs8355",
        "colab_type": "code",
        "colab": {}
      },
      "source": [
        "output_logdir = \"/tmp/tensorboard\"\n",
        "\n",
        "!rm -rf \"{output_logdir}\"\n",
        "!mkdir \"{output_logdir}\"\n",
        "\n",
        "%load_ext tensorboard\n",
        "%matplotlib inline\n",
        "\n",
        "\n",
        "def enumerated_logdir(_logdir_id: int = [0]):\n",
        "    logdir = pathlib.Path(output_logdir, str(_logdir_id[0]))\n",
        "    _logdir_id[0] += 1\n",
        "    return str(logdir)"
      ],
      "execution_count": 3,
      "outputs": []
    },
    {
      "cell_type": "markdown",
      "metadata": {
        "id": "8A27JdlvAZfE",
        "colab_type": "text"
      },
      "source": [
        "Set up random seeds and default float for `gpflow` tensors:"
      ]
    },
    {
      "cell_type": "code",
      "metadata": {
        "id": "flnWsQF1_h3W",
        "colab_type": "code",
        "colab": {}
      },
      "source": [
        "gpflow.config.set_default_float(np.float64)\n",
        "np.random.seed(0)\n",
        "tf.random.set_seed(0)"
      ],
      "execution_count": 4,
      "outputs": []
    },
    {
      "cell_type": "markdown",
      "metadata": {
        "id": "eJsA3bUEAZfP",
        "colab_type": "text"
      },
      "source": [
        "## Loading the snelson dataset"
      ]
    },
    {
      "cell_type": "code",
      "metadata": {
        "id": "uZDkEmxQEqqN",
        "colab_type": "code",
        "colab": {}
      },
      "source": [
        "'''\n",
        "  This code was copied from https://github.com/edwardlib/observations/blob/master/observations/snelson1d.py\n",
        "  on 01/05/2020\n",
        "'''\n",
        "\n",
        "from observations.util import maybe_download_and_extract\n",
        "\n",
        "\n",
        "def snelson1d(path):\n",
        "  \"\"\"Load Edward Snelson's 1d regression data set [@snelson2006fitc].\n",
        "  It contains 200 examples of a few oscillations of an example function. It has\n",
        "  seen extensive use as a toy dataset for illustrating qualitative behaviour of\n",
        "  Gaussian process approximations.\n",
        "  Args:\n",
        "    path: str.\n",
        "      Path to directory which either stores file or otherwise file will be\n",
        "      downloaded and extracted there. Filenames are `snelson_train_*`.\n",
        "  Returns:\n",
        "    Tuple of two np.darray `inputs` and `outputs` with 200 rows and 1 column.\n",
        "  \"\"\"\n",
        "  path = os.path.expanduser(path)\n",
        "  inputs_path = os.path.join(path, 'snelson_train_inputs')\n",
        "  outputs_path = os.path.join(path, 'snelson_train_outputs')\n",
        "\n",
        "  # Contains all source as well. We just need the data.\n",
        "  url = 'http://www.gatsby.ucl.ac.uk/~snelson/SPGP_dist.zip'\n",
        "\n",
        "  if not (os.path.exists(inputs_path) and os.path.exists(outputs_path)):\n",
        "    maybe_download_and_extract(path, url)\n",
        "\n",
        "    # Copy the required data\n",
        "    copyfile(os.path.join(path, \"SPGP_dist\", \"train_inputs\"), inputs_path)\n",
        "    copyfile(os.path.join(path, \"SPGP_dist\", \"train_outputs\"), outputs_path)\n",
        "\n",
        "    # Clean up everything else\n",
        "    rmtree(os.path.join(path, \"SPGP_dist\"))\n",
        "    os.remove(os.path.join(path, \"SPGP_dist.zip\"))\n",
        "\n",
        "  X = np.loadtxt(os.path.join(inputs_path))[:, None]\n",
        "  Y = np.loadtxt(os.path.join(outputs_path))[:, None]\n",
        "\n",
        "  return X, Y"
      ],
      "execution_count": 5,
      "outputs": []
    },
    {
      "cell_type": "code",
      "metadata": {
        "id": "5cwgLNj8Hw2h",
        "colab_type": "code",
        "colab": {}
      },
      "source": [
        "X, Y = snelson1d(\".\")\n",
        "num_train_data = X.shape[0]"
      ],
      "execution_count": 6,
      "outputs": []
    },
    {
      "cell_type": "markdown",
      "metadata": {
        "id": "Zg8Cz-6OAZfb",
        "colab_type": "text"
      },
      "source": [
        "Working with TensorFlow Datasets is an efficient way to rapidly shuffle, iterate, and batch from data. For `prefetch` size we use `tf.data.experimental.AUTOTUNE` as recommended by TensorFlow [guidelines](https://www.tensorflow.org/guide/data_performance)."
      ]
    },
    {
      "cell_type": "code",
      "metadata": {
        "id": "DUfgEr7aAZfc",
        "colab_type": "code",
        "colab": {
          "base_uri": "https://localhost:8080/",
          "height": 69
        },
        "outputId": "f1975e3e-dc78-4eef-eef0-57ed7e1027d9"
      },
      "source": [
        "train_dataset = tf.data.Dataset.from_tensor_slices((X, Y))\n",
        "\n",
        "batch_size = 32\n",
        "num_features = 10\n",
        "prefetch_size = tf.data.experimental.AUTOTUNE\n",
        "shuffle_buffer_size = num_train_data // 2\n",
        "num_batches_per_epoch = num_train_data // batch_size\n",
        "\n",
        "original_train_dataset = train_dataset\n",
        "train_dataset = (\n",
        "    train_dataset.repeat()\n",
        "    .prefetch(prefetch_size)\n",
        "    .shuffle(buffer_size=shuffle_buffer_size)\n",
        "    .batch(batch_size)\n",
        ")\n",
        "\n",
        "print(f\"prefetch_size={prefetch_size}\")\n",
        "print(f\"shuffle_buffer_size={shuffle_buffer_size}\")\n",
        "print(f\"num_batches_per_epoch={num_batches_per_epoch}\")"
      ],
      "execution_count": 7,
      "outputs": [
        {
          "output_type": "stream",
          "text": [
            "prefetch_size=-1\n",
            "shuffle_buffer_size=100\n",
            "num_batches_per_epoch=6\n"
          ],
          "name": "stdout"
        }
      ]
    },
    {
      "cell_type": "code",
      "metadata": {
        "id": "Cw0x2y48cvDj",
        "colab_type": "code",
        "colab": {}
      },
      "source": [
        "from gpflow.conditionals import conditional\n",
        "\n",
        "def plot(Xtest, models):\n",
        "\n",
        "  for (mean, std, meanColour, stdColour) in models:\n",
        "    plt.plot(Xtest, mean, color=meanColour)\n",
        "\n",
        "    plt.plot(Xtest, mean + std, color=stdColour)\n",
        "    plt.plot(Xtest, mean - std, color=stdColour)\n",
        "    plt.fill_between(np.squeeze(Xtest), np.squeeze(mean + std), np.squeeze(mean - std), color=stdColour, alpha=0.2)\n",
        "  \n",
        "\n",
        "  plt.scatter(X, Y, s=15)\n",
        "\n",
        "  plt.show()\n",
        "\n"
      ],
      "execution_count": 8,
      "outputs": []
    },
    {
      "cell_type": "markdown",
      "metadata": {
        "id": "x39wkv8EU6CT",
        "colab_type": "text"
      },
      "source": [
        "#Model Definition:\n",
        "\n",
        "###We use exact inference first"
      ]
    },
    {
      "cell_type": "code",
      "metadata": {
        "id": "H_4SWCm5VV8H",
        "colab_type": "code",
        "colab": {
          "base_uri": "https://localhost:8080/",
          "height": 69
        },
        "outputId": "1fea53b2-0530-40aa-a26f-f569c69cc65e"
      },
      "source": [
        "\n",
        "kernel = gpflow.kernels.Matern12(variance=0.5, lengthscales=0.5)\n",
        "likelihood = gpflow.likelihoods.Gaussian()\n",
        "\n",
        "exactModel = gpflow.models.GPR( (X, Y), kernel )\n",
        "\n",
        "gpflow.utilities.set_trainable(kernel.lengthscales, True)\n",
        "gpflow.utilities.set_trainable(kernel.variance, True)\n",
        "\n",
        "optimizer = tf.optimizers.Adam(learning_rate=0.01)\n",
        "\n",
        "@tf.function\n",
        "def loss_closure():\n",
        "  return -exactModel.log_marginal_likelihood()\n",
        "\n",
        "optimizer = gpflow.optimizers.Scipy()\n",
        "result = optimizer.minimize(loss_closure, exactModel.trainable_variables, options=dict(maxiter=1000, disp=True))\n",
        "\n",
        "print(\"result:\")\n",
        "print(result.message)\n",
        "\n",
        "print(exactModel.log_marginal_likelihood())\n",
        "\n",
        "Xtest = np.arange(0.0, 6.0, 0.01).reshape(-1, 1)\n",
        "\n",
        "# for i in range(1000):\n",
        "#   if i % 200 == 0:\n",
        "#     print(i)\n",
        "#     print(\"kernel lengthscale: %2.2f\" % kernel.lengthscales.read_value())\n",
        "#     print(\"kernel variance: %2.2f\" % kernel.variance.read_value())\n",
        "#     print(\"Exact model log p(y): %2.2f\" % exactModel.log_marginal_likelihood() )\n",
        "#     print(\"=\" * 70)\n",
        "\n",
        "#   optimizer.minimize( loss=loss_closure, var_list=exactModel.trainable_variables )\n",
        "\n",
        "# print(\"Exact model log p(y): %2.2f\" % exactModel.log_marginal_likelihood() )"
      ],
      "execution_count": 9,
      "outputs": [
        {
          "output_type": "stream",
          "text": [
            "result:\n",
            "b'CONVERGENCE: REL_REDUCTION_OF_F_<=_FACTR*EPSMCH'\n",
            "tf.Tensor(-68.30588480647597, shape=(), dtype=float64)\n"
          ],
          "name": "stdout"
        }
      ]
    },
    {
      "cell_type": "markdown",
      "metadata": {
        "id": "JurwmO73VKF5",
        "colab_type": "text"
      },
      "source": [
        "###We now use approximate inference with Random Variational Fourier Features"
      ]
    },
    {
      "cell_type": "code",
      "metadata": {
        "id": "J1ekb08iAZfo",
        "colab_type": "code",
        "colab": {
          "base_uri": "https://localhost:8080/",
          "height": 352
        },
        "outputId": "cda25cf4-bcd5-48aa-c8d2-8b09fbf86269"
      },
      "source": [
        "from scipy.optimize import  fmin_l_bfgs_b\n",
        "from tensorflow_probability import optimizer\n",
        "\n",
        "tf.config.experimental_run_functions_eagerly(True)\n",
        "\n",
        "M = 100\n",
        "inducing_variable = RVFF_1D( a=0, b=6, M=M )\n",
        "\n",
        "kernel2 = gpflow.kernels.Matern12(variance=1.0, lengthscales=0.7)\n",
        "\n",
        "model = gpflow.models.SGPR(\n",
        "    (X, Y), kernel=kernel2, inducing_variable=inducing_variable\n",
        ")\n",
        "\n",
        "# optimizer = tf.optimizers.Adam(learning_rate=0.01)\n",
        "\n",
        "gpflow.set_trainable(kernel2.variance, True)\n",
        "gpflow.set_trainable(kernel2.lengthscales, True)\n",
        "gpflow.set_trainable(model.likelihood, True)\n",
        "gpflow.set_trainable(model.inducing_variable.a, False)\n",
        "gpflow.set_trainable(model.inducing_variable.b, False)\n",
        "gpflow.set_trainable(model.inducing_variable.phis, False)\n",
        "gpflow.set_trainable(model.inducing_variable.omegas, False)\n",
        "\n",
        "@tf.function\n",
        "def loss_closure():\n",
        "  return -model.elbo()\n",
        "\n",
        "def callback(step, variables, values):\n",
        "  if (step % 20 == 0):\n",
        "    print(model.elbo())\n",
        "    # print(model.inducing_variable.omegas)\n",
        "\n",
        "def assignParams(model, params):\n",
        "  \n",
        "\n",
        "@tf.function\n",
        "def loss(parameters):\n",
        "\n",
        "  with tf.GradientTape() as tape:\n",
        "    tape.watch(parameters)\n",
        "    assignParams(model, parameters)\n",
        "    loss = model.elbo()\n",
        "  grad = tape.gradient(loss, parameters)\n",
        "  return loss, flattenParams(grad)\n",
        "\n",
        "# def grad_function(variables):\n",
        "#   variables = tf.constant(variables)\n",
        "#   with tf.GradientTape(watch_accessed_variables=False) as tape:\n",
        "#     tape.watch(variables)\n",
        "#     loss_ = loss(variables)\n",
        "#   # vars = model.trainable_variables\n",
        "#   grads = tape.gradient(loss_, variables)\n",
        "\n",
        "#   print(\"grads:\")\n",
        "#   print(grads)  \n",
        "\n",
        "#   return loss_, grads\n",
        "\n",
        "def flattenParams(params):\n",
        "  params = list(params)\n",
        "  for i, _ in enumerate(params):\n",
        "    params[i] = np.array(params[i].numpy(), dtype=default_float()).reshape(-1)\n",
        "  \n",
        "  result = np.concatenate(params)\n",
        "  \n",
        "  return tf.constant(result)\n",
        "\n",
        "print(model.elbo())\n",
        "\n",
        "# optimizer = gpflow.optimizers.Scipy()\n",
        "# result = optimizer.minimize(loss_closure, model.trainable_variables, method='L-BFGS-B', step_callback=callback, options=dict(maxiter=1000, disp=True))\n",
        "result = optimizer.bfgs_minimize(value_and_gradients_function=loss, tolerance=1e-8, initial_position=flattenParams(model.trainable_variables), max_iterations=50)\n",
        "\n",
        "print(\"result:\")\n",
        "print(result.converged)\n",
        "\n",
        "print(model.elbo())\n",
        "# print(model.inducing_variable.omegas)\n",
        "\n",
        "# print(model.elbo())\n",
        "# minimize(loss, model.trainable_variables, tol=1e-3, method=\"BFGS\", options={'maxiter':1000, 'disp':True} )\n",
        "# print(model.elbo())\n",
        "\n",
        "# prevElbo = 1000\n",
        "\n",
        "# for i in range(10000):\n",
        "#   if i % 200 == 0:\n",
        "#     elbo = model.elbo()    \n",
        "#     print(\"Iteration: %2d\" % i)\n",
        "#     print(\"kernel lengthscale: %2.2f\" % kernel2.lengthscales.read_value())\n",
        "#     print(\"kernel variance: %2.2f\" % kernel2.variance.read_value())\n",
        "#     print(\"ELBO: %2.2f\" % elbo )\n",
        "#     print(\"=\" * 70)\n",
        "\n",
        "    # if tf.abs(prevElbo - elbo) < 1e-2:\n",
        "    #   break\n",
        "\n",
        "    # prevElbo = elbo\n",
        "\n",
        "  # optimizer.minimize( closure=loss_closure, tol=1e-2, variables=model.trainable_variables, method='BFGS', options=dict( disp=True ) )\n",
        "  # optimizer.minimize( loss=loss_closure, var_list=model.trainable_variables )\n",
        "\n",
        "\n",
        "mean, std = model.predict_f(Xtest, False, False)\n",
        "std = tf.sqrt(std)\n",
        "plot(Xtest, [(mean, std, 'r', 'c')])\n",
        "\n",
        "print( \"Variational Model ELBO is %3.2f\" % model.elbo() )"
      ],
      "execution_count": 33,
      "outputs": [
        {
          "output_type": "stream",
          "text": [
            "tf.Tensor(-219.82686204973555, shape=(), dtype=float64)\n",
            "result:\n",
            "tf.Tensor(False, shape=(), dtype=bool)\n",
            "tf.Tensor(-219.82686204973555, shape=(), dtype=float64)\n"
          ],
          "name": "stdout"
        },
        {
          "output_type": "display_data",
          "data": {
            "image/png": "[encoded data removed]",
            "text/plain": [
              "<Figure size 432x288 with 1 Axes>"
            ]
          },
          "metadata": {
            "tags": [],
            "needs_background": "light"
          }
        },
        {
          "output_type": "stream",
          "text": [
            "Variational Model ELBO is -219.83\n"
          ],
          "name": "stdout"
        }
      ]
    },
    {
      "cell_type": "code",
      "metadata": {
        "id": "bGNoVizs0lLs",
        "colab_type": "code",
        "colab": {}
      },
      "source": [
        "with open('./model', 'wb') as fp:\n",
        "    pickle.dump(model.trainable_parameters, fp)\n",
        "    pickle.dump(inducing_variable.omegas, fp)\n",
        "    pickle.dump(inducing_variable.phis, fp)\n",
        "    pickle.dump(model.likelihood.variance, fp)"
      ],
      "execution_count": null,
      "outputs": []
    },
    {
      "cell_type": "code",
      "metadata": {
        "id": "FCnyqPZRB0md",
        "colab_type": "code",
        "colab": {}
      },
      "source": [
        "mean, std = model.predict_f(Xtest, False, False)\n",
        "std = tf.sqrt(std)\n",
        "plot(Xtest, [(mean, std, 'r', 'c')])\n",
        "\n",
        "print(\"ELBO of SGPR model is %4.2f\" % model.elbo().numpy())\n",
        "print(\"log( p( Y | θ ) ) of exact GP is %4.2f\" % exactModel.log_marginal_likelihood().numpy())"
      ],
      "execution_count": null,
      "outputs": []
    },
    {
      "cell_type": "markdown",
      "metadata": {
        "id": "oM9RJ52KutSu",
        "colab_type": "text"
      },
      "source": [
        "# Feature comparison with Variational Fourier Features"
      ]
    },
    {
      "cell_type": "code",
      "metadata": {
        "id": "opaxDTiBu5Tr",
        "colab_type": "code",
        "colab": {}
      },
      "source": [
        "def getNextVFFmodel(VFFmodel, numAddedFrequencies):\n",
        "  VFFlength = len(VFFmodel.inducing_variable.omegas) + numAddedFrequencies\n",
        "\n",
        "  kernel3 = gpflow.kernels.Matern12(variance=1.0, lengthscales=0.7)\n",
        "\n",
        "  VFFinducingVar = VFF_IV.FourierFeatures1D(0,6, VFFlength)\n",
        "  newVFFmodel = gpflow.models.SGPR((X, Y), kernel3, VFFinducingVar)\n",
        "  # newVFFmodel.likelihood = VFFmodel.likelihood\n",
        "\n",
        "  return newVFFmodel\n",
        "\n",
        "def getNextRVFFmodel(RVFFmodel, numAddedFrequencies):\n",
        "  prevLength = len(RVFFmodel.inducing_variable)\n",
        "  RVFFlength = prevLength + numAddedFrequencies\n",
        "\n",
        "  RVFFinducingVar = RVFF_1D(a=0, b=6, M=RVFFlength)\n",
        "\n",
        "  highestOmega = tf.math.reduce_max(RVFFmodel.inducing_variable.omegas.read_value()).numpy()\n",
        "  newOmegas = tf.concat( [ RVFFmodel.inducing_variable.omegas.read_value(), np.random.uniform(0.5 * prevLength, 0.5 * RVFFlength, numAddedFrequencies) ], axis=0 )\n",
        "  newPhis = tf.concat( [ RVFFmodel.inducing_variable.phis.read_value(), np.random.uniform(0, 2 * np.pi, numAddedFrequencies) ], axis=0 )\n",
        "\n",
        "  RVFFinducingVar.omegas.assign( newOmegas )\n",
        "  RVFFinducingVar.phis.assign( newPhis )\n",
        "\n",
        "  newRVFFmodel = gpflow.models.SGPR((X, Y), RVFFmodel.kernel, RVFFinducingVar)\n",
        "  newRVFFmodel.likelihood = RVFFmodel.likelihood\n",
        "\n",
        "  gpflow.set_trainable(newRVFFmodel.inducing_variable.a, False)\n",
        "  gpflow.set_trainable(newRVFFmodel.inducing_variable.b, False)\n",
        "  gpflow.set_trainable(newRVFFmodel.inducing_variable.phis, False)\n",
        "  gpflow.set_trainable(newRVFFmodel.inducing_variable.omegas, False)\n",
        "  gpflow.set_trainable(newRVFFmodel.likelihood, True)\n",
        "\n",
        "  RVFFmodel.inducing_variable = RVFFinducingVar\n",
        "\n",
        "  return newRVFFmodel\n",
        "\n",
        "def getModels(numBasisFunctions):\n",
        "\n",
        "  if numBasisFunctions % 2 != 1:\n",
        "    return\n",
        "\n",
        "  kernel1 = gpflow.kernels.Matern12(variance=1.0, lengthscales=0.7)\n",
        "  kernel3 = gpflow.kernels.Matern12(variance=1.0, lengthscales=0.7)\n",
        "\n",
        "  # ==============================================================\n",
        "  # VFF model setup:\n",
        "  VFFlength = int(( numBasisFunctions + 1 ) / 2)\n",
        "  VFFinducingVar = VFF_IV.FourierFeatures1D(0, 6, VFFlength)\n",
        "  VFFmodel = gpflow.models.SGPR((X, Y), kernel1, VFFinducingVar)\n",
        "  # ==============================================================\n",
        "\n",
        "  # ==============================================================\n",
        "  # RVFF model, with randomly initialised frequencies:\n",
        "  RVFFlength = numBasisFunctions #2 * VFFlength - 1\n",
        "  inducing_variable = RVFF_1D( a=0, b=6, M=RVFFlength )\n",
        "\n",
        "  RVFFmodel = gpflow.models.SGPR( (X, Y), kernel=kernel3, inducing_variable=inducing_variable )\n",
        "  # ==============================================================\n",
        "\n",
        "  # ==============================================================\n",
        "  # Trainable parameters setup:\n",
        "  gpflow.set_trainable(kernel1, True)\n",
        "  gpflow.set_trainable(kernel3, True)\n",
        "\n",
        "  gpflow.set_trainable(VFFmodel.inducing_variable.a, False)\n",
        "  gpflow.set_trainable(VFFmodel.inducing_variable.b, False)\n",
        "  gpflow.set_trainable(VFFmodel.likelihood, True)\n",
        "\n",
        "  gpflow.set_trainable(RVFFmodel.inducing_variable.a, False)\n",
        "  gpflow.set_trainable(RVFFmodel.inducing_variable.b, False)\n",
        "  gpflow.set_trainable(RVFFmodel.inducing_variable.phis, False)\n",
        "  gpflow.set_trainable(RVFFmodel.inducing_variable.omegas, False)\n",
        "  gpflow.set_trainable(RVFFmodel.likelihood, True)\n",
        "\n",
        "  # ==============================================================\n",
        "\n",
        "  return VFFmodel, RVFFmodel\n",
        "\n",
        "# ==============================================================\n",
        "# Loss function:\n",
        "@tf.function\n",
        "def loss(model):\n",
        "  def loss_closure():\n",
        "    return -model.elbo()\n",
        "  return loss_closure\n",
        "# ==============================================================\n",
        "\n",
        "def initializeVariables(vars):\n",
        "  for var in vars:\n",
        "    var.assign( tf.random.normal( shape=var.numpy().shape, mean=var, dtype=default_float() ) )\n",
        "\n",
        "  return vars\n",
        "\n",
        "# optimizer = tf.optimizers.Adam(learning_rate=0.001)\n",
        "optimizer = gpflow.optimizers.Scipy()\n",
        "\n",
        "def train(model, maxIterPerModel, ELBOtolerance):\n",
        "\n",
        "  print(\"\\n===================================================================\")\n",
        "  print(\"====================== TRAINING NEW MODEL =========================\")\n",
        "  print(\"===================================================================\\n\")\n",
        "\n",
        "  result = optimizer.minimize(loss(model), initializeVariables(model.trainable_variables), step_callback=callback, options=dict(maxiter=1000, disp=True))\n",
        "\n",
        "  print(\"result:\")\n",
        "  print(result.message)\n",
        "\n",
        "  print(model.elbo())\n",
        "\n",
        "\n",
        "#   prevElbo = model.elbo() + 2 * ELBOtolerance\n",
        "\n",
        "#   for i in range(maxIterPerModel):\n",
        "#     if i % 100 == 0:\n",
        "#       elbo = model.elbo()\n",
        "#       print(\"Iteration %2d\" % i)\n",
        "#       print(\"Kernel lengthscale: %2.2f\" % model.kernel.lengthscales.read_value() )\n",
        "#       print(\"Kernel variance: %2.2f\" % model.kernel.variance.read_value() )\n",
        "#       print(\"Model likelihood variance: %2.2f\" % model.likelihood.variance.read_value() )\n",
        "#       print(\"Model ELBO: %2.2f\" % elbo )\n",
        "\n",
        "#       # mean, std = model.predict_f(Xtest, False, False)\n",
        "#       # std = tf.sqrt(std)\n",
        "#       # plot(Xtest, [(mean, std, 'r', 'c')])\n",
        "\n",
        "#       if tf.abs( prevElbo - elbo ) < ELBOtolerance:\n",
        "#         break\n",
        "\n",
        "#       prevElbo = elbo\n",
        "\n",
        "#     optimizer.minimize( loss=loss(model), var_list=model.trainable_variables )\n",
        "\n",
        "#   print(\"Final ELBO is %2.2f\" % model.elbo().numpy())\n",
        "\n",
        "  return model.elbo().numpy()\n",
        "\n",
        "def transposeListOfLists(l):\n",
        "  l = np.array(l)\n",
        "  l = l.T\n",
        "  return l.tolist()\n",
        "\n",
        "numAddedFeatures = 1\n",
        "\n",
        "numOfBasis = list(np.arange(21, 150, numAddedFeatures))\n",
        "models = list(getModels(21))\n",
        "\n",
        "elbos = list()\n",
        "# unoptimisedRVFFelbos = list()\n",
        "\n",
        "prevELBOS = [ -1000, -1000 ]\n",
        "\n",
        "for length in numOfBasis:\n",
        "  # unoptimisedRVFFelbos.append(models[1].elbo().numpy())\n",
        "  currentELBOS = []\n",
        "  print(\"Current number of basis functions: %3d\" % length)\n",
        "  for i, model in enumerate(models):\n",
        "    newELBO = train(model, 10000, 10e-2)\n",
        "    \n",
        "    while newELBO < prevELBOS[i]:\n",
        "      newELBO = train(model, 10000, 10e-2)\n",
        "    \n",
        "    currentELBOS.append( newELBO )\n",
        "  prevELBOS = list(currentELBOS)\n",
        "  elbos.append(currentELBOS)\n",
        "  models[0] = getNextVFFmodel(models[0], numAddedFeatures)\n",
        "  models[1] = getNextRVFFmodel(models[1], numAddedFeatures)\n",
        "\n",
        "elbos = transposeListOfLists(elbos)\n",
        "\n",
        "VFFelbos = elbos[0]\n",
        "RVFFelbos = elbos[1]\n",
        "\n",
        "plt.plot(numOfBasis, VFFelbos)\n",
        "plt.plot(numOfBasis, RVFFelbos)\n",
        "# plt.plot(numOfBasis, unoptimisedRVFFelbos)\n",
        "\n",
        "plt.show()"
      ],
      "execution_count": null,
      "outputs": []
    },
    {
      "cell_type": "code",
      "metadata": {
        "id": "93mNFsbjndtc",
        "colab_type": "code",
        "colab": {}
      },
      "source": [
        "start = 0\n",
        "\n",
        "plt.plot(numOfBasis[start:], VFFelbos[start:])\n",
        "plt.plot(numOfBasis[start:], RVFFelbos[start:])\n",
        "# plt.plot(numOfBasis[start:], unoptimisedRVFFelbos[start:])\n",
        "plt.legend([\"VFF\", \"RVFF\"])\n",
        "plt.show()"
      ],
      "execution_count": null,
      "outputs": []
    }
  ]
}